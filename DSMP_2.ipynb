{
 "cells": [
  {
   "cell_type": "code",
   "execution_count": null,
   "id": "1673c55c",
   "metadata": {},
   "outputs": [],
   "source": [
    "# Importing libraries\n",
    "import pandas as pd\n",
    "import warnings\n",
    "warnings.filterwarnings('ignore')\n",
    "import boto3\n",
    "from datetime import datetime\n",
    "import scipy\n",
    "from sklearn.preprocessing import StandardScaler\n",
    "import matplotlib.pyplot as plt\n",
    "# from kneed import KneeLocator\n",
    "from sklearn.datasets import make_blobs\n",
    "from sklearn.cluster import KMeans\n",
    "from sklearn.metrics import silhouette_score\n",
    "from sklearn.preprocessing import StandardScaler\n",
    "from sklearn.decomposition import PCA\n",
    "from mpl_toolkits.mplot3d import Axes3D\n",
    "import seaborn as sns\n",
    "import numpy as np\n",
    "from sklearn.linear_model import LinearRegression\n",
    "from sklearn.model_selection import train_test_split\n",
    "from sklearn.metrics import mean_squared_error\n",
    "from sklearn.metrics import r2_score\n",
    "from sklearn.ensemble import RandomForestClassifier\n",
    "from scipy.cluster.vq import kmeans\n",
    "from sklearn.ensemble import IsolationForest\n",
    "from sklearn.linear_model import LogisticRegression\n",
    "from sklearn.metrics import accuracy_score, confusion_matrix\n",
    "from sklearn.metrics import precision_recall_curve, roc_curve, auc\n",
    "from sklearn.neighbors import KNeighborsClassifier\n",
    "from sklearn.preprocessing import LabelEncoder\n",
    "from sklearn.metrics import confusion_matrix, classification_report"
   ]
  },
  {
   "cell_type": "code",
   "execution_count": null,
   "id": "349b207c",
   "metadata": {},
   "outputs": [],
   "source": [
    "# AWS Access Key, Secret Access Key and Session Token (This needs to be updated for each run)\n",
    "key =    'YOUR_KEY_HERE'\n",
    "secret = 'YOUR_SECRET_HERE'\n",
    "token =  'YOUR_TOKEN_HERE'"
   ]
  },
  {
   "cell_type": "code",
   "execution_count": null,
   "id": "d0752fad",
   "metadata": {},
   "outputs": [],
   "source": [
    "# Assigning the values of Bucket names and the raw data file name to variables\n",
    "raw_data_bucket = 'lloydsbanking'\n",
    "clean_data_bucket = 'lloydscleandata'\n",
    "raw_data = 'fake_transactions_set_2.csv'"
   ]
  },
  {
   "cell_type": "code",
   "execution_count": null,
   "id": "a213fba6",
   "metadata": {},
   "outputs": [],
   "source": [
    "# Reading data from CSV file stored in AWS S3 bucket and renaming the column names to follow a particular naming convention\n",
    "lloyds = pd.read_csv(\n",
    "    f\"s3://{raw_data_bucket}/{raw_data}\",\n",
    "    storage_options={\n",
    "        \"key\": 'YOUR_KEY_HERE',\n",
    "        \"secret\": 'YOUR_SECRET_HERE',\n",
    "        \"token\": 'YOUR_TOKEN_HERE'\n",
    "    },\n",
    ")\n",
    "\n",
    "lloyds = lloyds.rename(columns={'Account Number': 'Account_Number', 'Third Party Account Number' : 'Third_Party_Account_Number', 'Third Party Name' : 'Third_Party_Name'})"
   ]
  },
  {
   "cell_type": "code",
   "execution_count": null,
   "id": "0d825323",
   "metadata": {},
   "outputs": [],
   "source": [
    "# Displaying the rows and columns of 'lloyds'\n",
    "lloyds.shape"
   ]
  },
  {
   "cell_type": "code",
   "execution_count": null,
   "id": "1d365627",
   "metadata": {},
   "outputs": [],
   "source": [
    "# Displaying first 5 rows of the dataframe 'lloyds'\n",
    "lloyds.head(5)\n"
   ]
  },
  {
   "cell_type": "code",
   "execution_count": null,
   "id": "4cfce1af",
   "metadata": {},
   "outputs": [],
   "source": [
    "# Looping through the 'Date' column of 'lloyds' to modify the year format in the date from \"20\" to \"2020\" and updating it\n",
    "ite = 0\n",
    "for i in lloyds['Date']:\n",
    "    tmp = str(i).split('/')\n",
    "#     print(tmp[2])\n",
    "    if(tmp[2] == '20'):\n",
    "        tmp[2] = '2020'\n",
    "        lloyds['Date'][ite] =  datetime.strptime('/'.join(tmp), '%d/%m/%Y').strftime('%d/%m/%Y')\n",
    "    ite=ite + 1"
   ]
  },
  {
   "cell_type": "code",
   "execution_count": null,
   "id": "d017dcb4",
   "metadata": {},
   "outputs": [],
   "source": [
    "# Displaying the 'Date' column of the DataFrame 'lloyds'\n",
    "lloyds['Date']"
   ]
  },
  {
   "cell_type": "code",
   "execution_count": null,
   "id": "07bfe395",
   "metadata": {},
   "outputs": [],
   "source": [
    "# Adding a new column 'Type_of_Transaction' to 'lloyds'\n",
    "lloyds['Type_of_Transaction'] = ''"
   ]
  },
  {
   "cell_type": "code",
   "execution_count": null,
   "id": "42c2f618",
   "metadata": {},
   "outputs": [],
   "source": [
    "# Looping through the 'Amount' column of 'lloyds' \n",
    "# Updating the 'Type_of_Transaction' column as 'Debit' if the amount is negative, and 'Credit' if the amount is positive\n",
    "for i in range(len(lloyds['Amount'])):\n",
    "    if lloyds['Amount'][i] < 0:\n",
    "        lloyds['Type_of_Transaction'][i] = 'Debit'\n",
    "    else:\n",
    "        lloyds['Type_of_Transaction'][i] = 'Credit'"
   ]
  },
  {
   "cell_type": "code",
   "execution_count": null,
   "id": "78862a16",
   "metadata": {},
   "outputs": [],
   "source": [
    "# Splitting the 'Date' column of 'lloyds' into separate columns for day, month, and year using the str.split() method\n",
    "lloyds[[\"day\", \"month\", \"year\"]] = lloyds[\"Date\"].str.split(\"/\", expand = True)\n"
   ]
  },
  {
   "cell_type": "code",
   "execution_count": null,
   "id": "f2e91b7b",
   "metadata": {},
   "outputs": [],
   "source": [
    "# Updating the 'Third_Party_Account_Number' column of 'lloyds' to 1 where the 'Third_Party_Name' is 'Deliveroo' \n",
    "# Updating 2 where the 'Third_Party_Name' is 'Halifax'\n",
    "lloyds.loc[lloyds['Third_Party_Name'] == 'Deliveroo', 'Third_Party_Account_Number'] = 1\n",
    "lloyds.loc[lloyds['Third_Party_Name'] == 'Halifax', 'Third_Party_Account_Number'] = 2"
   ]
  },
  {
   "cell_type": "code",
   "execution_count": null,
   "id": "7daa9171",
   "metadata": {},
   "outputs": [],
   "source": [
    "# lloyds.to_csv(\"/Users/suriyaprakashvadivelu/Documents/Coursework/Mini-Project/lloyds.csv\", index = False)"
   ]
  },
  {
   "cell_type": "code",
   "execution_count": null,
   "id": "566b918a",
   "metadata": {},
   "outputs": [],
   "source": [
    "# Writing the contents of 'lloyds' to a CSV file named 'lloyds_2.csv' \n",
    "# Uploading it to the S3 bucket named 'lloydscleandata' using the storage options specified\n",
    "lloyds.to_csv(\n",
    "    f\"s3://{clean_data_bucket}/lloyds_2.csv\",\n",
    "    index=False,\n",
    "    storage_options={\n",
    "        \"key\": 'YOUR_KEY_HERE',\n",
    "        \"secret\": 'YOUR_SECRET_HERE',\n",
    "        \"token\": 'YOUR_TOKEN_HERE'\n",
    "    },\n",
    ")"
   ]
  },
  {
   "cell_type": "markdown",
   "id": "4f58622e",
   "metadata": {},
   "source": [
    "# Splitting data into C-C and C-B transactions"
   ]
  },
  {
   "cell_type": "code",
   "execution_count": null,
   "id": "5aa3e3ae",
   "metadata": {},
   "outputs": [],
   "source": [
    "# Creating a new dataframe 'df_customer' by selecting all rows of 'lloyds' where the value in the 'Third_Party_Name' column is null\n",
    "df_customer = lloyds.loc[lloyds['Third_Party_Name'].isnull()]"
   ]
  },
  {
   "cell_type": "code",
   "execution_count": null,
   "id": "f6b5cf6a",
   "metadata": {},
   "outputs": [],
   "source": [
    "# Displaying rows and columns of 'df_customer'\n",
    "df_customer.shape"
   ]
  },
  {
   "cell_type": "code",
   "execution_count": null,
   "id": "c9b2093d",
   "metadata": {},
   "outputs": [],
   "source": [
    "# Counting the number of occurrences of each unique value in the 'Third_Party_Name' column\n",
    "df_customer['Third_Party_Name'].value_counts()"
   ]
  },
  {
   "cell_type": "code",
   "execution_count": null,
   "id": "10203c27",
   "metadata": {},
   "outputs": [],
   "source": [
    "# Converting the 'Third_Party_Account_Number' column of 'df_customer' to integer data type\n",
    "df_customer['Third_Party_Account_Number'] = df_customer['Third_Party_Account_Number'].astype(int)"
   ]
  },
  {
   "cell_type": "code",
   "execution_count": null,
   "id": "83ebe13c",
   "metadata": {},
   "outputs": [],
   "source": [
    "# df_customer.to_csv(\"/Users/suriyaprakashvadivelu/Documents/Coursework/Mini-Project/cclloyds_2.csv\", index = False)"
   ]
  },
  {
   "cell_type": "code",
   "execution_count": null,
   "id": "83a79840",
   "metadata": {},
   "outputs": [],
   "source": [
    "# Exporting the clean customer data to a new CSV file in the 'split_data' folder of the clean data S3 bucket\n",
    "df_customer.to_csv(\n",
    "    f\"s3://{clean_data_bucket}/split_data/cclloyds_2.csv\",\n",
    "    index=False,\n",
    "    storage_options={\n",
    "        \"key\": 'YOUR_KEY_HERE',\n",
    "        \"secret\": 'YOUR_SECRET_HERE',\n",
    "        \"token\": 'YOUR_TOKEN_HERE'\n",
    "    },\n",
    ")"
   ]
  },
  {
   "cell_type": "code",
   "execution_count": null,
   "id": "7a709555",
   "metadata": {},
   "outputs": [],
   "source": [
    "# Creating a new dataframe df_merch by selecting all rows from the lloyds dataframe that are not in the 'df_customer' index\n",
    "df_merch = lloyds.loc[~lloyds.index.isin(df_customer.index)]"
   ]
  },
  {
   "cell_type": "code",
   "execution_count": null,
   "id": "af25bc87",
   "metadata": {},
   "outputs": [],
   "source": [
    "# Converting the 'Third_Party_Account_Number' column of 'df_merch' to integer data type\n",
    "df_merch['Third_Party_Account_Number'] = df_merch['Third_Party_Account_Number'].astype(int)"
   ]
  },
  {
   "cell_type": "code",
   "execution_count": null,
   "id": "eda77d5e",
   "metadata": {},
   "outputs": [],
   "source": [
    "# df_merch.to_csv(\"/Users/suriyaprakashvadivelu/Documents/Coursework/Mini-Project/cblloyds_2.csv\", index = False)"
   ]
  },
  {
   "cell_type": "code",
   "execution_count": null,
   "id": "b4f9f869",
   "metadata": {},
   "outputs": [],
   "source": [
    "# Exporting the clean merchant data to a new CSV file in the 'split_data' folder of the clean data S3 bucket\n",
    "df_merch.to_csv(\n",
    "    f\"s3://{clean_data_bucket}/split_data/cblloyds_2.csv\",\n",
    "    index=False,\n",
    "    storage_options={\n",
    "        \"key\": 'YOUR_KEY_HERE',\n",
    "        \"secret\": 'YOUR_SECRET_HERE',\n",
    "        \"token\": 'YOUR_TOKEN_HERE'\n",
    "    },\n",
    ")"
   ]
  },
  {
   "cell_type": "code",
   "execution_count": null,
   "id": "54567256",
   "metadata": {},
   "outputs": [],
   "source": [
    "# Displaying rows and columns of 'df_merch'\n",
    "df_merch.shape"
   ]
  },
  {
   "cell_type": "markdown",
   "id": "3e08737c",
   "metadata": {},
   "source": [
    "## Pulling data from Database"
   ]
  },
  {
   "cell_type": "code",
   "execution_count": null,
   "id": "930d71c1",
   "metadata": {},
   "outputs": [],
   "source": [
    "# Importing the mysql.connector to enable connection to a MySQL database\n",
    "import mysql.connector"
   ]
  },
  {
   "cell_type": "code",
   "execution_count": null,
   "id": "d2289539",
   "metadata": {},
   "outputs": [],
   "source": [
    "# Establishing connection with MySQL database using provided credantials\n",
    "from mysql.connector import Error\n",
    "\n",
    "try:\n",
    "    connection = mysql.connector.connect(host='lloydsbanking.cu5hh9wuea2p.us-east-1.rds.amazonaws.com',\n",
    "                                         database='lloyds_banking',\n",
    "                                         user='admin',\n",
    "                                         password='latchu1234')\n",
    "    if connection.is_connected():\n",
    "        db_Info = connection.get_server_info()\n",
    "        print(\"Connected to MySQL Server version \", db_Info)\n",
    "        cursor = connection.cursor()\n",
    "        cursor.execute(\"select database();\")\n",
    "        record = cursor.fetchone()\n",
    "        print(\"You're connected to database: \", record)\n",
    "\n",
    "except Error as e:\n",
    "    print(\"Error while connecting to MySQL\", e)\n"
   ]
  },
  {
   "cell_type": "code",
   "execution_count": null,
   "id": "cfbe93cc",
   "metadata": {},
   "outputs": [],
   "source": [
    "# Retrieving all customer records from lloyds banking database and converting them into a Pandas dataframe \n",
    "cursor.execute(\"Select * from lloyds_banking.customer_2\")\n",
    "cus = cursor.fetchall()\n",
    "customer = pd.DataFrame(cus, columns=[x[0] for x in cursor.description])"
   ]
  },
  {
   "cell_type": "code",
   "execution_count": null,
   "id": "7e9b9e59",
   "metadata": {},
   "outputs": [],
   "source": [
    "# Retrieving all customer group records from lloyds banking database and converting them into a Pandas dataframe.\n",
    "cursor.execute(\"Select * from lloyds_banking.cus_group_2\")\n",
    "cus_to_cus = cursor.fetchall()\n",
    "cus_group = pd.DataFrame(cus_to_cus, columns=[x[0] for x in cursor.description])"
   ]
  },
  {
   "cell_type": "code",
   "execution_count": null,
   "id": "435fda28",
   "metadata": {},
   "outputs": [],
   "source": [
    "# Retrieving all business group records from lloyds banking database and converting them into a Pandas dataframe.\n",
    "cursor.execute(\"Select * from lloyds_banking.bus_group_2\")\n",
    "cus_to_bus = cursor.fetchall()\n",
    "bus_group = pd.DataFrame(cus_to_bus, columns=[x[0] for x in cursor.description])"
   ]
  },
  {
   "cell_type": "code",
   "execution_count": null,
   "id": "081ced68",
   "metadata": {},
   "outputs": [],
   "source": [
    "# Retrieving all business group monthly records from lloyds banking database and converting them into a Pandas dataframe.\n",
    "cursor.execute(\"Select * from lloyds_banking.bus_group_mon_2\")\n",
    "bus_to_bus_mon = cursor.fetchall()\n",
    "bus_group_mon = pd.DataFrame(bus_to_bus_mon, columns=[x[0] for x in cursor.description])"
   ]
  },
  {
   "cell_type": "code",
   "execution_count": null,
   "id": "5e2c2374",
   "metadata": {},
   "outputs": [],
   "source": [
    "# Retrieving all customer group monthly records from lloyds banking database and converting them into a Pandas dataframe.\n",
    "cursor.execute(\"Select * from lloyds_banking.cus_group_mon_2\")\n",
    "cus_to_bus_mon = cursor.fetchall()\n",
    "cus_group_mon = pd.DataFrame(cus_to_bus_mon, columns=[x[0] for x in cursor.description])"
   ]
  },
  {
   "cell_type": "code",
   "execution_count": null,
   "id": "ca9cc6ff",
   "metadata": {},
   "outputs": [],
   "source": [
    "# Calculating the total yearly transactions for each account number in the bus_group_2 table \n",
    "# Storing the result in a Pandas dataframe called bus_group_tot\n",
    "cursor.execute(\"Select Account_Number, sum(Total_Amount) as Total_Yearly_Transaction from lloyds_banking.bus_group_2 group by 1\")\n",
    "bus_to_bus_tot = cursor.fetchall()\n",
    "bus_group_tot = pd.DataFrame(bus_to_bus_tot, columns=[x[0] for x in cursor.description])"
   ]
  },
  {
   "cell_type": "code",
   "execution_count": null,
   "id": "6306dc41",
   "metadata": {},
   "outputs": [],
   "source": [
    "# Calculating the total yearly transactions for each account number in the cus_group_2 table \n",
    "# Storing the result in a Pandas dataframe called cus_group_tot\n",
    "cursor.execute(\"Select Account_Number, sum(Total_Amount) as Total_Yearly_Transaction from lloyds_banking.cus_group_2 group by 1\")\n",
    "cus_to_bus_mon = cursor.fetchall()\n",
    "cus_group_tot = pd.DataFrame(cus_to_bus_mon, columns=[x[0] for x in cursor.description])"
   ]
  },
  {
   "cell_type": "code",
   "execution_count": null,
   "id": "ac96100b",
   "metadata": {},
   "outputs": [],
   "source": [
    "# Executing an SQL query to fetch the total amount of money spent by each customer on a monthly basis\n",
    "# Storing the result it in a list, and converts the list to a pandas dataframe with appropriate column names\n",
    "cursor.execute(\"select Account_Number, month_, sum(Amount) from cclloyds_2 group by 1,2\")\n",
    "cus_to_cus_mon_tot = cursor.fetchall()\n",
    "cus_group_mon_tot = pd.DataFrame(cus_to_cus_mon_tot, columns=[x[0] for x in cursor.description])"
   ]
  },
  {
   "cell_type": "code",
   "execution_count": null,
   "id": "9c1e50d7",
   "metadata": {},
   "outputs": [],
   "source": [
    "# Executing an SQL query to fetch the total amount of transactions per month and account number in 'cblloyds_2' \n",
    "# Storing results in 'bus_group_mon_tot' dataframe\n",
    "cursor.execute(\"select Account_Number, month_, sum(Amount) from cblloyds_2 group by 1,2\")\n",
    "bus_to_bus_mon_tot = cursor.fetchall()\n",
    "bus_group_mon_tot = pd.DataFrame(bus_to_bus_mon_tot, columns=[x[0] for x in cursor.description])"
   ]
  },
  {
   "cell_type": "code",
   "execution_count": null,
   "id": "03871c4c",
   "metadata": {},
   "outputs": [],
   "source": [
    "# Executing SQL query to group lloyds transactions by account number, third party account number and third party name \n",
    "# Storing the results in 'lloyds_group'\n",
    "cursor.execute(\"select Account_Number,Third_Party_Account_Number,Third_Party_Name,sum(Amount) as Total_Amount,count(Amount) as Number_of_Transaction from lloyds_2 group by 1,2,3\")\n",
    "lloyds_group = cursor.fetchall()\n",
    "lloyds_group = pd.DataFrame(lloyds_group, columns=[x[0] for x in cursor.description])"
   ]
  },
  {
   "cell_type": "code",
   "execution_count": null,
   "id": "4ea8a638",
   "metadata": {},
   "outputs": [],
   "source": [
    "# Executing SQL query to group lloyds transactions by account number, third party account number, third party name and month \n",
    "# Storing the results in 'lloyds_group_mon'\n",
    "cursor.execute(\"select Account_Number,Third_Party_Account_Number,Third_Party_Name,month_,sum(Amount) as Total_Amount,count(Amount) as Number_of_Transaction from lloyds_2 group by 1,2,3,4\")\n",
    "lloyds_group_mon = cursor.fetchall()\n",
    "lloyds_group_mon = pd.DataFrame(lloyds_group_mon, columns=[x[0] for x in cursor.description])"
   ]
  },
  {
   "cell_type": "code",
   "execution_count": null,
   "id": "2cc09100",
   "metadata": {},
   "outputs": [],
   "source": [
    "# Retrieving all data from the lloyds table and saves it as a pandas dataframe called 'lloyds_db'\n",
    "cursor.execute(\"select * from lloyds_2\")\n",
    "lloyds_db = cursor.fetchall()\n",
    "lloyds_db = pd.DataFrame(lloyds_db, columns=[x[0] for x in cursor.description])"
   ]
  },
  {
   "cell_type": "code",
   "execution_count": null,
   "id": "17e85fd5",
   "metadata": {},
   "outputs": [],
   "source": [
    "# Executing a SQL query to select all rows and columns from 'cclloyds_2' table in the database\n",
    "# Fetching the results and creating a pandas dataframe named 'ctoc_db'\n",
    "cursor.execute(\"select * from cclloyds_2\")\n",
    "ctoc_db = cursor.fetchall()\n",
    "ctoc_db = pd.DataFrame(ctoc_db, columns=[x[0] for x in cursor.description])"
   ]
  },
  {
   "cell_type": "code",
   "execution_count": null,
   "id": "18621d51",
   "metadata": {},
   "outputs": [],
   "source": [
    "# Executing a SQL query to select all rows and columns from 'cblloyds_2' table in the database\n",
    "# Fetching the results and creating a pandas dataframe named 'ctob_db'\n",
    "cursor.execute(\"select * from cblloyds_2\")\n",
    "ctob_db = cursor.fetchall()\n",
    "ctob_db = pd.DataFrame(ctob_db, columns=[x[0] for x in cursor.description])"
   ]
  },
  {
   "cell_type": "markdown",
   "id": "a17853a9",
   "metadata": {},
   "source": [
    "# EDA"
   ]
  },
  {
   "cell_type": "code",
   "execution_count": null,
   "id": "e9a1d2d9",
   "metadata": {},
   "outputs": [],
   "source": [
    "# Printing 'customer'\n",
    "customer"
   ]
  },
  {
   "cell_type": "markdown",
   "id": "2781c736",
   "metadata": {},
   "source": [
    "### We have 480 individual customers"
   ]
  },
  {
   "cell_type": "code",
   "execution_count": null,
   "id": "589406f1",
   "metadata": {},
   "outputs": [],
   "source": [
    "# Printing 'ctoc_db'\n",
    "ctoc_db"
   ]
  },
  {
   "cell_type": "code",
   "execution_count": null,
   "id": "959f7beb",
   "metadata": {},
   "outputs": [],
   "source": [
    "# Getting unique values in the 'year_' column of the 'ctoc_db' dataframe\n",
    "ctoc_db.year_.unique()"
   ]
  },
  {
   "cell_type": "code",
   "execution_count": null,
   "id": "e05f34c6",
   "metadata": {},
   "outputs": [],
   "source": [
    "# Replacing the value '20' in the 'year_' column of the 'ctoc_db' dataframe with '2020'\n",
    "ctoc_db['year_'] = ctoc_db['year_'].replace(20, 2020)"
   ]
  },
  {
   "cell_type": "code",
   "execution_count": null,
   "id": "1bfe022d",
   "metadata": {},
   "outputs": [],
   "source": [
    "# Displaying rows and columns of 'ctob_db'\n",
    "ctoc_db.shape"
   ]
  },
  {
   "cell_type": "code",
   "execution_count": null,
   "id": "f1bc456e",
   "metadata": {},
   "outputs": [],
   "source": [
    "# Getting the top 10 most frequent account numbers in 'ctoc_db'\n",
    "top_10_acc = ctoc_db.Account_Number.value_counts().nlargest(10)"
   ]
  },
  {
   "cell_type": "code",
   "execution_count": null,
   "id": "096d2674",
   "metadata": {},
   "outputs": [],
   "source": [
    "# Creating a barplot using seaborn with the top 10 account numbers and their transaction counts\n",
    "sns.set(rc={'figure.figsize':(20,8.27)})\n",
    "ax = sns.barplot(x=top_10_acc.index, y=top_10_acc.values, palette=\"Accent_r\")\n",
    "ax.set(xlabel='Account Numbers', ylabel='No. of Transactions')\n",
    "plt.show()"
   ]
  },
  {
   "cell_type": "code",
   "execution_count": null,
   "id": "4ac162c2",
   "metadata": {},
   "outputs": [],
   "source": [
    "# Selecting the top 10 receivers from the 'ctoc_db'\n",
    "top_10_receiver = ctoc_db.Third_Party_Account_Number.value_counts().nlargest(10)"
   ]
  },
  {
   "cell_type": "code",
   "execution_count": null,
   "id": "6af43499",
   "metadata": {},
   "outputs": [],
   "source": [
    "# Creating a barplot using seaborn with the top 10 receiving account numbers and their transaction counts\n",
    "sns.set(rc={'figure.figsize':(20,8.27)})\n",
    "ax = sns.barplot(x=top_10_receiver.index, y=top_10_receiver.values, palette=\"Accent_r\")\n",
    "ax.set(xlabel='Receiving Account Numbers', ylabel='No. of Transactions')\n",
    "plt.show()"
   ]
  },
  {
   "cell_type": "code",
   "execution_count": null,
   "id": "def7b719",
   "metadata": {},
   "outputs": [],
   "source": [
    "# Displaying first 5 rows of 'ctoc_db'\n",
    "ctoc_db.head()"
   ]
  },
  {
   "cell_type": "code",
   "execution_count": null,
   "id": "7245ce25",
   "metadata": {},
   "outputs": [],
   "source": [
    "# Finding the average transactions made in C-C transactions\n",
    "print('Average C-C transactions: ',ctoc_db.Amount.mean())\n",
    "\n",
    "# Finding the minimum transaction made in C-C transactions\n",
    "print('Minimum C-C transactions: ',ctoc_db.Amount.min())\n",
    "\n",
    "# Finding the maximum transaction made in C-C transactions\n",
    "print('Maximum C-C transactions: ',ctoc_db.Amount.max())"
   ]
  },
  {
   "cell_type": "code",
   "execution_count": null,
   "id": "2ed160ce",
   "metadata": {},
   "outputs": [],
   "source": [
    "# Creating a line plot using Seaborn to visualize the trend of transaction amounts over months\n",
    "sns.lineplot(data=ctoc_db, x=\"month_\", y=\"Amount\")"
   ]
  },
  {
   "cell_type": "code",
   "execution_count": null,
   "id": "4c741bb2",
   "metadata": {},
   "outputs": [],
   "source": [
    "# Creating a countplot using Seaborn to show the frequency of each transaction type in the 'ctoc_db'\n",
    "sns.countplot(x=ctoc_db[\"Type_of_Transaction\"])"
   ]
  },
  {
   "cell_type": "markdown",
   "id": "69a24ca0",
   "metadata": {},
   "source": [
    "### We can clearly see from the visualization that we have almost equal debit and credit"
   ]
  },
  {
   "cell_type": "code",
   "execution_count": null,
   "id": "863ebea7",
   "metadata": {},
   "outputs": [],
   "source": [
    "# Printing 'cus_group'\n",
    "cus_group"
   ]
  },
  {
   "cell_type": "code",
   "execution_count": null,
   "id": "da9ef156",
   "metadata": {},
   "outputs": [],
   "source": [
    "# Generating a histogram of the total transaction amounts for customer-to-customer transactions\n",
    "plt.hist(cus_group['Total_Amount'], bins=20)\n",
    "plt.xlabel('Total Amount')\n",
    "plt.ylabel('Frequency')\n",
    "plt.title('Histogram of Total Transaction Amounts')\n",
    "plt.show()"
   ]
  },
  {
   "cell_type": "markdown",
   "id": "fbc5a8cc",
   "metadata": {},
   "source": [
    "## We can clearly see from the visualization that most amount of transactions are around 0"
   ]
  },
  {
   "cell_type": "code",
   "execution_count": null,
   "id": "897f89e3",
   "metadata": {},
   "outputs": [],
   "source": [
    "# Group by third-party account number and sum the number of transactions for each account\n",
    "top_10 = cus_group.groupby('Third_Party_Account_Number')['Number_of_Transaction'].sum().sort_values(ascending=False)[:10]\n",
    "\n",
    "# Creating a barplot to show the top 10 most transacted third-party accounts\n",
    "plt.figure(figsize=(10, 6))\n",
    "sns.barplot(x=top_10.index, y=top_10.values)\n",
    "plt.xlabel('Third-Party Account Number')\n",
    "plt.ylabel('Number of Transactions')\n",
    "plt.title('Top 10 Most Transacted Third-Party Accounts')\n",
    "plt.show()"
   ]
  },
  {
   "cell_type": "markdown",
   "id": "8f8bbfe7",
   "metadata": {},
   "source": [
    "## Account number 1036 has highest number of transactions"
   ]
  },
  {
   "cell_type": "code",
   "execution_count": null,
   "id": "f7c85b8b",
   "metadata": {},
   "outputs": [],
   "source": [
    "# Creating a scatter plot to visualize the relationship between Number_of_Transaction and Total_Amount\n",
    "# Using 'Account_Number' variable to color code the points\n",
    "sns.scatterplot(x=\"Number_of_Transaction\", y=\"Total_Amount\", hue=\"Account_Number\", data=cus_group)\n",
    "plt.title(\"Number of Transactions vs. Total Amount by Account Number\")\n",
    "plt.xlabel(\"Number of Transactions\")\n",
    "plt.ylabel(\"Total Amount\")\n",
    "plt.show()"
   ]
  },
  {
   "cell_type": "code",
   "execution_count": null,
   "id": "fabd7023",
   "metadata": {},
   "outputs": [],
   "source": [
    "# Displaying top 5 rows of 'cus_group_mon'\n",
    "cus_group_mon.head()"
   ]
  },
  {
   "cell_type": "code",
   "execution_count": null,
   "id": "e5d08bcf",
   "metadata": {},
   "outputs": [],
   "source": [
    "# Distribution of total amount by month\n",
    "sns.boxplot(x='month_', y='Total_Amount', data=cus_group_mon)\n",
    "plt.title('Distribution of Total Amount by Month')\n",
    "plt.xlabel('Month')\n",
    "plt.ylabel('Total Amount')\n",
    "plt.show()"
   ]
  },
  {
   "cell_type": "markdown",
   "id": "9f9a2ce7",
   "metadata": {},
   "source": [
    "### The data is very broadly spread around as the total amount varies vastly"
   ]
  },
  {
   "cell_type": "code",
   "execution_count": null,
   "id": "6d20df28",
   "metadata": {},
   "outputs": [],
   "source": [
    "# Printing 'cus_group_tot'\n",
    "cus_group_tot"
   ]
  },
  {
   "cell_type": "code",
   "execution_count": null,
   "id": "8a7a1d64",
   "metadata": {},
   "outputs": [],
   "source": [
    "# Grouping the data by 'Account_Number' and calculating the sum of 'Total_Yearly_Transaction'\n",
    "grouped_data = cus_group_tot.groupby('Account_Number')['Total_Yearly_Transaction'].sum()\n",
    "\n",
    "# Plotting a bar chart of the 'Total_Yearly_Transaction' for each Account Number\n",
    "plt.bar(grouped_data.index, grouped_data.values)\n",
    "plt.xlabel('Account Number')\n",
    "plt.ylabel('Total Yearly Transaction')\n",
    "plt.title('Total Yearly Transaction per Account Number')\n",
    "plt.show()"
   ]
  },
  {
   "cell_type": "code",
   "execution_count": null,
   "id": "b64dcc6b",
   "metadata": {},
   "outputs": [],
   "source": [
    "# Printing 'cus_group_mon_tot'\n",
    "cus_group_mon_tot"
   ]
  },
  {
   "cell_type": "code",
   "execution_count": null,
   "id": "410cfcff",
   "metadata": {},
   "outputs": [],
   "source": [
    "# Creating a line plot of total transaction amount over time for each account\n",
    "plt.figure(figsize=(12, 6))\n",
    "sns.lineplot(data=cus_group_mon_tot, x='month_', y='sum(Amount)', hue='Account_Number', palette='bright')\n",
    "plt.title('Total transaction amount over time for each account')\n",
    "plt.xlabel('Month')\n",
    "plt.ylabel('Total amount')\n",
    "plt.show()"
   ]
  },
  {
   "cell_type": "markdown",
   "id": "def08404",
   "metadata": {},
   "source": [
    "### Most of the accounts have lesser amount spent as months pass by"
   ]
  },
  {
   "cell_type": "code",
   "execution_count": null,
   "id": "e8f544fc",
   "metadata": {},
   "outputs": [],
   "source": [
    "# Heatmap of total transaction amount by account and month\n",
    "pivot_table = cus_group_mon_tot.pivot_table(index='Account_Number', columns='month_', values='sum(Amount)')\n",
    "plt.figure(figsize=(12, 6))\n",
    "sns.heatmap(pivot_table, cmap='coolwarm', annot=True, fmt='.0f')\n",
    "plt.title('Total transaction amount by account and month')\n",
    "plt.xlabel('Month')\n",
    "plt.ylabel('Account number')\n",
    "plt.show()"
   ]
  },
  {
   "cell_type": "markdown",
   "id": "b28d596f",
   "metadata": {},
   "source": [
    "## We can barely see red color since there aren't many positive amount transactions"
   ]
  },
  {
   "cell_type": "code",
   "execution_count": null,
   "id": "15fb779b",
   "metadata": {},
   "outputs": [],
   "source": [
    "# Filtering the dataframe to only include rows for a specific account number\n",
    "acct_df = cus_group_mon_tot[cus_group_mon_tot['Account_Number'] == 1036]\n",
    "\n",
    "# Grouping the dataframe by month and sum the Amount\n",
    "grouped_df = acct_df.groupby('month_')['sum(Amount)'].sum()\n",
    "\n",
    "# Plotting a line chart of the monthly sum of amount for the account number\n",
    "plt.plot(grouped_df.index, grouped_df.values)\n",
    "plt.xlabel('Month')\n",
    "plt.ylabel('Monthly Sum of Amount')\n",
    "plt.title('Monthly Sum of Amount for Account Number 1036')\n",
    "plt.show()"
   ]
  },
  {
   "cell_type": "markdown",
   "id": "d31346ae",
   "metadata": {},
   "source": [
    "### The Monthly sum is lesser as the number of months pass by"
   ]
  },
  {
   "cell_type": "markdown",
   "id": "f9004705",
   "metadata": {},
   "source": [
    "# Customer - Business Transactions EDA"
   ]
  },
  {
   "cell_type": "code",
   "execution_count": null,
   "id": "28e96756",
   "metadata": {},
   "outputs": [],
   "source": [
    "# Displaying top 5 rows of 'ctob_db'\n",
    "ctob_db.head()"
   ]
  },
  {
   "cell_type": "code",
   "execution_count": null,
   "id": "dcb004f6",
   "metadata": {},
   "outputs": [],
   "source": [
    "# Selecting the top 10 third-party names with the most transactions\n",
    "top_10_bus = ctob_db.Third_Party_Name.value_counts().nlargest(10)"
   ]
  },
  {
   "cell_type": "code",
   "execution_count": null,
   "id": "46ce6f15",
   "metadata": {},
   "outputs": [],
   "source": [
    "# Creating a barplot using seaborn with popular businesses and their transaction counts\n",
    "sns.set(rc={'figure.figsize':(20,8.27)})\n",
    "ax = sns.barplot(x=top_10_bus.index, y=top_10_bus.values, palette=\"Accent_r\")\n",
    "ax.set(xlabel='Popular Businesses', ylabel='No. of Transactions')\n",
    "plt.title('Top 10 Popular businesses')\n",
    "plt.show()"
   ]
  },
  {
   "cell_type": "markdown",
   "id": "ff40967d",
   "metadata": {},
   "source": [
    "## Co-op local is the most popular business amongst the transactions "
   ]
  },
  {
   "cell_type": "code",
   "execution_count": null,
   "id": "39bf1480",
   "metadata": {},
   "outputs": [],
   "source": [
    "# Finding the average transactions made in C-B transactions\n",
    "print('Average C-B transactions: ',ctob_db.Amount.mean())\n",
    "\n",
    "# Finding the minimum transactions made in C-B transactions\n",
    "print('Minimum C-B transactions: ',ctob_db.Amount.min())\n",
    "\n",
    "# Finding the maximum transactions made in C-B transactions\n",
    "print('Maximum C-B transactions: ',ctob_db.Amount.max())"
   ]
  },
  {
   "cell_type": "markdown",
   "id": "af02f575",
   "metadata": {},
   "source": [
    "## The mean amount of transactions is around 10 pounds. It is -ve since it is a debit"
   ]
  },
  {
   "cell_type": "code",
   "execution_count": null,
   "id": "2268f337",
   "metadata": {},
   "outputs": [],
   "source": [
    "# Creating a line plot using Seaborn to visualize the trend of transaction amounts over months\n",
    "sns.lineplot(data=ctob_db, x=\"month_\", y=\"Amount\")"
   ]
  },
  {
   "cell_type": "markdown",
   "id": "965d2b55",
   "metadata": {},
   "source": [
    "## Most money is transacted around March"
   ]
  },
  {
   "cell_type": "code",
   "execution_count": null,
   "id": "aed61881",
   "metadata": {},
   "outputs": [],
   "source": [
    "# Creating a line plot using Seaborn to visualize the trend of transaction amounts over each days of the month\n",
    "sns.lineplot(data=ctob_db, x=\"day_\", y=\"Amount\")"
   ]
  },
  {
   "cell_type": "markdown",
   "id": "60dd9843",
   "metadata": {},
   "source": [
    "# Through the visualization we can see that towards end of the month the amount of transactions gets increased"
   ]
  },
  {
   "cell_type": "code",
   "execution_count": null,
   "id": "f24de861",
   "metadata": {},
   "outputs": [],
   "source": [
    "# Creating a barplot that shows the count of transactions on each month of 'ctob_db'\n",
    "sns.countplot(x=ctob_db[\"month_\"])"
   ]
  },
  {
   "cell_type": "markdown",
   "id": "e90c0ff0",
   "metadata": {},
   "source": [
    "# It is very evident that first 3 months have highest number of transactions"
   ]
  },
  {
   "cell_type": "code",
   "execution_count": null,
   "id": "6adfe8bf",
   "metadata": {},
   "outputs": [],
   "source": [
    "# Creating a countplot using Seaborn to show the frequency of each transaction type in the 'ctoc_db'\n",
    "sns.countplot(x=ctob_db[\"Type_of_Transaction\"])"
   ]
  },
  {
   "cell_type": "markdown",
   "id": "415b1e0f",
   "metadata": {},
   "source": [
    "### Not like C-C in C-B transactions the debit is more when compared to credit"
   ]
  },
  {
   "cell_type": "code",
   "execution_count": null,
   "id": "ef10c61c",
   "metadata": {},
   "outputs": [],
   "source": [
    "# Displaying first 5 rows of 'ctob_db'\n",
    "ctob_db.head()"
   ]
  },
  {
   "cell_type": "code",
   "execution_count": null,
   "id": "324345be",
   "metadata": {},
   "outputs": [],
   "source": [
    "# Grouping the data by 'Account_Number' and counting the frequency of each group\n",
    "account_counts = ctob_db.groupby('Account_Number').size().reset_index(name='Frequency')\n",
    "\n",
    "# Sorting the groups in descending order based on frequency and selecting the top 50\n",
    "top_50_accounts = account_counts.sort_values(by='Frequency', ascending=False).head(50)\n",
    "\n",
    "# Displaying the top 50 accounts\n",
    "print(top_50_accounts)"
   ]
  },
  {
   "cell_type": "markdown",
   "id": "c5967abf",
   "metadata": {},
   "source": [
    "## Finding the top 20 accounts which have the highest frequency of transactions"
   ]
  },
  {
   "cell_type": "code",
   "execution_count": null,
   "id": "8734ee84",
   "metadata": {},
   "outputs": [],
   "source": [
    "# Creating a bar plot of top 50 frequently transacted account numbers\n",
    "plt.bar(top_50_accounts['Account_Number'], top_50_accounts['Frequency'])\n",
    "plt.xlabel('Account Number')\n",
    "plt.ylabel('Frequency')\n",
    "plt.title('Top 50 Most Frequently Transacted Account Numbers')\n",
    "plt.show()"
   ]
  },
  {
   "cell_type": "markdown",
   "id": "d8835749",
   "metadata": {},
   "source": [
    "## Plotting the most frequent transcating accounts"
   ]
  },
  {
   "cell_type": "code",
   "execution_count": null,
   "id": "249ec164",
   "metadata": {},
   "outputs": [],
   "source": [
    "# Creating a scatterplot of Amount vs Balance using the data from 'ctob_db'\n",
    "sns.scatterplot(x='Amount', y='Balance', data=ctob_db)\n",
    "plt.title('Amount vs Balance')\n",
    "plt.show()"
   ]
  },
  {
   "cell_type": "markdown",
   "id": "601ced2f",
   "metadata": {},
   "source": [
    "## It is evident that the people who have high balance spend more for each transaction"
   ]
  },
  {
   "cell_type": "markdown",
   "id": "223ed470",
   "metadata": {},
   "source": [
    "## The customers who have negative balance do lesser transactions with lesser amounts"
   ]
  },
  {
   "cell_type": "code",
   "execution_count": null,
   "id": "a5f7359c",
   "metadata": {},
   "outputs": [],
   "source": [
    "# Grouping the data by month and transaction type and counting the transactions\n",
    "transactions_by_month = ctob_db.groupby(['month_', 'Type_of_Transaction'])['Amount'].count().reset_index()\n",
    "\n",
    "# Pivot the data to create a stacked bar chart with a separate bar for each transaction type\n",
    "transactions_by_month = transactions_by_month.pivot(index='month_', columns='Type_of_Transaction', values='Amount')\n",
    "\n",
    "# Creating a stacked bar chart of the transactions by month\n",
    "transactions_by_month.plot(kind='bar', stacked=True, figsize=(10,6))\n",
    "plt.xlabel('Month')\n",
    "plt.ylabel('Number of Transactions')\n",
    "plt.title('Transactions by Month and Type')\n",
    "plt.show()"
   ]
  },
  {
   "cell_type": "code",
   "execution_count": null,
   "id": "104de25c",
   "metadata": {},
   "outputs": [],
   "source": [
    "# Grouping the data by third-party name and calculating the total number of transactions for each name\n",
    "transactions_by_name = bus_group.groupby('Third_Party_Name')['Number_of_Transaction'].sum().reset_index()\n",
    "\n",
    "# Creating a bar chart of the number of transactions by third-party name\n",
    "plt.figure(figsize=(10,6))\n",
    "plt.bar(transactions_by_name['Third_Party_Name'], transactions_by_name['Number_of_Transaction'])\n",
    "plt.xticks(rotation=90)\n",
    "plt.xlabel('Third-Party Name')\n",
    "plt.ylabel('Number of Transactions')\n",
    "plt.title('Number of Transactions by Third-Party Name')\n",
    "plt.show()"
   ]
  },
  {
   "cell_type": "markdown",
   "id": "ecad7989",
   "metadata": {},
   "source": [
    "## Depecting all the businesses and the number of transactions made to each"
   ]
  },
  {
   "cell_type": "code",
   "execution_count": null,
   "id": "ff5f84e7",
   "metadata": {},
   "outputs": [],
   "source": [
    "# Creating a scatter plot of the number of transactions vs the total amount for each third-party business\n",
    "plt.figure(figsize=(10,6))\n",
    "plt.scatter(bus_group['Number_of_Transaction'], bus_group['Total_Amount'])\n",
    "plt.xlabel('Number of Transactions')\n",
    "plt.ylabel('Total Amount')\n",
    "plt.title('Total Amount vs. Number of Transactions')\n",
    "plt.show()"
   ]
  },
  {
   "cell_type": "markdown",
   "id": "ddd1f7d5",
   "metadata": {},
   "source": [
    "## As the number of transactions increase, the total amout debited from the account increases which is why the total amount is in the negative. We also notice that when the number of transactions is less frequent the amount is also less. When it is credit the number of trasanctions are very less since it might be a monthly transcation which indicates a salary credit since it is C-B transactions"
   ]
  },
  {
   "cell_type": "code",
   "execution_count": null,
   "id": "4488579f",
   "metadata": {},
   "outputs": [],
   "source": [
    "# Printing 'bus_group_mon'\n",
    "bus_group_mon"
   ]
  },
  {
   "cell_type": "code",
   "execution_count": null,
   "id": "55ee0b84",
   "metadata": {},
   "outputs": [],
   "source": [
    "# Aggregating data by Third Party Name and calculate total amount\n",
    "total_by_third_party = bus_group.groupby(\"Third_Party_Name\")[\"Total_Amount\"].sum()\n",
    "\n",
    "# Creating bar plot of the total amount transacted by each third party name\n",
    "plt.bar(total_by_third_party.index, total_by_third_party.values)\n",
    "plt.xticks(rotation=90)\n",
    "plt.title(\"Total Amount by Third Party Name\")\n",
    "plt.xlabel(\"Third Party Name\")\n",
    "plt.ylabel(\"Total Amount\")\n",
    "plt.show()"
   ]
  },
  {
   "cell_type": "markdown",
   "id": "edd11c46",
   "metadata": {},
   "source": [
    "### Here we see that co-op local has the maximum total amount in the negative side, so that means money is credited and that the maxmimum amount of credit has happend for co-op. For business like Red Lion, Rose & Crown, The Crown, The Royal Oak, White Hart have positive values which implies that the money has been credited to the customer. This implies that this is either a cash repayment or salary given to the accounts"
   ]
  },
  {
   "cell_type": "code",
   "execution_count": null,
   "id": "ed560ac6",
   "metadata": {},
   "outputs": [],
   "source": [
    "# Creating a scatter plot of the total amount vs number of transactions for businesses by month\n",
    "plt.scatter(bus_group_mon[\"Number_of_Transaction\"], bus_group_mon[\"Total_Amount\"])\n",
    "plt.title(\"Total Amount vs Number of Transactions\")\n",
    "plt.xlabel(\"Number of Transactions\")\n",
    "plt.ylabel(\"Total Amount\")\n",
    "plt.show()"
   ]
  },
  {
   "cell_type": "markdown",
   "id": "6a74d810",
   "metadata": {},
   "source": [
    "## Calculating Salary, Expenditure, Savings and End of month balance for each account"
   ]
  },
  {
   "cell_type": "code",
   "execution_count": null,
   "id": "d01b1a6a",
   "metadata": {},
   "outputs": [],
   "source": [
    "# Executing the SQL query to retrieve salary data from the database and converting them to a pandas dataframe 'sal_df'\n",
    "cursor.execute(\"select Account_Number, Third_Party_Name, month_, Salary from (select Account_Number, Third_Party_Name, month_,sum(if(Amount > 0, Amount, 0)) as Salary from lloyds_2 group by 1,2,3 having Third_Party_Name != '') a where Salary > 0\")\n",
    "sal_df = cursor.fetchall()\n",
    "sal_df = pd.DataFrame(sal_df, columns=[x[0] for x in cursor.description])"
   ]
  },
  {
   "cell_type": "code",
   "execution_count": null,
   "id": "ca28147a",
   "metadata": {},
   "outputs": [],
   "source": [
    "# Execute SQL query to retrieve account number, month, and expenditure data and converting them to a pandas dataframe 'exp_df'\n",
    "cursor.execute(\"select Account_Number, month_, sum(ABS(if(Amount < 0, Amount, 0))) as Expenditure from lloyds_2 group by 1,2\")\n",
    "exp_df = cursor.fetchall()\n",
    "exp_df = pd.DataFrame(exp_df, columns=[x[0] for x in cursor.description])"
   ]
  },
  {
   "cell_type": "code",
   "execution_count": null,
   "id": "c1320c85",
   "metadata": {},
   "outputs": [],
   "source": [
    "# Executing SQL query to fetch data related to salary, expenditure, and savings from the database and converting the results into pandas dataframe 'sav_df'\n",
    "cursor.execute(\"select sal.Account_Number, sal.month_, (Salary - Expenditure) as Savings from (select Account_Number, Third_Party_Name, month_, Salary from (select Account_Number, Third_Party_Name, month_,sum(if(Amount > 0, Amount, 0)) as Salary from lloyds_2 group by 1,2,3 having Third_Party_Name != '') a where Salary > 0) sal left join (select Account_Number, month_, sum(ABS(if(Amount < 0, Amount, 0))) as Expenditure from lloyds_2 group by 1,2) expe on sal.Account_Number = expe.Account_Number group by 1,2\")\n",
    "sav_df = cursor.fetchall()\n",
    "sav_df = pd.DataFrame(sav_df, columns=[x[0] for x in cursor.description])"
   ]
  },
  {
   "cell_type": "code",
   "execution_count": null,
   "id": "4dbfe365",
   "metadata": {},
   "outputs": [],
   "source": [
    "# Executing SQL query to select Account Number, month and end-of-month Balance from Lloyds table and converting them into pandas dataframe 'eom_bal_df'\n",
    "cursor.execute(\"select Account_Number, month_, Balance from (select Account_Number, month_, Balance, row_number() OVER(PARTITION BY Account_Number,month_ ORDER BY Date DESC, Time Desc) as row_num from lloyds_2) rn where row_num = 1\")\n",
    "eom_bal_df = cursor.fetchall()\n",
    "eom_bal_df = pd.DataFrame(eom_bal_df, columns=[x[0] for x in cursor.description])"
   ]
  },
  {
   "cell_type": "code",
   "execution_count": null,
   "id": "c69cbd9a",
   "metadata": {},
   "outputs": [],
   "source": [
    "# Group 'sal_df' by 'Third_Party_Name' and 'month_' to get the total salary for each combination of third party and month\n",
    "df_grouped = sal_df.groupby(['Third_Party_Name', 'month_'])['Salary'].sum().reset_index()\n",
    "\n",
    "# Looping over each unique third party name in 'df_grouped' and plot a line for their salary by month\n",
    "for name in df_grouped['Third_Party_Name'].unique():\n",
    "    data = df_grouped[df_grouped['Third_Party_Name'] == name]\n",
    "    plt.plot(data['month_'], data['Salary'], label=name)\n",
    "plt.legend()\n",
    "plt.xlabel('Month')\n",
    "plt.ylabel('Salary')\n",
    "plt.title('Salary by Third Party')\n",
    "plt.show()\n"
   ]
  },
  {
   "cell_type": "code",
   "execution_count": null,
   "id": "76fb4410",
   "metadata": {},
   "outputs": [],
   "source": [
    "# Create a scatter plot\n",
    "plt.scatter(sal_df['Account_Number'], sal_df['Salary'])\n",
    "\n",
    "# Set the plot title and axes labels\n",
    "plt.title('Salary vs. Account Number')\n",
    "plt.xlabel('Account Number')\n",
    "plt.ylabel('Salary')\n",
    "\n",
    "# Display the plot\n",
    "plt.show()"
   ]
  },
  {
   "cell_type": "code",
   "execution_count": null,
   "id": "8ba5f789",
   "metadata": {},
   "outputs": [],
   "source": [
    "# Aggregating data by 'Third_Party_Name' and calculating total amount\n",
    "total_by_third_party = sal_df.groupby(\"Third_Party_Name\")[\"Salary\"].sum()\n",
    "\n",
    "# Creating bar plot showing the total salary received from each third-party in 'sal_df'\n",
    "plt.bar(total_by_third_party.index, total_by_third_party.values)\n",
    "plt.xticks(rotation=90)\n",
    "plt.title(\"Total Amount by Third Party Name\")\n",
    "plt.xlabel(\"Third Party Name\")\n",
    "plt.ylabel(\"Total Amount\")\n",
    "plt.show()"
   ]
  },
  {
   "cell_type": "code",
   "execution_count": null,
   "id": "fab7f3e2",
   "metadata": {},
   "outputs": [],
   "source": [
    "# Printing 'eom_bal_df'\n",
    "eom_bal_df"
   ]
  },
  {
   "cell_type": "code",
   "execution_count": null,
   "id": "97c91c96",
   "metadata": {},
   "outputs": [],
   "source": [
    "# Creating a box plot of the balance for each month\n",
    "sns.boxplot(x=\"month_\", y=\"Balance\", data=eom_bal_df)\n",
    "\n",
    "# Adding axis labels\n",
    "plt.xlabel(\"Month\")\n",
    "plt.ylabel(\"Balance\")\n",
    "plt.show()"
   ]
  },
  {
   "cell_type": "code",
   "execution_count": null,
   "id": "3e88e75e",
   "metadata": {},
   "outputs": [],
   "source": [
    "# Sorting the data by balance in ascending order and selecting the top 5 accounts\n",
    "top_negative = eom_bal_df.sort_values(by='Balance').head(10)\n",
    "print(\"Top 5 accounts with the lowest balance:\")\n",
    "print(top_negative)\n",
    "\n",
    "# Sorting the data by balance in descending order and selecting the top 5 accounts\n",
    "top_positive = eom_bal_df.sort_values(by='Balance', ascending=False).head(10)\n",
    "print(\"\\nTop 5 accounts with the highest balance:\")\n",
    "print(top_positive)\n",
    "\n",
    "# Creating a figure with two subplots\n",
    "fig, ax = plt.subplots(nrows=2, figsize=(10, 8))\n",
    "\n",
    "# Plotting the top 5 accounts with lowest balance on this subplot\n",
    "ax[0].bar(top_negative['Account_Number'], top_negative['Balance'])\n",
    "ax[0].set_title('Top 5 Accounts with Lowest Balance')\n",
    "ax[0].set_xlabel('Account Number')\n",
    "ax[0].set_ylabel('Balance')\n",
    "\n",
    "# Plotting the top 5 accounts with highest balance on this subplot\n",
    "ax[1].bar(top_positive['Account_Number'], top_positive['Balance'])\n",
    "ax[1].set_title('Top 5 Accounts with Highest Balance')\n",
    "ax[1].set_xlabel('Account Number')\n",
    "ax[1].set_ylabel('Balance')\n",
    "\n",
    "# Adjusting the layout and displaying the plot\n",
    "plt.tight_layout()\n",
    "plt.show()"
   ]
  },
  {
   "cell_type": "markdown",
   "id": "a7f93ced",
   "metadata": {},
   "source": [
    "## As you can see there are outliers and March month has most number of outliers"
   ]
  },
  {
   "cell_type": "markdown",
   "id": "66d8fb82",
   "metadata": {},
   "source": [
    "## Overall Customer Segmentation"
   ]
  },
  {
   "cell_type": "code",
   "execution_count": null,
   "id": "f19b525f",
   "metadata": {},
   "outputs": [],
   "source": [
    "# Selecting 'Number_of_Transaction' and 'Total_Amount' columns from the lloyds_group\n",
    "col_names = ['Number_of_Transaction', 'Total_Amount']\n",
    "features = lloyds_group[col_names]\n",
    "# new_features = pd.DataFrame(features, columns = col_names)\n",
    "\n",
    "# Standarizing the values and storing the results in scaled_features\n",
    "scaler = StandardScaler().fit(features.values)\n",
    "features = scaler.transform(features.values)\n",
    "scaled_features = pd.DataFrame(features, columns = col_names)"
   ]
  },
  {
   "cell_type": "code",
   "execution_count": null,
   "id": "c2369e3b",
   "metadata": {},
   "outputs": [],
   "source": [
    "# Performing KMeans clustering on the selected standardized features for different number of clusters\n",
    "# Calculating the sum of squared errors (SSE) for each cluster\n",
    "SSE = []\n",
    "for cluster in range(1,15):\n",
    "    kmeans = KMeans(n_clusters = cluster, init='k-means++')\n",
    "    kmeans.fit(scaled_features)\n",
    "    SSE.append(kmeans.inertia_)\n",
    "# Converting the results into a dataframe and plotting them\n",
    "frame = pd.DataFrame({'Cluster':range(1,15), 'SSE':SSE})\n",
    "plt.figure(figsize=(12,6))\n",
    "plt.plot(frame['Cluster'], frame['SSE'], marker='o')\n",
    "plt.xlabel('Number of clusters')\n",
    "plt.ylabel('Inertia')"
   ]
  },
  {
   "cell_type": "code",
   "execution_count": null,
   "id": "417b0362",
   "metadata": {},
   "outputs": [],
   "source": [
    "# Performing KMeans clustering using 4 clusters, and storing the result in 'kmeans'\n",
    "kmeans = KMeans( n_clusters = 4, init='k-means++')\n",
    "kmeans.fit(scaled_features)"
   ]
  },
  {
   "cell_type": "code",
   "execution_count": null,
   "id": "c79edc50",
   "metadata": {},
   "outputs": [],
   "source": [
    "# Calculating the Silhouette score of the KMeans clustering for labels generated by KMeans and the Euclidean distance metric\n",
    "print(silhouette_score(scaled_features, kmeans.labels_, metric='euclidean'))\n"
   ]
  },
  {
   "cell_type": "code",
   "execution_count": null,
   "id": "12f15450",
   "metadata": {},
   "outputs": [],
   "source": [
    "# Predicting the cluster labels for each row and adding the result as a new column 'cluster' in a new dataframe called 'frame'\n",
    "pred = kmeans.predict(scaled_features)\n",
    "frame = pd.DataFrame(lloyds_group)\n",
    "frame['cluster'] = pred"
   ]
  },
  {
   "cell_type": "code",
   "execution_count": null,
   "id": "3ba0e4f4",
   "metadata": {},
   "outputs": [],
   "source": [
    "# Displaying the number of occurrences of each cluster label in the 'cluster' column of the 'frame'\n",
    "frame.cluster.value_counts()"
   ]
  },
  {
   "cell_type": "code",
   "execution_count": null,
   "id": "dbb4b6d0",
   "metadata": {},
   "outputs": [],
   "source": [
    "#x_axis = frame['Number_of_Transaction']\n",
    "#y_axis = frame['Total_Amount']\n",
    "\n",
    "# Creating a scatter plot for visualzing the clustering results\n",
    "plt.figure(figsize = (10, 8))\n",
    "sns.scatterplot(data=frame, x='Number_of_Transaction', y='Total_Amount', hue=frame['cluster'])\n",
    "plt.title('Segmentation K-means')\n",
    "plt.show()"
   ]
  },
  {
   "cell_type": "markdown",
   "id": "5f67b4a2",
   "metadata": {},
   "source": [
    "## Monthly Segmentation"
   ]
  },
  {
   "cell_type": "code",
   "execution_count": null,
   "id": "9b873fef",
   "metadata": {},
   "outputs": [],
   "source": [
    "# Printing 'lloyds_group_mon'\n",
    "lloyds_group_mon"
   ]
  },
  {
   "cell_type": "code",
   "execution_count": null,
   "id": "bad5efb9",
   "metadata": {},
   "outputs": [],
   "source": [
    "# Selecting 'Number_of_Transaction' and 'Total_Amount' columns from the lloyds_group_mon\n",
    "col_names = ['Number_of_Transaction', 'Total_Amount']\n",
    "features = lloyds_group_mon[col_names]\n",
    "\n",
    "# Standarizing the values and storing the results in scaled_features\n",
    "scaler = StandardScaler().fit(features.values)\n",
    "features = scaler.transform(features.values)\n",
    "scaled_features = pd.DataFrame(features, columns = col_names)"
   ]
  },
  {
   "cell_type": "code",
   "execution_count": null,
   "id": "3cc7d13b",
   "metadata": {},
   "outputs": [],
   "source": [
    "# Performing KMeans clustering on the selected standardized features for different number of clusters\n",
    "# Calculating the sum of squared errors (SSE) for each cluster\n",
    "SSE = []\n",
    "for cluster in range(1,15):\n",
    "    kmeans = KMeans(n_clusters = cluster, init='k-means++')\n",
    "    kmeans.fit(scaled_features)\n",
    "    SSE.append(kmeans.inertia_)\n",
    "# converting the results into a dataframe and plotting them\n",
    "frame = pd.DataFrame({'Cluster':range(1,15), 'SSE':SSE})\n",
    "plt.figure(figsize=(12,6))\n",
    "plt.plot(frame['Cluster'], frame['SSE'], marker='o')\n",
    "plt.xlabel('Number of clusters')\n",
    "plt.ylabel('Inertia')"
   ]
  },
  {
   "cell_type": "code",
   "execution_count": null,
   "id": "02a37b6a",
   "metadata": {},
   "outputs": [],
   "source": [
    "# Performing KMeans clustering using 3 clusters, and storing the result in 'kmeans'\n",
    "kmeans = KMeans( n_clusters = 3, init='k-means++')\n",
    "kmeans.fit(scaled_features)"
   ]
  },
  {
   "cell_type": "code",
   "execution_count": null,
   "id": "9e5915bb",
   "metadata": {},
   "outputs": [],
   "source": [
    "# Calculating the Silhouette score of the KMeans clustering for labels generated by KMeans and the Euclidean distance metric\n",
    "print(silhouette_score(scaled_features, kmeans.labels_, metric='euclidean'))"
   ]
  },
  {
   "cell_type": "code",
   "execution_count": null,
   "id": "06c028b2",
   "metadata": {},
   "outputs": [],
   "source": [
    "# Predicting the cluster labels for each row and adding the result as a new column 'cluster' in a new dataframe called 'frame'\n",
    "pred = kmeans.predict(scaled_features)\n",
    "frame = pd.DataFrame(lloyds_group_mon)\n",
    "frame['cluster'] = pred"
   ]
  },
  {
   "cell_type": "code",
   "execution_count": null,
   "id": "2d144f91",
   "metadata": {},
   "outputs": [],
   "source": [
    "# Displaying the number of occurrences of each cluster label in the 'cluster' column of the 'frame'\n",
    "frame.cluster.value_counts()"
   ]
  },
  {
   "cell_type": "code",
   "execution_count": null,
   "id": "a02ce405",
   "metadata": {},
   "outputs": [],
   "source": [
    "# df_segm_analysis = frame.groupby(['cluster']).mean()\n",
    "# df_segm_analysis"
   ]
  },
  {
   "cell_type": "code",
   "execution_count": null,
   "id": "469eba72",
   "metadata": {},
   "outputs": [],
   "source": [
    "#x_axis = frame['Number_of_Transaction']\n",
    "#y_axis = frame['Total_Amount']\n",
    "\n",
    "# Creating a scatter plot for visualzing the clustering results\n",
    "plt.figure(figsize = (10, 8))\n",
    "sns.scatterplot(data=frame, x='Number_of_Transaction', y='Total_Amount', hue=frame['cluster'])\n",
    "plt.title('Segmentation K-means')\n",
    "plt.show()"
   ]
  },
  {
   "cell_type": "markdown",
   "id": "f18156c8",
   "metadata": {},
   "source": [
    "## Customer segmentation based on No. of transactions and amount of transactions"
   ]
  },
  {
   "cell_type": "code",
   "execution_count": null,
   "id": "f9a8c720",
   "metadata": {},
   "outputs": [],
   "source": [
    "# Printing 'cus_group'\n",
    "cus_group"
   ]
  },
  {
   "cell_type": "code",
   "execution_count": null,
   "id": "7edb05ad",
   "metadata": {},
   "outputs": [],
   "source": [
    "# Selecting 'Number_of_Transaction' and 'Total_Amount' columns from the cus_group\n",
    "col_names = ['Number_of_Transaction', 'Total_Amount']\n",
    "features = cus_group[col_names]\n",
    "\n",
    "# Standarizing the values and storing the results in scaled_features\n",
    "scaler = StandardScaler().fit(features.values)\n",
    "features = scaler.transform(features.values)\n",
    "scaled_features = pd.DataFrame(features, columns = col_names)"
   ]
  },
  {
   "cell_type": "code",
   "execution_count": null,
   "id": "44ab8811",
   "metadata": {},
   "outputs": [],
   "source": [
    "# Performing KMeans clustering on the selected standardized features for different number of clusters\n",
    "# Calculating the sum of squared errors (SSE) for each cluster\n",
    "SSE = []\n",
    "for cluster in range(1,15):\n",
    "    kmeans = KMeans(n_clusters = cluster, init='k-means++')\n",
    "    kmeans.fit(scaled_features)\n",
    "    SSE.append(kmeans.inertia_)\n",
    "# converting the results into a dataframe and plotting them\n",
    "frame = pd.DataFrame({'Cluster':range(1,15), 'SSE':SSE})\n",
    "plt.figure(figsize=(12,6))\n",
    "plt.plot(frame['Cluster'], frame['SSE'], marker='o')\n",
    "plt.xlabel('Number of clusters')\n",
    "plt.ylabel('Inertia')"
   ]
  },
  {
   "cell_type": "code",
   "execution_count": null,
   "id": "066b2d86",
   "metadata": {},
   "outputs": [],
   "source": [
    "# Performing KMeans clustering using 3 clusters, and storing the result in 'kmeans'\n",
    "kmeans = KMeans( n_clusters = 3, init='k-means++')\n",
    "kmeans.fit(scaled_features)"
   ]
  },
  {
   "cell_type": "code",
   "execution_count": null,
   "id": "28f82fc3",
   "metadata": {},
   "outputs": [],
   "source": [
    "# Calculating the Silhouette score of the KMeans clustering for labels generated by KMeans and the Euclidean distance metric\n",
    "print(silhouette_score(scaled_features, kmeans.labels_, metric='euclidean'))"
   ]
  },
  {
   "cell_type": "code",
   "execution_count": null,
   "id": "6170c28e",
   "metadata": {},
   "outputs": [],
   "source": [
    "# Predicting the cluster labels for each row and adding the result as a new column 'cluster' in a new dataframe called 'frame'\n",
    "pred = kmeans.predict(scaled_features)\n",
    "frame = pd.DataFrame(cus_group)\n",
    "frame['cluster'] = pred"
   ]
  },
  {
   "cell_type": "code",
   "execution_count": null,
   "id": "9ab37a69",
   "metadata": {},
   "outputs": [],
   "source": [
    "# Displaying first five rows for 'frame'\n",
    "frame.head()"
   ]
  },
  {
   "cell_type": "code",
   "execution_count": null,
   "id": "76af0a05",
   "metadata": {},
   "outputs": [],
   "source": [
    "# Displaying the number of occurrences of each cluster label in the 'cluster' column of the 'frame'\n",
    "frame.cluster.value_counts()"
   ]
  },
  {
   "cell_type": "code",
   "execution_count": null,
   "id": "e91c34c6",
   "metadata": {},
   "outputs": [],
   "source": [
    "# Grouping the dataframe 'frame' by the 'cluster' column and calculating mean for each column and stored in 'df_segm_analysis'\n",
    "df_segm_analysis = frame.groupby(['cluster']).mean()\n",
    "df_segm_analysis"
   ]
  },
  {
   "cell_type": "code",
   "execution_count": null,
   "id": "d7a2c1dc",
   "metadata": {},
   "outputs": [],
   "source": [
    "# Renaming cluster label into appropraite names \n",
    "df_segm_analysis.rename({0:'Less-Frequent and Amount Transactors',\n",
    "                         1:'More Frequent and Amount Transactors',\n",
    "                         })"
   ]
  },
  {
   "cell_type": "code",
   "execution_count": null,
   "id": "9ecf2bf5",
   "metadata": {},
   "outputs": [],
   "source": [
    "# Printing 'frame'\n",
    "frame"
   ]
  },
  {
   "cell_type": "code",
   "execution_count": null,
   "id": "862ac3a6",
   "metadata": {},
   "outputs": [],
   "source": [
    "#x_axis = frame['Number_of_Transaction']\n",
    "#y_axis = frame['Total_Amount']\n",
    "\n",
    "# Creating a scatter plot for visualzing the clustering results\n",
    "plt.figure(figsize = (10, 8))\n",
    "sns.scatterplot(data=frame, x='Number_of_Transaction', y='Total_Amount', hue=frame['cluster'])\n",
    "plt.title('Segmentation K-means')\n",
    "plt.show()"
   ]
  },
  {
   "cell_type": "code",
   "execution_count": null,
   "id": "e6018c71",
   "metadata": {},
   "outputs": [],
   "source": [
    "# Printing 'bus_group'\n",
    "bus_group"
   ]
  },
  {
   "cell_type": "code",
   "execution_count": null,
   "id": "8a02061e",
   "metadata": {},
   "outputs": [],
   "source": [
    "# Selecting 'Number_of_Transaction' and 'Total_Amount' columns from the bus_group\n",
    "col_names = ['Number_of_Transaction', 'Total_Amount']\n",
    "features2 = bus_group[col_names]\n",
    "\n",
    "# Standarizing the values and storing the results in scaled_features2\n",
    "scaler2 = StandardScaler().fit(features2.values)\n",
    "features2 = scaler.transform(features2.values)\n",
    "scaled_features2 = pd.DataFrame(features2, columns = col_names)"
   ]
  },
  {
   "cell_type": "code",
   "execution_count": null,
   "id": "48c7b043",
   "metadata": {},
   "outputs": [],
   "source": [
    "# Printing 'scaled_features2'\n",
    "scaled_features2"
   ]
  },
  {
   "cell_type": "code",
   "execution_count": null,
   "id": "6a06346e",
   "metadata": {},
   "outputs": [],
   "source": [
    "# Performing KMeans clustering on the selected standardized features for different number of clusters\n",
    "# Calculating the sum of squared errors (SSE) for each cluster\n",
    "SSE = []\n",
    "for cluster in range(1,10):\n",
    "    kmeans = KMeans(n_clusters = cluster, init='k-means++')\n",
    "    kmeans.fit(scaled_features2)\n",
    "    SSE.append(kmeans.inertia_)\n",
    "\n",
    "# Converting the results into a dataframe and plotting them\n",
    "frame = pd.DataFrame({'Cluster':range(1,10), 'SSE':SSE})\n",
    "plt.figure(figsize=(12,6))\n",
    "plt.plot(frame['Cluster'], frame['SSE'], marker='o')\n",
    "plt.xlabel('Number of clusters')\n",
    "plt.ylabel('Inertia')"
   ]
  },
  {
   "cell_type": "code",
   "execution_count": null,
   "id": "868bb2b2",
   "metadata": {},
   "outputs": [],
   "source": [
    "# Performing KMeans clustering using 3 clusters, and storing the result in 'kmeans2'\n",
    "kmeans2 = KMeans( n_clusters = 3, init='k-means++')\n",
    "kmeans2.fit(scaled_features2)"
   ]
  },
  {
   "cell_type": "code",
   "execution_count": null,
   "id": "16ccd407",
   "metadata": {},
   "outputs": [],
   "source": [
    "# Calculating the Silhouette score of the KMeans clustering for labels generated by KMeans and the Euclidean distance metric\n",
    "print(silhouette_score(scaled_features2, kmeans2.labels_, metric='euclidean'))"
   ]
  },
  {
   "cell_type": "code",
   "execution_count": null,
   "id": "9962a66e",
   "metadata": {},
   "outputs": [],
   "source": [
    "# Predicting the cluster labels for each row and adding the result as a new column 'cluster' in a new dataframe called 'frame2'\n",
    "pred2 = kmeans2.predict(scaled_features2)\n",
    "frame2 = pd.DataFrame(bus_group)\n",
    "frame2['cluster'] = pred2"
   ]
  },
  {
   "cell_type": "code",
   "execution_count": null,
   "id": "29b61bed",
   "metadata": {},
   "outputs": [],
   "source": [
    "# Printing 'frame2'\n",
    "frame2"
   ]
  },
  {
   "cell_type": "code",
   "execution_count": null,
   "id": "a09dfe1a",
   "metadata": {},
   "outputs": [],
   "source": [
    "# Displaying the number of occurrences of each cluster label in the 'cluster' column of the 'frame2'\n",
    "frame2.cluster.value_counts()"
   ]
  },
  {
   "cell_type": "code",
   "execution_count": null,
   "id": "8e07dc80",
   "metadata": {},
   "outputs": [],
   "source": [
    "# Creating a scatter plot for visualzing the clustering results\n",
    "x_axis = frame2['Number_of_Transaction']\n",
    "y_axis = frame2['Total_Amount']\n",
    "plt.figure(figsize = (10, 8))\n",
    "sns.scatterplot(data=frame2, x='Number_of_Transaction', y='Total_Amount', hue=frame2['cluster'])\n",
    "plt.title('Segmentation K-means')\n",
    "plt.show()"
   ]
  },
  {
   "cell_type": "code",
   "execution_count": null,
   "id": "85445a3b",
   "metadata": {},
   "outputs": [],
   "source": [
    "# Counting the number of occurrences of each unique value in the 'month_' column of 'bus_group_mon'\n",
    "bus_group_mon['month_'].value_counts()"
   ]
  },
  {
   "cell_type": "code",
   "execution_count": null,
   "id": "48433ebc",
   "metadata": {},
   "outputs": [],
   "source": [
    "# Counting the number of occurrences of each unique value in the 'Third_Party_Name' column of 'bus_group_mon'\n",
    "bus_group_mon['Third_Party_Name'].value_counts()"
   ]
  },
  {
   "cell_type": "code",
   "execution_count": null,
   "id": "77a0c6d6",
   "metadata": {},
   "outputs": [],
   "source": [
    "# Using For loop to loop through each month from Jan to Dec and filtering the data to include only transactions in that month\n",
    "for month in range(1, 13):\n",
    "    df_mon = bus_group_mon[bus_group_mon[\"month_\"] == month]\n",
    "\n",
    "    # Grouping the data by 'from_totally_fake_account' and calculating the sum of 'Number_of_Transaction'\n",
    "    df_mon_grouped = df_mon.groupby(\"Third_Party_Name\")[\"Number_of_Transaction\"].sum()\n",
    "\n",
    "    # Sorting the data in descending order based on the sum of 'Number_of_Transaction'\n",
    "    df_mon_grouped_sorted = df_mon_grouped.sort_values(ascending=False)\n",
    "\n",
    "    # Plotting a bar chart of the top 10 'From Accounts' with maximum transactions in January\n",
    "    df_mon_grouped_sorted.head(10).plot(kind=\"bar\")\n",
    "    plt.xlabel(\"From Account\")\n",
    "    plt.ylabel(\"Number of Transactions\")\n",
    "    plt.title(\"Top 10 From Accounts with Maximum Transactions in month {}\".format(month))\n",
    "    plt.show()"
   ]
  },
  {
   "cell_type": "code",
   "execution_count": null,
   "id": "58c3fd83",
   "metadata": {},
   "outputs": [],
   "source": [
    "# Printing 'eom_bal_df'\n",
    "eom_bal_df"
   ]
  },
  {
   "cell_type": "code",
   "execution_count": null,
   "id": "10604603",
   "metadata": {},
   "outputs": [],
   "source": [
    "# Selecting 'Balance'column from the eom_bal_df \n",
    "col_names = ['Balance']\n",
    "features = eom_bal_df[col_names]\n",
    "\n",
    "# Standarizing the values and storing the results in scaled_features\n",
    "scaler = StandardScaler().fit(features.values)\n",
    "features = scaler.transform(features.values)\n",
    "scaled_features = pd.DataFrame(features, columns = col_names)"
   ]
  },
  {
   "cell_type": "code",
   "execution_count": null,
   "id": "bb02b2e5",
   "metadata": {},
   "outputs": [],
   "source": [
    "# Performing KMeans clustering on the selected standardized features for different number of clusters\n",
    "# Calculating the sum of squared errors (SSE) for each cluster\n",
    "SSE = []\n",
    "for cluster in range(1,15):\n",
    "    kmeans = KMeans(n_clusters = cluster, init='k-means++')\n",
    "    kmeans.fit(scaled_features)\n",
    "    SSE.append(kmeans.inertia_)\n",
    "# Converting the results into a dataframe and plotting them\n",
    "frame = pd.DataFrame({'Cluster':range(1,15), 'SSE':SSE})\n",
    "plt.figure(figsize=(12,6))\n",
    "plt.plot(frame['Cluster'], frame['SSE'], marker='o')\n",
    "plt.xlabel('Number of clusters')\n",
    "plt.ylabel('Inertia')"
   ]
  },
  {
   "cell_type": "code",
   "execution_count": null,
   "id": "83f29f31",
   "metadata": {},
   "outputs": [],
   "source": [
    "# Performing KMeans clustering using 4 clusters, and storing the result in 'kmeans'\n",
    "kmeans = KMeans( n_clusters = 4, init='k-means++')\n",
    "kmeans.fit(scaled_features)"
   ]
  },
  {
   "cell_type": "code",
   "execution_count": null,
   "id": "5d143ff2",
   "metadata": {},
   "outputs": [],
   "source": [
    "# Calculating the Silhouette score of the KMeans clustering for labels generated by KMeans and the Euclidean distance metric\n",
    "print(silhouette_score(scaled_features, kmeans.labels_, metric='euclidean'))"
   ]
  },
  {
   "cell_type": "code",
   "execution_count": null,
   "id": "29dd674d",
   "metadata": {},
   "outputs": [],
   "source": [
    "# Predicting the cluster labels for each row and adding the result as a new column 'cluster' in a new dataframe called 'frame'\n",
    "pred = kmeans.predict(scaled_features)\n",
    "frame = pd.DataFrame(eom_bal_df)\n",
    "frame['cluster'] = pred"
   ]
  },
  {
   "cell_type": "code",
   "execution_count": null,
   "id": "f420d23f",
   "metadata": {},
   "outputs": [],
   "source": [
    "# Displaying the number of occurrences of each cluster label in the 'cluster' column of the 'frame'\n",
    "frame.cluster.value_counts()"
   ]
  },
  {
   "cell_type": "code",
   "execution_count": null,
   "id": "79044f15",
   "metadata": {},
   "outputs": [],
   "source": [
    "# Grouping the dataframe 'frame' by the 'cluster' column and calculating mean for each column and stored in 'df_segm_analysis'\n",
    "df_segm_analysis = frame.groupby(['cluster']).mean()\n",
    "df_segm_analysis"
   ]
  },
  {
   "cell_type": "code",
   "execution_count": null,
   "id": "7df7e1c0",
   "metadata": {},
   "outputs": [],
   "source": [
    "# Creating a scatter plot for visualzing the clustering results\n",
    "plt.figure(figsize = (10, 8))\n",
    "sns.scatterplot(data=frame, x='Balance', y='Account_Number', hue=frame['cluster'])\n",
    "plt.title('Segmentation K-means')\n",
    "plt.show()"
   ]
  },
  {
   "cell_type": "markdown",
   "id": "3741b507",
   "metadata": {},
   "source": [
    "# Anomaly detection"
   ]
  },
  {
   "cell_type": "code",
   "execution_count": null,
   "id": "c53d2ed9",
   "metadata": {},
   "outputs": [],
   "source": [
    "# Printing 'bus_group'\n",
    "bus_group"
   ]
  },
  {
   "cell_type": "code",
   "execution_count": null,
   "id": "d3807c18",
   "metadata": {},
   "outputs": [],
   "source": [
    "# Creating a box plot to visualize the distribution of 'Total_Amount'\n",
    "bus_group['Total_Amount'].plot(kind='box')\n",
    "plt.show()"
   ]
  },
  {
   "cell_type": "code",
   "execution_count": null,
   "id": "f3ad381f",
   "metadata": {},
   "outputs": [],
   "source": [
    "# Creating a histogram plot to visualize the distribution of 'Total_Amount'\n",
    "bus_group['Total_Amount'].plot(kind='hist')\n",
    "plt.show()"
   ]
  },
  {
   "cell_type": "code",
   "execution_count": null,
   "id": "79972250",
   "metadata": {},
   "outputs": [],
   "source": [
    "# Printing the minimum and maximum amount in the 'Total_Amount' column of the 'bus_group' dataframe\n",
    "print('Minimum Amount ' + str(bus_group['Total_Amount'].min()))\n",
    "print('Maximum Amount ' + str(bus_group['Total_Amount'].max()))"
   ]
  },
  {
   "cell_type": "code",
   "execution_count": null,
   "id": "047a4e3d",
   "metadata": {},
   "outputs": [],
   "source": [
    "# Reshaping the 'Total_Amount' column to fit the input shape\n",
    "amount_raw = bus_group['Total_Amount'].values\n",
    "\n",
    "# For compatibility with the SciPy implementation\n",
    "amount_raw = amount_raw.reshape(-1, 1)\n",
    "amount_raw = amount_raw.astype('float64')"
   ]
  },
  {
   "cell_type": "code",
   "execution_count": null,
   "id": "389b6b6d",
   "metadata": {},
   "outputs": [],
   "source": [
    "# Specifying the data and the number of clusters to kmeans()\n",
    "# centroids, avg_distance = kmeans(amount_raw, 4)"
   ]
  },
  {
   "cell_type": "code",
   "execution_count": null,
   "id": "317ddd73",
   "metadata": {},
   "outputs": [],
   "source": [
    "# Grouping the data points into clusters using k-means algorithm\n",
    "# vq function from scipy.cluster.vq library is used to group the data into clusters based on the centroids\n",
    "# groups, cdist = scipy.cluster.vq.vq(amount_raw, centroids)"
   ]
  },
  {
   "cell_type": "code",
   "execution_count": null,
   "id": "9a9b9cc6",
   "metadata": {},
   "outputs": [],
   "source": [
    "# Printing length of 'amount_raw'\n",
    "# len(amount_raw)"
   ]
  },
  {
   "cell_type": "code",
   "execution_count": null,
   "id": "afa06c45",
   "metadata": {},
   "outputs": [],
   "source": [
    "# # Plotting the total amount values against their corresponding indices\n",
    "# plt.scatter(amount_raw, np.arange(0,6177), c=groups)\n",
    "# plt.xlabel('Total Amount')\n",
    "# plt.ylabel('Indices')\n",
    "# plt.show()"
   ]
  },
  {
   "cell_type": "markdown",
   "id": "e789bcc0",
   "metadata": {},
   "source": [
    "## Anomalies detected. These could be fraudulent transactions"
   ]
  },
  {
   "cell_type": "markdown",
   "id": "aea8114c",
   "metadata": {},
   "source": [
    "# Anomaly detection using Isolation Forest for C-B transactions"
   ]
  },
  {
   "cell_type": "code",
   "execution_count": null,
   "id": "6a66798f",
   "metadata": {},
   "outputs": [],
   "source": [
    "# Creating a new variable 'newBus'\n",
    "newBus = bus_group"
   ]
  },
  {
   "cell_type": "code",
   "execution_count": null,
   "id": "826e8302",
   "metadata": {},
   "outputs": [],
   "source": [
    "# Droping columns that won't be used for the analysis\n",
    "newBus = newBus.drop(['Account_Number', 'Third_Party_Account_Number', 'Third_Party_Name'], axis=1)\n",
    "\n",
    "# Fitting the Isolation Forest model\n",
    "clf = IsolationForest(n_estimators=100, max_samples='auto', contamination=float(0.01), max_features=1.0)\n",
    "clf.fit(newBus)\n",
    "\n",
    "# Predicting the anomalies\n",
    "anomalies = clf.predict(newBus)\n",
    "\n",
    "# Adding the anomalies as a column to the original dataframe\n",
    "newBus['Anomaly'] = anomalies\n",
    "\n",
    "# Printing the anomalous transactions\n",
    "print(newBus[newBus['Anomaly'] == -1])"
   ]
  },
  {
   "cell_type": "code",
   "execution_count": null,
   "id": "1ff6660f",
   "metadata": {},
   "outputs": [],
   "source": [
    "# Printing 'newBus'\n",
    "newBus"
   ]
  },
  {
   "cell_type": "code",
   "execution_count": null,
   "id": "b9c2b48e",
   "metadata": {},
   "outputs": [],
   "source": [
    "# Plotting a scatter plot of the anomalies\n",
    "plt.scatter(newBus[\"Number_of_Transaction\"], newBus[\"Total_Amount\"], c=newBus[\"Anomaly\"], cmap='seismic_r')\n",
    "plt.xlabel(\"Number of Transactions\")\n",
    "plt.ylabel(\"Total Amount\")\n",
    "plt.title(\"Anomaly Detection\")\n",
    "plt.show()"
   ]
  },
  {
   "cell_type": "code",
   "execution_count": null,
   "id": "eeacb14e",
   "metadata": {},
   "outputs": [],
   "source": [
    "# Column has a value of 1, indicating that the data point is considered normal\n",
    "normal_df = newBus[newBus['Anomaly'] == 1]\n",
    "\n",
    "# Column has a value of -1, indicating that the data point is considered an anomaly\n",
    "anomaly_df = newBus[newBus['Anomaly'] == -1]"
   ]
  },
  {
   "cell_type": "code",
   "execution_count": null,
   "id": "b215a06e",
   "metadata": {},
   "outputs": [],
   "source": [
    "# Creating figure and axis objects\n",
    "fig, ax = plt.subplots(figsize=(10,6))\n",
    "\n",
    "# Plotting data points with anomaly classification\n",
    "ax.scatter(normal_df.index, normal_df['Total_Amount'], color='blue', label='Normal transaction')\n",
    "ax.scatter(anomaly_df.index, anomaly_df['Total_Amount'], color='red', label='Anomaly transaction')\n",
    "\n",
    "# Setting title and labels\n",
    "ax.set_title('Anomaly Detection', fontsize=14)\n",
    "ax.set_xlabel('Transaction Index', fontsize=12)\n",
    "ax.set_ylabel('Total Amount', fontsize=12)\n",
    "\n",
    "# Adding separate legend for anomaly transactions\n",
    "anomaly_patch = plt.scatter([], [], color='red', label='Anomaly transaction')\n",
    "normal_patch = plt.scatter([], [], color='blue', label='Normal transaction')\n",
    "plt.legend(handles=[anomaly_patch, normal_patch], loc='upper left')\n",
    "\n",
    "# Showing plot\n",
    "plt.show()"
   ]
  },
  {
   "cell_type": "code",
   "execution_count": null,
   "id": "c1ee7166",
   "metadata": {},
   "outputs": [],
   "source": [
    "# Printing 'cus_group'\n",
    "cus_group"
   ]
  },
  {
   "cell_type": "markdown",
   "id": "38144aec",
   "metadata": {},
   "source": [
    "# Anomaly detection for C-C transactions using IsolationForest"
   ]
  },
  {
   "cell_type": "code",
   "execution_count": null,
   "id": "0d86f6e0",
   "metadata": {},
   "outputs": [],
   "source": [
    "# Creating a new variable 'newCus'\n",
    "newCus = cus_group"
   ]
  },
  {
   "cell_type": "code",
   "execution_count": null,
   "id": "ab32370e",
   "metadata": {},
   "outputs": [],
   "source": [
    "# Droping columns that won't be used for the analysis\n",
    "newCus = newCus.drop(['Account_Number', 'Third_Party_Account_Number'], axis=1)\n",
    "\n",
    "# Fitting the Isolation Forest model\n",
    "clf = IsolationForest(n_estimators=100, max_samples='auto', contamination=float(0.01), max_features=1.0)\n",
    "clf.fit(newCus)\n",
    "\n",
    "# Predicting the anomalies\n",
    "anomalies = clf.predict(newCus)\n",
    "\n",
    "# Adding the anomalies as a column to the original dataframe\n",
    "newCus['Anomaly'] = anomalies\n",
    "\n",
    "# Printing the anomalous transactions\n",
    "print(newCus[newCus['Anomaly'] == -1])"
   ]
  },
  {
   "cell_type": "code",
   "execution_count": null,
   "id": "edc9a903",
   "metadata": {},
   "outputs": [],
   "source": [
    "# Column has a value of 1, indicating that the data point is considered normal\n",
    "normal_df_c = newCus[newCus['Anomaly'] == 1]\n",
    "\n",
    "# Column has a value of -1, indicating that the data point is considered an anomaly\n",
    "anomaly_df_c = newCus[newCus['Anomaly'] == -1]"
   ]
  },
  {
   "cell_type": "code",
   "execution_count": null,
   "id": "63b4f64c",
   "metadata": {},
   "outputs": [],
   "source": [
    "# Creating figure and axis objects\n",
    "fig, ax = plt.subplots(figsize=(10,6))\n",
    "\n",
    "# Ploting data points with anomaly classification\n",
    "ax.scatter(normal_df_c.index, normal_df_c['Total_Amount'], color='blue', label='Normal transaction')\n",
    "ax.scatter(anomaly_df_c.index, anomaly_df_c['Total_Amount'], color='red', label='Anomaly transaction')\n",
    "\n",
    "# Setting title and labels\n",
    "ax.set_title('Anomaly Detection', fontsize=14)\n",
    "ax.set_xlabel('Transaction Index', fontsize=12)\n",
    "ax.set_ylabel('Total Amount', fontsize=12)\n",
    "\n",
    "# Adding separate legend for anomaly transactions\n",
    "anomaly_patch = plt.scatter([], [], color='red', label='Anomaly transaction')\n",
    "normal_patch = plt.scatter([], [], color='blue', label='Normal transaction')\n",
    "plt.legend(handles=[anomaly_patch, normal_patch], loc='upper left')\n",
    "\n",
    "# Showing plot\n",
    "plt.show()"
   ]
  },
  {
   "cell_type": "markdown",
   "id": "f62fdbc1",
   "metadata": {},
   "source": [
    "# Customer Churn Prediction based on Number of Transactions C-B\n"
   ]
  },
  {
   "cell_type": "code",
   "execution_count": null,
   "id": "fcb6fda4",
   "metadata": {},
   "outputs": [],
   "source": [
    "# Calculating the number of debit transactions for each customer\n",
    "counts = ctob_db[ctob_db[\"Type_of_Transaction\"] == \"Debit\"].groupby(\"Account_Number\").size()\n",
    "\n",
    "# Classifying customers based on number of debit transactions\n",
    "def classify_customer(count):\n",
    "    if count < 50:\n",
    "        return \"Definitely Churn\"\n",
    "    elif count < 100 and count >50:\n",
    "        return \"High Chance of Churning\"\n",
    "    else:\n",
    "        return \"Low Chance of Churning\"\n",
    "    \n",
    "customer_segments = counts.apply(classify_customer)\n",
    "\n",
    "# Plotting the results\n",
    "fig, ax = plt.subplots(figsize=(16, 6))\n",
    "\n",
    "colors = customer_segments.apply(lambda x: {\n",
    "    \"Definitely Churn\": \"#4287f5\",\n",
    "    \"High Chance of Churning\": \"#81bef7\",\n",
    "    \"Low Chance of Churning\": \"#c8dbf7\"\n",
    "}[x])\n",
    "\n",
    "customer_segments.value_counts().plot(kind=\"barh\", color=colors)\n",
    "\n",
    "ax.set_title(\"Customer Churn Segmentation\")\n",
    "ax.set_xlabel(\"Number of Customers\")\n",
    "ax.set_ylabel(\"Churn Segment\")\n",
    "\n",
    "\n",
    "plt.tight_layout()\n",
    "plt.show()\n"
   ]
  },
  {
   "cell_type": "code",
   "execution_count": null,
   "id": "1bd3043d",
   "metadata": {},
   "outputs": [],
   "source": [
    "# Creating a new dataframe with the count of debit transactions for each account number\n",
    "counts_df = ctob_db[ctob_db[\"Type_of_Transaction\"] == \"Debit\"].groupby(\"Account_Number\").size().reset_index(name=\"Debit_Count\")\n",
    "\n",
    "# Classifying customers based on their debit transaction count\n",
    "def classify_customers(row):\n",
    "    count = row[\"Debit_Count\"]\n",
    "    if count < 50:\n",
    "        return \"High Churn Risk\"\n",
    "    elif count < 100 and count >50:\n",
    "        return \"Medium Churn Risk\"\n",
    "    else:\n",
    "        return \"Low Churn Risk\"\n",
    "\n",
    "counts_df[\"Churn_Risk\"] = counts_df.apply(classify_customers, axis=1)\n",
    "\n",
    "# Creating a scatter plot with different colors for each segment\n",
    "colors = {\"High Churn Risk\": \"red\", \"Medium Churn Risk\": \"orange\", \"Low Churn Risk\": \"green\"}\n",
    "plt.figure(figsize=(12, 8), dpi=80)\n",
    "plt.scatter(counts_df[\"Account_Number\"], counts_df[\"Debit_Count\"], c=counts_df[\"Churn_Risk\"].apply(lambda x: colors[x]), alpha=0.5)\n",
    "\n",
    "# Adding labels and title to the plot\n",
    "\n",
    "plt.xlabel(\"Account Number\")\n",
    "plt.ylabel(\"Debit Transaction Count\")\n",
    "plt.title(\"Customer Segmentation by Debit Transaction Count\")\n",
    "\n",
    "# Showing the plot\n",
    "plt.show()\n"
   ]
  },
  {
   "cell_type": "code",
   "execution_count": null,
   "id": "76fe0c5f",
   "metadata": {},
   "outputs": [],
   "source": [
    "# Creating separate dataframes based on churn risk\n",
    "high_churn_risk_df = counts_df[counts_df[\"Churn_Risk\"] == \"High Churn Risk\"]\n",
    "medium_churn_risk_df = counts_df[counts_df[\"Churn_Risk\"] == \"Medium Churn Risk\"]\n",
    "low_churn_risk_df = counts_df[counts_df[\"Churn_Risk\"] == \"Low Churn Risk\"]\n"
   ]
  },
  {
   "cell_type": "code",
   "execution_count": null,
   "id": "01d7f50a",
   "metadata": {},
   "outputs": [],
   "source": [
    "# Printing 'high_churn_risk_df'\n",
    "high_churn_risk_df"
   ]
  },
  {
   "cell_type": "code",
   "execution_count": null,
   "id": "33ed164b",
   "metadata": {},
   "outputs": [],
   "source": [
    "# Printing 'medium_churn_risk_df'\n",
    "medium_churn_risk_df"
   ]
  },
  {
   "cell_type": "code",
   "execution_count": null,
   "id": "5d7493cf",
   "metadata": {},
   "outputs": [],
   "source": [
    "# Printing 'ctoc_db'\n",
    "ctoc_db"
   ]
  },
  {
   "cell_type": "code",
   "execution_count": null,
   "id": "d8465b65",
   "metadata": {},
   "outputs": [],
   "source": [
    "# Filtering for debit transactions and group by account number\n",
    "debit_counts = ctoc_db[ctoc_db[\"Type_of_Transaction\"] == \"Debit\"].groupby(\"Account_Number\").size().reset_index(name=\"Debit_Count\")\n",
    "\n",
    "# Calculating the mean debit count\n",
    "mean_debit_count = debit_counts[\"Debit_Count\"].mean()\n",
    "\n",
    "print(\"Mean number of debit transactions:\", mean_debit_count)"
   ]
  },
  {
   "cell_type": "code",
   "execution_count": null,
   "id": "e8bf143b",
   "metadata": {},
   "outputs": [],
   "source": [
    "# Creating a new dataframe with the count of debit transactions for each account number\n",
    "counts = ctoc_db[ctoc_db[\"Type_of_Transaction\"] == \"Debit\"].groupby(\"Account_Number\").size().reset_index(name=\"Debit_Count\")\n",
    "\n",
    "# Classifying customers based on their debit transaction count\n",
    "def classify_customers(row):\n",
    "    count = row[\"Debit_Count\"]\n",
    "    if count < 5:\n",
    "        return \"High Churn Risk\"\n",
    "    elif count > 4 and count < 18:\n",
    "        return \"Medium Churn Risk\"\n",
    "    else:\n",
    "        return \"Low Churn Risk\"\n",
    "\n",
    "counts[\"Churn_Risk\"] = counts.apply(classify_customers, axis=1)\n",
    "\n",
    "# Creating a scatter plot with different colors for each segment\n",
    "colors = {\"High Churn Risk\": \"red\", \"Medium Churn Risk\": \"orange\", \"Low Churn Risk\": \"green\"}\n",
    "plt.figure(figsize=(12, 8), dpi=80)\n",
    "plt.scatter(counts[\"Account_Number\"], counts[\"Debit_Count\"], c=counts[\"Churn_Risk\"].apply(lambda x: colors[x]), alpha=0.5)\n",
    "\n",
    "# Adding labels and title to the plot\n",
    "\n",
    "plt.xlabel(\"Account Number\")\n",
    "plt.ylabel(\"Debit Transaction Count\")\n",
    "plt.title(\"Customer Segmentation by Debit Transaction Count\")\n",
    "\n",
    "# Showing the plot\n",
    "plt.show()\n"
   ]
  },
  {
   "cell_type": "code",
   "execution_count": null,
   "id": "24175f96",
   "metadata": {},
   "outputs": [],
   "source": [
    "# Creating separate dataframes based on churn risk\n",
    "high_churn_risk = counts[counts[\"Churn_Risk\"] == \"High Churn Risk\"]\n",
    "medium_churn_risk = counts[counts[\"Churn_Risk\"] == \"Medium Churn Risk\"]\n",
    "low_churn_risk = counts[counts[\"Churn_Risk\"] == \"Low Churn Risk\"]"
   ]
  },
  {
   "cell_type": "code",
   "execution_count": null,
   "id": "d8a69553",
   "metadata": {},
   "outputs": [],
   "source": [
    "# Printing 'high_churn_risk'\n",
    "high_churn_risk"
   ]
  },
  {
   "cell_type": "code",
   "execution_count": null,
   "id": "7f6599f3",
   "metadata": {},
   "outputs": [],
   "source": [
    "lb= lloyds_db.copy()\n"
   ]
  },
  {
   "cell_type": "code",
   "execution_count": null,
   "id": "8d8f1444",
   "metadata": {},
   "outputs": [],
   "source": [
    "# Convert the 'Date' column to a Pandas datetime format\n",
    "lb['Date'] = pd.to_datetime(lb['Date'])\n",
    "\n",
    "# Group the data by day and count the number of transactions\n",
    "transactions_per_day = lb.groupby(['Date'])['Account_Number'].count()\n",
    "\n",
    "# Calculate the mean, minimum, and maximum number of transactions per day\n",
    "mean_transactions_per_day = transactions_per_day.mean()\n",
    "min_transactions_per_day = transactions_per_day.min()\n",
    "max_transactions_per_day = transactions_per_day.max()\n",
    "\n",
    "# Print the results\n",
    "print('Mean number of transactions per day:', mean_transactions_per_day)\n",
    "print('Minimum number of transactions per day:', min_transactions_per_day)\n",
    "print('Maximum number of transactions per day:', max_transactions_per_day)"
   ]
  },
  {
   "cell_type": "code",
   "execution_count": null,
   "id": "8deed8c4",
   "metadata": {},
   "outputs": [],
   "source": [
    "# Creating a new dataframe with the count of debit transactions for each account number\n",
    "counts_df = lb[lb[\"Type_of_Transaction\"] == \"Debit\"].groupby(\"Account_Number\").size().reset_index(name=\"Debit_Count\")\n",
    "\n",
    "# Classifying customers based on their debit transaction count\n",
    "def classify_customers(row):\n",
    "    count = row[\"Debit_Count\"]\n",
    "    if count < 150:\n",
    "        return \"High Churn Risk\"\n",
    "    elif count < 149 and count >360:\n",
    "        return \"Medium Churn Risk\"\n",
    "    else:\n",
    "        return \"Low Churn Risk\"\n",
    "\n",
    "counts_df[\"Churn_Risk\"] = counts_df.apply(classify_customers, axis=1)\n",
    "\n",
    "# Creating a scatter plot with different colors for each segment\n",
    "colors = {\"High Churn Risk\": \"red\", \"Medium Churn Risk\": \"orange\", \"Low Churn Risk\": \"green\"}\n",
    "plt.figure(figsize=(12, 8), dpi=80)\n",
    "plt.scatter(counts_df[\"Account_Number\"], counts_df[\"Debit_Count\"], c=counts_df[\"Churn_Risk\"].apply(lambda x: colors[x]), alpha=0.5)\n",
    "\n",
    "# Adding labels and title to the plot\n",
    "\n",
    "plt.xlabel(\"Account Number\")\n",
    "plt.ylabel(\"Debit Transaction Count\")\n",
    "plt.title(\"Customer Segmentation by Debit Transaction Count\")\n",
    "\n",
    "# Showing the plot\n",
    "plt.show()\n"
   ]
  },
  {
   "cell_type": "code",
   "execution_count": null,
   "id": "a95c8540",
   "metadata": {},
   "outputs": [],
   "source": [
    "counts_df.mean()"
   ]
  },
  {
   "cell_type": "code",
   "execution_count": null,
   "id": "a5aba1c6",
   "metadata": {},
   "outputs": [],
   "source": [
    "counts_df.min()"
   ]
  },
  {
   "cell_type": "code",
   "execution_count": null,
   "id": "1f7ea213",
   "metadata": {},
   "outputs": [],
   "source": [
    "counts_df.max()"
   ]
  },
  {
   "cell_type": "code",
   "execution_count": null,
   "id": "7a072433",
   "metadata": {},
   "outputs": [],
   "source": [
    "# Checking whether the data types are correct for each column\n",
    "lloyds_db.info()"
   ]
  },
  {
   "cell_type": "markdown",
   "id": "59a88f99",
   "metadata": {},
   "source": [
    "# Using regression to predict credit card worthiness of customers based on balance"
   ]
  },
  {
   "cell_type": "code",
   "execution_count": null,
   "id": "bbe925ec",
   "metadata": {},
   "outputs": [],
   "source": [
    "# Creating a new variable 'LLDB'\n",
    "LLDB = lloyds_db.copy()"
   ]
  },
  {
   "cell_type": "code",
   "execution_count": null,
   "id": "8703c34e",
   "metadata": {},
   "outputs": [],
   "source": [
    "# Droping unimportant features\n",
    "LLDB.drop([\"Third_Party_Account_Number\", \"Third_Party_Name\", \"Time\", \"Type_of_Transaction\"], axis=1, inplace=True)\n",
    "\n",
    "# Converting date to datetime format and extract month and year\n",
    "LLDB['Date'] = pd.to_datetime(LLDB['Date'])\n",
    "LLDB['month'] = LLDB['Date'].dt.month\n",
    "LLDB['year'] = LLDB['Date'].dt.year\n",
    "\n",
    "# Calculating the balance at the end of each month for each customer\n",
    "balance = LLDB.groupby(['Account_Number', 'month', 'year']).tail(1)[['Account_Number', 'month', 'year', 'Balance']]\n",
    "balance['creditworthy'] = (balance['Balance'] > 0).astype(int)\n",
    "balance.drop('Balance', axis=1, inplace=True)\n",
    "\n",
    "# Merging with original data\n",
    "LLDB = LLDB.merge(balance, on=['Account_Number', 'month', 'year'])\n",
    "\n",
    "# Splitting the data into training and testing sets\n",
    "X = LLDB.drop(['creditworthy', 'Date'], axis=1)\n",
    "y = LLDB['creditworthy']\n",
    "X_train, X_test, y_train, y_test = train_test_split(X, y, test_size=0.2, random_state=42)\n",
    "\n",
    "# Training a logistic regression model\n",
    "model = LogisticRegression()\n",
    "model.fit(X_train, y_train)\n",
    "\n",
    "# Making predictions on the testing set and evaluate the model\n",
    "y_pred = model.predict(X_test)\n",
    "accuracy = accuracy_score(y_test, y_pred)\n",
    "confusion = confusion_matrix(y_test, y_pred)\n",
    "print(\"Accuracy:\", accuracy)\n",
    "print(\"Confusion matrix:\\n\", confusion)\n",
    "\n",
    "# Plotting a confusion matrix\n",
    "plt.figure(figsize=(5,5))\n",
    "plt.imshow(confusion, cmap=plt.cm.Blues)\n",
    "plt.xticks([0,1], ['Not Creditworthy', 'Creditworthy'], rotation=45)\n",
    "plt.yticks([0,1], ['Not Creditworthy', 'Creditworthy'])\n",
    "plt.xlabel('Predicted')\n",
    "plt.ylabel('Actual')\n",
    "plt.title('Confusion Matrix')\n",
    "plt.colorbar()\n",
    "plt.show()"
   ]
  },
  {
   "cell_type": "code",
   "execution_count": null,
   "id": "af18dabe",
   "metadata": {},
   "outputs": [],
   "source": [
    "# Generating predicted probabilities for the positive class using the test set data and trained model\n",
    "y_prob = model.predict_proba(X_test)[:, 1]\n",
    "\n",
    "# Computing precision-recall curve\n",
    "precision, recall, _ = precision_recall_curve(y_test, y_prob)\n",
    "\n",
    "# Computing area under precision-recall curve\n",
    "auc_pr = auc(recall, precision)\n",
    "\n",
    "# Computing ROC curve\n",
    "fpr, tpr, _ = roc_curve(y_test, y_prob)\n",
    "\n",
    "# Computing area under ROC curve\n",
    "auc_roc = auc(fpr, tpr)\n",
    "\n",
    "# Plotting precision-recall curve\n",
    "plt.plot(recall, precision, color='blue', label='PR curve (AUC = %0.2f)' % auc_pr)\n",
    "plt.xlabel('Recall')\n",
    "plt.ylabel('Precision')\n",
    "plt.title('Precision-Recall Curve')\n",
    "plt.legend(loc='lower left')\n",
    "plt.show()\n",
    "\n",
    "# Plotting ROC curve\n",
    "plt.plot(fpr, tpr, color='red', label='ROC curve (AUC = %0.2f)' % auc_roc)\n",
    "plt.xlabel('False Positive Rate')\n",
    "plt.ylabel('True Positive Rate')\n",
    "plt.title('ROC Curve')\n",
    "plt.legend(loc='lower right')\n",
    "plt.show()"
   ]
  },
  {
   "cell_type": "code",
   "execution_count": null,
   "id": "23683148",
   "metadata": {},
   "outputs": [],
   "source": [
    "# Printing 'LLDB'\n",
    "LLDB"
   ]
  },
  {
   "cell_type": "code",
   "execution_count": null,
   "id": "ebc70dc6",
   "metadata": {},
   "outputs": [],
   "source": [
    "# Making predictions on the entire dataset\n",
    "LLDB['y_pred'] = model.predict(X)\n",
    "\n",
    "# Grouping the data by customer account number and calculating the difference between actual and predicted values\n",
    "customer_data = LLDB.groupby('Account_Number').apply(lambda x: (x['creditworthy'] - x['y_pred']).mean())\n",
    "\n",
    "# Plotting the difference for each customer as a line graph\n",
    "plt.figure(figsize=(15, 5))\n",
    "plt.plot(customer_data.index, customer_data.values)\n",
    "plt.xlabel('Customer Account Number')\n",
    "plt.ylabel('Difference in Actual and Predicted Values')\n",
    "plt.title('Creditworthiness Predictions')\n",
    "plt.show()\n"
   ]
  },
  {
   "cell_type": "markdown",
   "id": "44a419ed",
   "metadata": {},
   "source": [
    "# We can see that mostly the difference is around zero but goes to a higher value in some cases. Thus depicting a good accuracy of 82%"
   ]
  },
  {
   "cell_type": "code",
   "execution_count": null,
   "id": "0a2e9bfc",
   "metadata": {},
   "outputs": [],
   "source": [
    "rf = RandomForestClassifier()\n",
    "rf.fit(X_train, y_train)\n",
    "\n",
    "# Making predictions on the testing set and evaluate the model\n",
    "y_predrf = rf.predict(X_test)\n",
    "accuracy = accuracy_score(y_test, y_predrf)\n",
    "confusionrf = confusion_matrix(y_test, y_predrf)\n",
    "print(\"Accuracy:\", accuracy)\n",
    "print(\"Confusion matrix:\\n\", confusion)\n",
    "\n",
    "# Plotting a confusion matrix\n",
    "plt.figure(figsize=(5,5))\n",
    "plt.imshow(confusionrf, cmap=plt.cm.Blues)\n",
    "plt.xticks([0,1], ['Not Creditworthy', 'Creditworthy'], rotation=45)\n",
    "plt.yticks([0,1], ['Not Creditworthy', 'Creditworthy'])\n",
    "plt.xlabel('Predicted')\n",
    "plt.ylabel('Actual')\n",
    "plt.title('Confusion Matrix')\n",
    "plt.colorbar()\n",
    "plt.show()"
   ]
  },
  {
   "cell_type": "markdown",
   "id": "1a30b0ff",
   "metadata": {},
   "source": [
    "# The Randomforest classifier works much better than the Logistic Regressor to predict credit card worthiness"
   ]
  },
  {
   "cell_type": "code",
   "execution_count": null,
   "id": "956118ce",
   "metadata": {},
   "outputs": [],
   "source": [
    "# Returning unique values of the \"Third_Party_Name\" column in the \"ctob_db\" dataframe\n",
    "ctob_db.Third_Party_Name.unique()"
   ]
  },
  {
   "cell_type": "markdown",
   "id": "9f0e12db",
   "metadata": {},
   "source": [
    "# Categorising expenses and balances based on where the money is spent"
   ]
  },
  {
   "cell_type": "code",
   "execution_count": null,
   "id": "58c47ce7",
   "metadata": {},
   "outputs": [],
   "source": [
    "# Defining the categories and their corresponding keywords\n",
    "categories = {\n",
    "    \"Grocery\": [\"Tesco\", \"Coop\", \"Sainsbury\", \"Asda\", \"Morrisons\", \"Aldi\", \"Lidl\", \"Millets\"],\n",
    "    \"Food/Drink\": [\"Adams\", \"White Hart\", \"Starbucks\", \"Coffee\", \"Red Lion\", \"Crown\", \"The Royal Oak\" ,\"Pizza\", \"KFC\", \"Harvester\", \"Bill's\", \"McDonald's\", \"Burger King\", \"Nando's\", \"Deliveroo\", \"Just Eat\", \"Domino's\", \"Pizza Hut\", \"Greggs\", \"Rose\", \"Italian\"],\n",
    "    \"Fashion\": [\"Zara\", \"Matalan\", \"H&M\", \"Wool\", \"Primark\", \"Gap\", \"Topshop\", \"Sports Direct\", \"Next\", \"River Island\", \"Nike\", \"Adidas\", \"JD Sports\", \"Footlocker\", \"North Face\", \"TK\", \"Mountain\", \"Yarn\"],\n",
    "    \"Misc.\": [\"Amazon\", \"Ebay\", \"Shell\", \"BP\", \"Esso\", \"Halifax\", \"Music\", \"Netflix\", \"Now TV\", \"Spotify\", \"Pets\", \"NURSERY\", \"Hobbycraft\", \"Gym\", \"GYM\"],\n",
    "    \"Academic/Leisure\": [\"Waterstones\", \"Blackwell's\" ,\"HMV\", \"WHSmith\", \"Museum\", \"Theatre\", \"Cinema\", \"National Trust\", \"Cass Art\", \"Musical\", \"CeX\", \"Game\"]\n",
    "}"
   ]
  },
  {
   "cell_type": "code",
   "execution_count": null,
   "id": "82e01382",
   "metadata": {},
   "outputs": [],
   "source": [
    "# Creating a new varaibale cb_data and it creates a copy of 'ctob_db' in the new variable 'cb_data'\n",
    "cb_data = ctob_db.copy()"
   ]
  },
  {
   "cell_type": "code",
   "execution_count": null,
   "id": "d9243782",
   "metadata": {},
   "outputs": [],
   "source": [
    "# Adding a new column for the transaction category\n",
    "cb_data[\"Category\"] = \"\"\n",
    "\n",
    "# Iterating over the transactions and categorize them\n",
    "for i, row in cb_data.iterrows():\n",
    "    for category, keywords in categories.items():\n",
    "        for keyword in keywords:\n",
    "            if keyword in row[\"Third_Party_Name\"]:\n",
    "                cb_data.at[i, \"Category\"] = category\n",
    "                break\n",
    "\n"
   ]
  },
  {
   "cell_type": "code",
   "execution_count": null,
   "id": "7d21e5f1",
   "metadata": {},
   "outputs": [],
   "source": [
    "# Printing the first 15 transaction data with categories\n",
    "cb_data.head(15)"
   ]
  },
  {
   "cell_type": "code",
   "execution_count": null,
   "id": "bb58d73e",
   "metadata": {},
   "outputs": [],
   "source": [
    "# Checking for empty\n",
    "cb_data[cb_data['Category'] == ''].index"
   ]
  },
  {
   "cell_type": "code",
   "execution_count": null,
   "id": "f98b0aaf",
   "metadata": {},
   "outputs": [],
   "source": [
    "# Defining a custom color palette\n",
    "custom_palette = {\"Food/Drink\": \"blue\", \"Fashion\": \"orange\", \"Academic/Leisure\": \"green\", \"Misc.\": \"red\", \"Grocery\" : \"violet\"}\n",
    "\n",
    "# Using the custom color palette with seaborn\n",
    "sns.set(rc={'figure.figsize':(16,8)})\n",
    "sns.scatterplot(data=cb_data, x=\"Balance\", y=\"Amount\", hue=\"Category\", palette=custom_palette)\n",
    "plt.title('Categorizing customers based on sector- wise expenditure')\n"
   ]
  },
  {
   "cell_type": "markdown",
   "id": "582f1e49",
   "metadata": {},
   "source": [
    "# Inferences: \n",
    "##   1. Least amount of money is spent on misellaneous\n",
    "##   2. Most amount of moeny is spent on food and drinks. Very few people with negative balance go out for a drink or to a restaurant\n",
    "##   3. Customers with negative balance rarely spend money on clothes\n",
    "##   4. Everyone spends money on groceries but it is not that costly. "
   ]
  },
  {
   "cell_type": "markdown",
   "id": "e5b6de7a",
   "metadata": {},
   "source": [
    "# Categorising customers based on the amount they spend and the balance they have"
   ]
  },
  {
   "cell_type": "code",
   "execution_count": null,
   "id": "c9b969ce",
   "metadata": {},
   "outputs": [],
   "source": [
    "# Creating a new varaibale CBD and it creates a copy of 'cb_data' in the new variable 'CBD'\n",
    "CBD = cb_data.copy()"
   ]
  },
  {
   "cell_type": "code",
   "execution_count": null,
   "id": "6743ada9",
   "metadata": {},
   "outputs": [],
   "source": [
    "# Creating a new column for customer category\n",
    "def categorize_customer(row):\n",
    "    if row['Amount'] > 1500 and row['Balance'] < 2000:\n",
    "        return 'High Spender, Low Balance'\n",
    "    elif row['Amount'] > 1500 and row['Balance'] >= 2000:\n",
    "        return 'High Spender, High Balance'\n",
    "    elif row['Amount'] <= 1500 and row['Balance'] < 2000:\n",
    "        return 'Low Spender, Low Balance'\n",
    "    else:\n",
    "        return 'Low Spender, High Balance'\n",
    "\n",
    "CBD['Customer Category'] = CBD.apply(categorize_customer, axis=1)\n",
    "\n",
    "# Creating a scatter plot\n",
    "colors = {'High Spender, Low Balance': 'red', \n",
    "          'High Spender, High Balance': 'blue',\n",
    "          'Low Spender, Low Balance': 'green', \n",
    "          'Low Spender, High Balance': 'orange'}\n",
    "\n",
    "fig, ax = plt.subplots(figsize=(15, 8))\n",
    "for category, color in colors.items():\n",
    "    x = CBD[CBD['Customer Category'] == category]['Amount']\n",
    "    y = CBD[CBD['Customer Category'] == category]['Balance']\n",
    "    ax.scatter(x, y, c=color, label=category)\n",
    "\n",
    "ax.legend()\n",
    "ax.set_xlabel('Amount Spent')\n",
    "ax.set_ylabel('Balance')\n",
    "ax.set_title('Customer Spending and Balance')\n",
    "plt.show()\n"
   ]
  },
  {
   "cell_type": "code",
   "execution_count": null,
   "id": "41eaa0f5",
   "metadata": {},
   "outputs": [],
   "source": [
    "# Printing 'cb_data'\n",
    "cb_data"
   ]
  },
  {
   "cell_type": "markdown",
   "id": "29326c4a",
   "metadata": {},
   "source": [
    "# Sector Classification using KNN"
   ]
  },
  {
   "cell_type": "code",
   "execution_count": null,
   "id": "c7238422",
   "metadata": {},
   "outputs": [],
   "source": [
    "# Creating a new varaibale cbd and it creates a copy of 'cb_data' in the new variable 'cbd'\n",
    "cbd = cb_data.copy()"
   ]
  },
  {
   "cell_type": "code",
   "execution_count": null,
   "id": "e469fe20",
   "metadata": {},
   "outputs": [],
   "source": [
    "# Dropping unwanted columns\n",
    "cbd = cbd.drop(columns=['Date', 'Time', 'Type_of_Transaction', 'Third_Party_Name'])\n",
    "\n",
    "# Encoding categorical variables\n",
    "encoder = LabelEncoder()\n",
    "cbd['Category'] = encoder.fit_transform(cbd['Category'])\n",
    "\n",
    "# Splitting the data into training and testing sets\n",
    "X = cbd.drop(columns=['Category'])\n",
    "y = cbd['Category']\n",
    "X_train, X_test, y_train, y_test = train_test_split(X, y, test_size=0.2, random_state=42)\n",
    "\n",
    "# Normalizing data\n",
    "from sklearn.preprocessing import MinMaxScaler\n",
    "scaler = MinMaxScaler()\n",
    "X_train = scaler.fit_transform(X_train)\n",
    "X_test = scaler.transform(X_test)\n",
    "\n",
    "# Training the KNN model\n",
    "knn = KNeighborsClassifier(n_neighbors=5)\n",
    "knn.fit(X_train, y_train)\n",
    "\n",
    "# Predicting the categories of the test data\n",
    "y_pred = knn.predict(X_test)\n",
    "\n",
    "# Evaluating the model\n",
    "from sklearn.metrics import accuracy_score\n",
    "accuracy = accuracy_score(y_test, y_pred)\n",
    "print(f'Accuracy: {accuracy:.2f}')\n"
   ]
  },
  {
   "cell_type": "markdown",
   "id": "a42d83c9",
   "metadata": {},
   "source": [
    "# 93% accuracy in sector classification using account number, amount balance and third party account"
   ]
  },
  {
   "cell_type": "code",
   "execution_count": null,
   "id": "af1dff2f",
   "metadata": {},
   "outputs": [],
   "source": [
    "# Creating confusion matrix and classification report for model evaluation\n",
    "cm = confusion_matrix(y_test, y_pred)\n",
    "cr = classification_report(y_test, y_pred)"
   ]
  },
  {
   "cell_type": "code",
   "execution_count": null,
   "id": "d6ad4f97",
   "metadata": {},
   "outputs": [],
   "source": [
    "# Plotting a confusion matrix\n",
    "plt.imshow(cm, cmap=plt.cm.Blues)\n",
    "plt.xlabel('Predicted')\n",
    "plt.ylabel('Actual')\n",
    "plt.title('Confusion Matrix')\n",
    "plt.colorbar()\n",
    "plt.show()"
   ]
  },
  {
   "cell_type": "code",
   "execution_count": null,
   "id": "d6f396a2",
   "metadata": {},
   "outputs": [],
   "source": [
    "# Generating a Pandas dataframe from the classification report of the model's performance on the test data\n",
    "# Removing the 'support' column\n",
    "cr_df = pd.DataFrame(classification_report(y_test, y_pred, output_dict=True)).T\n",
    "cr_df.drop(['support'], axis=1, inplace=True)\n",
    "cr_df.style.background_gradient(cmap='Blues')"
   ]
  },
  {
   "cell_type": "markdown",
   "id": "88e53fad",
   "metadata": {},
   "source": [
    "# Seasonal Trends for overall spending for customers"
   ]
  },
  {
   "cell_type": "code",
   "execution_count": null,
   "id": "417128d8",
   "metadata": {},
   "outputs": [],
   "source": [
    "# Printing 'lloyds_group_man'\n",
    "lloyds_group_mon"
   ]
  },
  {
   "cell_type": "code",
   "execution_count": null,
   "id": "69ca61ce",
   "metadata": {},
   "outputs": [],
   "source": [
    "# Grouping the data by 'month_'\n",
    "monthly_data = lloyds_group_mon.groupby('month_').agg({'Total_Amount': 'sum', 'Number_of_Transaction': 'sum'})\n",
    "\n",
    "# Plotting the trends\n",
    "fig, ax1 = plt.subplots()\n",
    "\n",
    "# Plotting the 'Total Amount Spent'\n",
    "color = 'tab:red'\n",
    "ax1.set_xlabel('Month')\n",
    "ax1.set_ylabel('Total Amount Spent', color=color)\n",
    "ax1.plot(monthly_data.index, monthly_data['Total_Amount'], color=color)\n",
    "ax1.tick_params(axis='y', labelcolor=color)\n",
    "\n",
    "# Adding a secondary y-axis for the 'Number_of_Transaction'\n",
    "ax2 = ax1.twinx()\n",
    "\n",
    "# Plotting the number of transactions\n",
    "color = 'tab:blue'\n",
    "ax2.set_ylabel('Number of Transactions', color=color)\n",
    "ax2.plot(monthly_data.index, monthly_data['Number_of_Transaction'], color=color)\n",
    "ax2.tick_params(axis='y', labelcolor=color)\n",
    "\n",
    "# Adding title and labels\n",
    "plt.title('Seasonal Trends in Spending')\n",
    "plt.xticks(monthly_data.index)\n",
    "plt.show()"
   ]
  },
  {
   "cell_type": "markdown",
   "id": "9759fa52",
   "metadata": {},
   "source": [
    "# Change in customer spending"
   ]
  },
  {
   "cell_type": "code",
   "execution_count": null,
   "id": "2debc7d7",
   "metadata": {},
   "outputs": [],
   "source": [
    "# Aggregating the data by Account_Number and calculate the sum of Total_Amount for each customer\n",
    "agg_data = lloyds_group_mon.groupby(\"Account_Number\").agg({\"Total_Amount\": \"sum\"})\n",
    "\n",
    "# Calculating the percentage change in spending from the first month to the last month for each customer\n",
    "agg_data[\"pct_change\"] = (agg_data[\"Total_Amount\"].iloc[-1] - agg_data[\"Total_Amount\"].iloc[0]) / agg_data[\"Total_Amount\"].iloc[0] * 100\n",
    "\n",
    "# Sorting the customers based on the percentage change in spending\n",
    "top_inc = agg_data.sort_values(\"pct_change\", ascending=False).head(5)  # top 5 customers with increased spending\n",
    "top_dec = agg_data.sort_values(\"pct_change\", ascending=True).head(5)   # top 5 customers with decreased spending\n",
    "\n",
    "# Displaying the results\n",
    "print(\"Top 5 customers with increased spending:\")\n",
    "print(top_inc)\n",
    "\n",
    "print(\"\\nTop 5 customers with decreased spending:\")\n",
    "print(top_dec)"
   ]
  },
  {
   "cell_type": "code",
   "execution_count": null,
   "id": "8ec06417",
   "metadata": {},
   "outputs": [],
   "source": [
    "# Filtering the original data for the top 5 customers with increased spending\n",
    "inc_data = lloyds_group_mon[lloyds_group_mon[\"Account_Number\"].isin(top_inc.index)]\n",
    "\n",
    "# Filtering the original data for the top 5 customers with decreased spending\n",
    "dec_data = lloyds_group_mon[lloyds_group_mon[\"Account_Number\"].isin(top_dec.index)]\n",
    "\n",
    "# Plotting the 'Total_Amount' against the 'month_' for the top 5 customers with increased spending\n",
    "for i, grp in inc_data.groupby(\"Account_Number\"):\n",
    "    plt.plot(grp[\"month_\"], grp[\"Total_Amount\"], label=str(i))\n",
    "plt.title(\"Top 5 customers with increased spending\")\n",
    "plt.xlabel(\"Month\")\n",
    "plt.ylabel(\"Total Amount\")\n",
    "plt.legend()\n",
    "plt.show()\n",
    "\n",
    "# Plotting the 'Total_Amount' against the 'month_' for the top 5 customers with decreased spending\n",
    "for i, grp in dec_data.groupby(\"Account_Number\"):\n",
    "    plt.plot(grp[\"month_\"], grp[\"Total_Amount\"], label=str(i))\n",
    "plt.title(\"Top 5 customers with decreased spending\")\n",
    "plt.xlabel(\"Month\")\n",
    "plt.ylabel(\"Total Amount\")\n",
    "plt.legend()\n",
    "plt.show()\n"
   ]
  },
  {
   "cell_type": "markdown",
   "id": "1f3d33e9",
   "metadata": {},
   "source": [
    "## Inference  : Bank can approach customer who's spending is low and give them more rewards"
   ]
  },
  {
   "cell_type": "markdown",
   "id": "b95768f6",
   "metadata": {},
   "source": [
    "# Businesses that pay highest salaries"
   ]
  },
  {
   "cell_type": "code",
   "execution_count": null,
   "id": "6be87aa2",
   "metadata": {},
   "outputs": [],
   "source": [
    "# Printing 'ctob_db'\n",
    "ctob_db"
   ]
  },
  {
   "cell_type": "code",
   "execution_count": null,
   "id": "04b88787",
   "metadata": {},
   "outputs": [],
   "source": [
    "# Grouping the transactions by 'Third_Party_Name' and sum the 'Amount' column\n",
    "third_party_totals = ctob_db.groupby('Third_Party_Name')['Amount'].sum().sort_values(ascending=False)\n",
    "\n",
    "# Printing the top 10 third party names and their total earnings\n",
    "print(third_party_totals.head(10))"
   ]
  },
  {
   "cell_type": "markdown",
   "id": "863b63af",
   "metadata": {},
   "source": [
    "# Businesses that make most money"
   ]
  },
  {
   "cell_type": "code",
   "execution_count": null,
   "id": "bc38f88a",
   "metadata": {},
   "outputs": [],
   "source": [
    "# Filtering only the rows where 'Type_of_Transaction' is 'Debit'\n",
    "df = ctob_db[ctob_db['Type_of_Transaction'] == 'Debit']\n",
    "\n",
    "# Grouping the data by 'Third_Party_Name' and 'month_', and sum the 'Amount' column for each group\n",
    "grouped_df = df.groupby(['Third_Party_Name', 'month_'])['Amount'].sum().reset_index()\n",
    "\n",
    "# Sorting the resulting dataframe in descending order by the total amount spent by customers on each business for all months combined\n",
    "sorted_df = grouped_df.groupby('Third_Party_Name')['Amount'].sum().reset_index().sort_values('Amount', ascending=True)\n",
    "\n",
    "# Displaying the top 10 businesses by total amount spent by customers\n",
    "top_businesses = sorted_df.head(10)\n",
    "print(top_businesses)\n"
   ]
  },
  {
   "cell_type": "code",
   "execution_count": null,
   "id": "6c496f7f",
   "metadata": {},
   "outputs": [],
   "source": [
    "# Creating a horizontal bar chart for displaying the top 10 performing businesses based on the total negative sum of amounts \n",
    "sns.set(style=\"whitegrid\")\n",
    "plt.figure(figsize=(8,6))\n",
    "sns.barplot(x='Amount', y='Third_Party_Name', data=top_businesses, palette='viridis')\n",
    "plt.title('Top 10 Well Performing Businesses', fontsize=16)\n",
    "plt.xlabel('Total Negative Sum of Amounts', fontsize=12)\n",
    "plt.ylabel('Business Name', fontsize=12)\n",
    "plt.show()"
   ]
  },
  {
   "cell_type": "markdown",
   "id": "058262a4",
   "metadata": {},
   "source": [
    "# Inference: The bank can offer to pro"
   ]
  }
 ],
 "metadata": {
  "kernelspec": {
   "display_name": "Python 3 (ipykernel)",
   "language": "python",
   "name": "python3"
  },
  "language_info": {
   "codemirror_mode": {
    "name": "ipython",
    "version": 3
   },
   "file_extension": ".py",
   "mimetype": "text/x-python",
   "name": "python",
   "nbconvert_exporter": "python",
   "pygments_lexer": "ipython3",
   "version": "3.9.12"
  }
 },
 "nbformat": 4,
 "nbformat_minor": 5
}
