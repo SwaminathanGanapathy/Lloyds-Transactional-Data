{
 "cells": [
  {
   "cell_type": "code",
   "execution_count": null,
   "id": "cfc19e42",
   "metadata": {},
   "outputs": [],
   "source": [
    "# Importing libraries\n",
    "import pandas as pd\n",
    "import numpy as np\n",
    "import re\n",
    "import boto3\n",
    "import seaborn as sns\n",
    "import networkx as nx\n",
    "sns.set(color_codes = True)  #sets nice background color\n",
    "import matplotlib.pyplot as plt\n",
    "from sklearn.preprocessing import StandardScaler\n",
    "from sklearn.cluster import KMeans\n",
    "from sklearn.metrics import silhouette_score"
   ]
  },
  {
   "cell_type": "markdown",
   "id": "d2ebb6cc",
   "metadata": {},
   "source": [
    "# Data Extraction"
   ]
  },
  {
   "cell_type": "code",
   "execution_count": null,
   "id": "1b6b0153",
   "metadata": {},
   "outputs": [],
   "source": [
    "#AWS Access Key, Secret Access Key and Session Token (This needs to be updated for each run)\n",
    "key = 'YOUR_KEY_HERE'\n",
    "secret = 'YOUR_SECRET_HERE'\n",
    "token = 'YOUR_TOKEN_HERE'"
   ]
  },
  {
   "cell_type": "code",
   "execution_count": null,
   "id": "2f2793c5",
   "metadata": {},
   "outputs": [],
   "source": [
    "#Assigning the values of Bucket names and the raw data file name to variables\n",
    "raw_data_bucket = 'lloydsbanking'\n",
    "clean_data_bucket = 'lloydscleandata'\n",
    "raw_data = 'fake_transactional_data.csv'"
   ]
  },
  {
   "cell_type": "code",
   "execution_count": null,
   "id": "21105dfd",
   "metadata": {},
   "outputs": [],
   "source": [
    "#Extracting data from the csv file\n",
    "lloyds = pd.read_csv(\n",
    "    f\"s3://{raw_data_bucket}/{raw_data}\",\n",
    "    storage_options={\n",
    "        \"key\": key,\n",
    "        \"secret\": secret,\n",
    "        \"token\": token,\n",
    "    },\n",
    ")"
   ]
  },
  {
   "cell_type": "code",
   "execution_count": null,
   "id": "ff07235f",
   "metadata": {},
   "outputs": [],
   "source": [
    "#Extracting the csv file\n",
    "#lloyds = pd.read_csv('/Users/Rahul/OneDrive/Desktop/fake_transactional_data.csv')"
   ]
  },
  {
   "cell_type": "code",
   "execution_count": null,
   "id": "fb534fc6",
   "metadata": {},
   "outputs": [],
   "source": [
    "# We have more than 12M points\n",
    "lloyds.shape"
   ]
  },
  {
   "cell_type": "code",
   "execution_count": null,
   "id": "cd87c93e",
   "metadata": {},
   "outputs": [],
   "source": [
    "# Displaying first 5 rows from the data\n",
    "lloyds.head(5)"
   ]
  },
  {
   "cell_type": "code",
   "execution_count": null,
   "id": "0f6baebe",
   "metadata": {},
   "outputs": [],
   "source": [
    "# Checking whether the data types are correct for each column\n",
    "lloyds.info()"
   ]
  },
  {
   "cell_type": "code",
   "execution_count": null,
   "id": "d7fbc2fc",
   "metadata": {},
   "outputs": [],
   "source": [
    "# Creating a dataframe to count the number of missing values\n",
    "pd.DataFrame( lloyds.isnull().sum(), columns= ['Number of missing values'])\n"
   ]
  },
  {
   "cell_type": "code",
   "execution_count": null,
   "id": "4eedc9c6",
   "metadata": {},
   "outputs": [],
   "source": [
    "# Creating a new variable 'data' and assigning the value of 'Lloyds'\n",
    "data = lloyds"
   ]
  },
  {
   "cell_type": "code",
   "execution_count": null,
   "id": "8826176f",
   "metadata": {},
   "outputs": [],
   "source": [
    "# Displaying the number of rows and columns in 'data'\n",
    "data.shape"
   ]
  },
  {
   "cell_type": "markdown",
   "id": "62d31162",
   "metadata": {},
   "source": [
    "# Data Cleaning"
   ]
  },
  {
   "cell_type": "code",
   "execution_count": null,
   "id": "4188bbf5",
   "metadata": {},
   "outputs": [],
   "source": [
    "# Filling the missing value in the 'monopoly_money_amount' column with the median value\n",
    "data['monopoly_money_amount'] = data['monopoly_money_amount'].fillna(data['monopoly_money_amount'].median())"
   ]
  },
  {
   "cell_type": "code",
   "execution_count": null,
   "id": "5bb847ba",
   "metadata": {},
   "outputs": [],
   "source": [
    "# Printing 'data'\n",
    "data"
   ]
  },
  {
   "cell_type": "code",
   "execution_count": null,
   "id": "d9789659",
   "metadata": {},
   "outputs": [],
   "source": [
    "# Counting the number of missing values in each coulmn of the 'data'\n",
    "pd.DataFrame( data.isnull().sum(), columns= ['Number of missing values'])"
   ]
  },
  {
   "cell_type": "code",
   "execution_count": null,
   "id": "c355e3c1",
   "metadata": {},
   "outputs": [],
   "source": [
    "# Filling the missing values in the 'to_randomly_generated_account' column with the most frequent value\n",
    "data['to_randomly_generated_account'] = data['to_randomly_generated_account'].fillna(data['to_randomly_generated_account'].mode().iloc[0])"
   ]
  },
  {
   "cell_type": "code",
   "execution_count": null,
   "id": "6978cd10",
   "metadata": {},
   "outputs": [],
   "source": [
    "# 'to_randomly_generated_account' has no missing values\n",
    "pd.DataFrame( data.isnull().sum(), columns= ['Number of missing values'])"
   ]
  },
  {
   "cell_type": "code",
   "execution_count": null,
   "id": "fad3c6e1",
   "metadata": {},
   "outputs": [],
   "source": [
    "# Filling the missing values in the 'not_happened_yet_date' column with the most frequent value\n",
    "data['not_happened_yet_date'] = data['not_happened_yet_date'].fillna(data['not_happened_yet_date'].mode().iloc[0])"
   ]
  },
  {
   "cell_type": "code",
   "execution_count": null,
   "id": "e19ab8ab",
   "metadata": {},
   "outputs": [],
   "source": [
    "# 'not_happened_yet_date' has no missing values\n",
    "pd.DataFrame( data.isnull().sum(), columns= ['Number of missing values'])"
   ]
  },
  {
   "cell_type": "code",
   "execution_count": null,
   "id": "c53609a8",
   "metadata": {},
   "outputs": [],
   "source": [
    "# Filling the missing values in the 'from_totally_fake_account' column with the most frequent value\n",
    "data['from_totally_fake_account'] = data['from_totally_fake_account'].fillna(data['from_totally_fake_account'].mode().iloc[0])"
   ]
  },
  {
   "cell_type": "code",
   "execution_count": null,
   "id": "9c54f7b6",
   "metadata": {},
   "outputs": [],
   "source": [
    "# Removed all the missing values\n",
    "pd.DataFrame( data.isnull().sum(), columns= ['Number of missing values'])"
   ]
  },
  {
   "cell_type": "code",
   "execution_count": null,
   "id": "9e6d7b94",
   "metadata": {},
   "outputs": [],
   "source": [
    "# 'Data' is cleaned and missing values have been filled\n",
    "data"
   ]
  },
  {
   "cell_type": "markdown",
   "id": "74910a79",
   "metadata": {},
   "source": [
    "# Data Preparation"
   ]
  },
  {
   "cell_type": "code",
   "execution_count": null,
   "id": "f4849009",
   "metadata": {},
   "outputs": [],
   "source": [
    "# Converting the object type of 'from_totally_fake_account' for better understanding\n",
    "data['from_totally_fake_account'] = data['from_totally_fake_account'].astype('object')"
   ]
  },
  {
   "cell_type": "code",
   "execution_count": null,
   "id": "b741ce21",
   "metadata": {},
   "outputs": [],
   "source": [
    "# Checking whether the data types are correct for each column\n",
    "data.info()"
   ]
  },
  {
   "cell_type": "code",
   "execution_count": null,
   "id": "a059d702",
   "metadata": {},
   "outputs": [],
   "source": [
    "# Splitting the 'not_happened_yet_date' into three separate column 'day','month','year'\n",
    "data[[\"day\", \"month\", \"year\"]] = data[\"not_happened_yet_date\"].str.split(\"/\", expand = True)"
   ]
  },
  {
   "cell_type": "code",
   "execution_count": null,
   "id": "ceb4c909",
   "metadata": {},
   "outputs": [],
   "source": [
    "# Printing 'data'\n",
    "data"
   ]
  },
  {
   "cell_type": "code",
   "execution_count": null,
   "id": "520687ab",
   "metadata": {},
   "outputs": [],
   "source": [
    "# Converting 'not_happened_yet_date' column to datetime data type\n",
    "data['not_happened_yet_date'] = pd.to_datetime(data['not_happened_yet_date'], format=\"%d/%m/%Y\")"
   ]
  },
  {
   "cell_type": "code",
   "execution_count": null,
   "id": "3a949b2e",
   "metadata": {},
   "outputs": [],
   "source": [
    "# Checking whether the data types are correct for each column\n",
    "data.info()"
   ]
  },
  {
   "cell_type": "code",
   "execution_count": null,
   "id": "1be98a9c",
   "metadata": {},
   "outputs": [],
   "source": [
    "# Extracting a column 'day of the week' from 'not_happened_yet_date' column\n",
    "data[\"day of the week\"] = data[\"not_happened_yet_date\"].dt.day_name()"
   ]
  },
  {
   "cell_type": "code",
   "execution_count": null,
   "id": "0994cc83",
   "metadata": {},
   "outputs": [],
   "source": [
    "# Printing 'data'\n",
    "data"
   ]
  },
  {
   "cell_type": "code",
   "execution_count": null,
   "id": "11321af9",
   "metadata": {},
   "outputs": [],
   "source": [
    "# Checking whether the data types are correct for each column\n",
    "data.info()"
   ]
  },
  {
   "cell_type": "code",
   "execution_count": null,
   "id": "58702ff5",
   "metadata": {},
   "outputs": [],
   "source": [
    "# Defining list of days of the week in a order  \n",
    "order = [\"Monday\", \"Tuesday\", \"Wednesday\", \"Thursday\", \"Friday\", \"Saturday\", \"Sunday\"]"
   ]
  },
  {
   "cell_type": "code",
   "execution_count": null,
   "id": "4635f841",
   "metadata": {},
   "outputs": [],
   "source": [
    "# Writing data to csv files to load the data to the database\n",
    "#data.to_csv(\"/Users/Rahul/OneDrive/Desktop/lloyds_1.csv\",index=False)"
   ]
  },
  {
   "cell_type": "code",
   "execution_count": null,
   "id": "574e4d66",
   "metadata": {},
   "outputs": [],
   "source": [
    "# Writing data to csv files to load the data to the database\n",
    "data.to_csv(\n",
    "    f\"s3://{clean_data_bucket}/lloyds_1.csv\",\n",
    "    index=False,\n",
    "    storage_options={\n",
    "        \"key\": key,\n",
    "        \"secret\": secret,\n",
    "        \"token\": token,\n",
    "    },\n",
    ")"
   ]
  },
  {
   "cell_type": "code",
   "execution_count": null,
   "id": "d35a2d6c",
   "metadata": {},
   "outputs": [],
   "source": [
    "# Printing data \n",
    "data"
   ]
  },
  {
   "cell_type": "markdown",
   "id": "b1be78b6",
   "metadata": {},
   "source": [
    "## Data Visualisation"
   ]
  },
  {
   "cell_type": "code",
   "execution_count": null,
   "id": "5014bad4",
   "metadata": {},
   "outputs": [],
   "source": [
    "# Extracting top 10 most frequently transacting accounts\n",
    "top_10_acc = data.from_totally_fake_account.value_counts().nlargest(10)"
   ]
  },
  {
   "cell_type": "code",
   "execution_count": null,
   "id": "67053218",
   "metadata": {},
   "outputs": [],
   "source": [
    "# Creating a bar plot of the top 10 most common values in the 'from_totally_fake_account' column using seaborn\n",
    "sns.set(rc={'figure.figsize':(11.7,8.27)})\n",
    "ax = sns.barplot(x=top_10_acc.index, y=top_10_acc.values, palette=\"Accent_r\")\n",
    "ax.set(xlabel='Account Numbers', ylabel='No. of Transactions')\n",
    "plt.show()"
   ]
  },
  {
   "cell_type": "code",
   "execution_count": null,
   "id": "11b5bb54",
   "metadata": {},
   "outputs": [],
   "source": [
    "# Counting the number of occurrences for every unique values in 'to_randomly_generated_account' using the 'value_counts' method\n",
    "data.to_randomly_generated_account.value_counts()"
   ]
  },
  {
   "cell_type": "code",
   "execution_count": null,
   "id": "3762ca0a",
   "metadata": {},
   "outputs": [],
   "source": [
    "# Finding the top 10 most common values in 'randomly_generated_account' using 'nlargest' to select largest 10 values\n",
    "top_10_exp = data.to_randomly_generated_account.value_counts().nlargest(10)"
   ]
  },
  {
   "cell_type": "code",
   "execution_count": null,
   "id": "0ae131de",
   "metadata": {},
   "outputs": [],
   "source": [
    "# Printing top_10_exp\n",
    "top_10_exp"
   ]
  },
  {
   "cell_type": "code",
   "execution_count": null,
   "id": "5978188d",
   "metadata": {},
   "outputs": [],
   "source": [
    "# Creating a bar plot of the top 10 most common values in the 'to_randomly_generated_account' column using seaborn\n",
    "sns.set(rc={'figure.figsize':(20,8.27)})\n",
    "ax = sns.barplot(x=top_10_exp.index, y=top_10_exp.values, palette=\"Accent_r\")\n",
    "ax.set(xlabel='Popular Expenses', ylabel='No. of Transactions')\n",
    "plt.show()"
   ]
  },
  {
   "cell_type": "markdown",
   "id": "e4510592",
   "metadata": {},
   "source": [
    "## Inference: Customers usually spend the most in Pubs and Bars"
   ]
  },
  {
   "cell_type": "markdown",
   "id": "9bb9c9ae",
   "metadata": {},
   "source": [
    "# Splitting data into C-C and C-B transactions"
   ]
  },
  {
   "cell_type": "code",
   "execution_count": null,
   "id": "58b8e778",
   "metadata": {},
   "outputs": [],
   "source": [
    "# Creating a dataframe 'df_customer' where 'to_randomly_generated_account' consists of only numeric value\n",
    "df_customer = data.loc[data['to_randomly_generated_account'].str.isnumeric()]"
   ]
  },
  {
   "cell_type": "code",
   "execution_count": null,
   "id": "65868f81",
   "metadata": {},
   "outputs": [],
   "source": [
    "# Printing df_customer\n",
    "df_customer"
   ]
  },
  {
   "cell_type": "code",
   "execution_count": null,
   "id": "4c8d02f4",
   "metadata": {},
   "outputs": [],
   "source": [
    "# Writing data to csv files to load the data to the database\n",
    "df_customer.to_csv(\n",
    "    f\"s3://{clean_data_bucket}/split_data/C-CLloyds.csv\",\n",
    "    index=False,\n",
    "    storage_options={\n",
    "        \"key\": key,\n",
    "        \"secret\": secret,\n",
    "        \"token\": token,\n",
    "    },\n",
    ")\n"
   ]
  },
  {
   "cell_type": "code",
   "execution_count": null,
   "id": "55c99518",
   "metadata": {},
   "outputs": [],
   "source": [
    "# Creating a dataframe 'df_merch' where index is not present in the 'df-customer' dataframe\n",
    "df_merch = data.loc[~data.index.isin(df_customer.index)]"
   ]
  },
  {
   "cell_type": "code",
   "execution_count": null,
   "id": "a9469873",
   "metadata": {},
   "outputs": [],
   "source": [
    "# Displaying the number of rows and columns in 'df_merch'\n",
    "df_merch.shape"
   ]
  },
  {
   "cell_type": "code",
   "execution_count": null,
   "id": "7c42a0ee",
   "metadata": {},
   "outputs": [],
   "source": [
    "# Printing 'df_merch'\n",
    "df_merch"
   ]
  },
  {
   "cell_type": "code",
   "execution_count": null,
   "id": "43490241",
   "metadata": {},
   "outputs": [],
   "source": [
    "df_merch.to_csv(\n",
    "    f\"s3://{clean_data_bucket}/split_data/C-BLloyds.csv\",\n",
    "    index=False,\n",
    "    storage_options={\n",
    "        \"key\": key,\n",
    "        \"secret\": secret,\n",
    "        \"token\": token,\n",
    "    },\n",
    ")"
   ]
  },
  {
   "cell_type": "markdown",
   "id": "981a622a",
   "metadata": {},
   "source": [
    "## Now we have two seperate dataframes wherein transactions have happened to customers and merchandises"
   ]
  },
  {
   "cell_type": "markdown",
   "id": "d964f57c",
   "metadata": {},
   "source": [
    "# EDA - Customer - Customer Transactions"
   ]
  },
  {
   "cell_type": "code",
   "execution_count": null,
   "id": "a8601def",
   "metadata": {},
   "outputs": [],
   "source": [
    "# Displaying the number of rows and columns in 'df_customer'\n",
    "df_customer.shape"
   ]
  },
  {
   "cell_type": "markdown",
   "id": "7c073fc6",
   "metadata": {},
   "source": [
    "#### There have been 2985833 C-C transactions"
   ]
  },
  {
   "cell_type": "code",
   "execution_count": null,
   "id": "7ce807b3",
   "metadata": {},
   "outputs": [],
   "source": [
    "# Displaying first 5 rows from the 'df_customer'\n",
    "df_customer.head()"
   ]
  },
  {
   "cell_type": "code",
   "execution_count": null,
   "id": "0c560f5b",
   "metadata": {},
   "outputs": [],
   "source": [
    "# Finding the average transactions made in C-C transactions\n",
    "print('Average C-C transactions: ',df_customer.monopoly_money_amount.mean())\n",
    "\n",
    "# Finding the minimum transaction made in C-C transactions\n",
    "print('Minimum C-C transactions: ',df_customer.monopoly_money_amount.min())\n",
    "\n",
    "# Finding the maximum transaction made in C-C transactions\n",
    "print('Maximum C-C transactions: ',df_customer.monopoly_money_amount.max())"
   ]
  },
  {
   "cell_type": "code",
   "execution_count": null,
   "id": "847fea3b",
   "metadata": {},
   "outputs": [],
   "source": [
    "# Creating a line plot to understand expenditure patterns monthly over the year\n",
    "sns.lineplot(data=df_customer, x=\"month\", y=\"monopoly_money_amount\")\n",
    "ax.set_ylabel('Amount')"
   ]
  },
  {
   "cell_type": "code",
   "execution_count": null,
   "id": "c1d883ae",
   "metadata": {},
   "outputs": [],
   "source": [
    "# Creating a line plot to understand expenditure patterns daily over the month\n",
    "sns.lineplot(data=df_customer, x=\"day\", y=\"monopoly_money_amount\")"
   ]
  },
  {
   "cell_type": "markdown",
   "id": "bca6e224",
   "metadata": {},
   "source": [
    "## Inference : It is evident that by the end of the month, the amount of money transferred is the lowest"
   ]
  },
  {
   "cell_type": "code",
   "execution_count": null,
   "id": "4ff01344",
   "metadata": {},
   "outputs": [],
   "source": [
    "# Creating a line plot to see amount of money transacted by customers over the days of week\n",
    "sns.lineplot(data=df_customer, x=\"day of the week\", y=\"monopoly_money_amount\")"
   ]
  },
  {
   "cell_type": "markdown",
   "id": "48b63f81",
   "metadata": {},
   "source": [
    "## Inference: Least amount of money is sent by customers in the weekends"
   ]
  },
  {
   "cell_type": "code",
   "execution_count": null,
   "id": "42ce9cbe",
   "metadata": {},
   "outputs": [],
   "source": [
    "# Creating a bar chart to show how many transactions occurred in each month for the data in the 'df_customer'\n",
    "sns.countplot(x=df_customer[\"month\"])"
   ]
  },
  {
   "cell_type": "markdown",
   "id": "7ad2a6df",
   "metadata": {},
   "source": [
    "### Most months have almost same number of transactions where it seems to be a slight increase in August"
   ]
  },
  {
   "cell_type": "code",
   "execution_count": null,
   "id": "36ebe119",
   "metadata": {},
   "outputs": [],
   "source": [
    "# Creating a bar chart to show how many transactions occurred on each day of the month for the data in the 'df_customer'\n",
    "sns.countplot(x=df_customer[\"day\"])"
   ]
  },
  {
   "cell_type": "markdown",
   "id": "f7ca453e",
   "metadata": {},
   "source": [
    "### The bar chart shows that there were fewer transactions made by customers towards the end of the month compared to the beginning of the month."
   ]
  },
  {
   "cell_type": "code",
   "execution_count": null,
   "id": "69a647ea",
   "metadata": {},
   "outputs": [],
   "source": [
    "# Creating a bar chart to show the number of customer transactions for each day of the week in a order\n",
    "sns.countplot(x=df_customer[\"day of the week\"], order = order)"
   ]
  },
  {
   "cell_type": "markdown",
   "id": "0e0153c7",
   "metadata": {},
   "source": [
    "### This plot shows that majority of spendings for C-C transactions happen during the weekends. Although the amount spent is less we can see there's a huge differnce between the spendings on weekends and weekdays"
   ]
  },
  {
   "cell_type": "markdown",
   "id": "d59f61d5",
   "metadata": {},
   "source": [
    "# Best cutomer for C-C transactions"
   ]
  },
  {
   "cell_type": "code",
   "execution_count": null,
   "id": "7befbd90",
   "metadata": {},
   "outputs": [],
   "source": [
    "# Finding the best customer from the data 'df_customer' for column 'from_totally_fake_account'\n",
    "df_best_cust = df_customer.loc[data['from_totally_fake_account'] == 64214]\n",
    "df_best_cust"
   ]
  },
  {
   "cell_type": "markdown",
   "id": "a73f276f",
   "metadata": {},
   "source": [
    "## Grouping the customers based on the amount of money transacted to customer (C - C)"
   ]
  },
  {
   "cell_type": "code",
   "execution_count": null,
   "id": "f2d9eb9a",
   "metadata": {},
   "outputs": [],
   "source": [
    "# Customers with transaction amount greater than or equal to 500\n",
    "df_cust_transact_greater_than_500 = df_customer[df_customer[\"monopoly_money_amount\"] >= 500]\n",
    "\n",
    "# Customers with transaction amount greater than or equal to 100 and less than 500\n",
    "df_cust_transact_greater_than_100 = df_customer[(df_customer[\"monopoly_money_amount\"] >= 100) & (df_customer[\"monopoly_money_amount\"] < 500)]\n",
    "\n",
    "# Customers with transaction amount greater than or equal to 50 and less than 100\n",
    "df_cust_transact_greater_than_50 = df_customer[(df_customer[\"monopoly_money_amount\"] >= 50) & (df_customer[\"monopoly_money_amount\"] < 100)]\n",
    "\n",
    "# Customers with transaction amount greater than or equal to 10 and less than 50\n",
    "df_cust_transact_greater_than_10 = df_customer[(df_customer[\"monopoly_money_amount\"] >= 10) & (df_customer[\"monopoly_money_amount\"] < 50)]\n",
    "\n",
    "# Customers with transaction amount less than 10\n",
    "df_cust_transact_lesser_than_10 = df_customer[df_customer[\"monopoly_money_amount\"] < 10]"
   ]
  },
  {
   "cell_type": "code",
   "execution_count": null,
   "id": "4cbcf51b",
   "metadata": {},
   "outputs": [],
   "source": [
    "# Displaying first 5 rows for 'df_cust_transact_greater_than_500'\n",
    "df_cust_transact_greater_than_500.head()"
   ]
  },
  {
   "cell_type": "code",
   "execution_count": null,
   "id": "2741effc",
   "metadata": {},
   "outputs": [],
   "source": [
    "# Displaying first 5 rows for 'df_cust_transact_greater_than_100'\n",
    "df_cust_transact_greater_than_100.head()"
   ]
  },
  {
   "cell_type": "code",
   "execution_count": null,
   "id": "373f4a1b",
   "metadata": {},
   "outputs": [],
   "source": [
    "# Displaying first 5 rows for 'df_cust_transact_greater_than_50'\n",
    "df_cust_transact_greater_than_50.head()"
   ]
  },
  {
   "cell_type": "code",
   "execution_count": null,
   "id": "c56354df",
   "metadata": {},
   "outputs": [],
   "source": [
    "# Displaying first 5 rows for 'df_cust_transact_greater_than_10'\n",
    "df_cust_transact_greater_than_10.head()"
   ]
  },
  {
   "cell_type": "code",
   "execution_count": null,
   "id": "569d7780",
   "metadata": {},
   "outputs": [],
   "source": [
    "# Displaying first 5 rows for 'df_cust_transact_lesser_than_10'\n",
    "df_cust_transact_lesser_than_10.head()"
   ]
  },
  {
   "cell_type": "code",
   "execution_count": null,
   "id": "0d73372a",
   "metadata": {},
   "outputs": [],
   "source": [
    "# Displaying the number of rows and columns\n",
    "print(df_cust_transact_lesser_than_10.shape)\n",
    "print(df_cust_transact_greater_than_10.shape)\n",
    "print(df_cust_transact_greater_than_50.shape)\n",
    "print(df_cust_transact_greater_than_100.shape)\n",
    "print(df_cust_transact_greater_than_500.shape)"
   ]
  },
  {
   "cell_type": "markdown",
   "id": "ae34f3e4",
   "metadata": {},
   "source": [
    "## Grouping the customers based on the frequency of the money spent"
   ]
  },
  {
   "cell_type": "code",
   "execution_count": null,
   "id": "4a02e0a7",
   "metadata": {},
   "outputs": [],
   "source": [
    "# Importing the mysql.connector to enable connection to a MySQL database\n",
    "import mysql.connector"
   ]
  },
  {
   "cell_type": "code",
   "execution_count": null,
   "id": "6aea0189",
   "metadata": {},
   "outputs": [],
   "source": [
    "# Establishing connection with MySQL database using provided credantials\n",
    "from mysql.connector import Error\n",
    "\n",
    "try:\n",
    "    connection = mysql.connector.connect(host='lloydsbanking.cu5hh9wuea2p.us-east-1.rds.amazonaws.com',\n",
    "                                         database='lloyds_banking',\n",
    "                                         user='admin',\n",
    "                                         password='latchu1234')\n",
    "    if connection.is_connected():\n",
    "        db_Info = connection.get_server_info()\n",
    "        print(\"Connected to MySQL Server version \", db_Info)\n",
    "        cursor = connection.cursor()\n",
    "        cursor.execute(\"select database();\")\n",
    "        record = cursor.fetchone()\n",
    "        print(\"You're connected to database: \", record)\n",
    "\n",
    "except Error as e:\n",
    "    print(\"Error while connecting to MySQL\", e)\n"
   ]
  },
  {
   "cell_type": "code",
   "execution_count": null,
   "id": "e9433fcf",
   "metadata": {},
   "outputs": [],
   "source": [
    "# Retrieving all customer records from Lloyds banking database and converting them into a Pandas dataframe \n",
    "cursor.execute(\"Select * from lloyds_banking.customer\")\n",
    "cus = cursor.fetchall()\n",
    "customer = pd.DataFrame(cus, columns=[x[0] for x in cursor.description])"
   ]
  },
  {
   "cell_type": "code",
   "execution_count": null,
   "id": "95630129",
   "metadata": {},
   "outputs": [],
   "source": [
    "# Retrieving all customer group records from Lloyds banking database and converting them into a Pandas dataframe.\n",
    "cursor.execute(\"Select * from lloyds_banking.cus_group\")\n",
    "cus_to_cus = cursor.fetchall()\n",
    "cus_group = pd.DataFrame(cus_to_cus, columns=[x[0] for x in cursor.description])"
   ]
  },
  {
   "cell_type": "code",
   "execution_count": null,
   "id": "c9dfa3f5",
   "metadata": {},
   "outputs": [],
   "source": [
    "# Retrieving all business group records from Lloyds banking database and converting them into a Pandas dataframe.\n",
    "cursor.execute(\"Select * from lloyds_banking.bus_group\")\n",
    "cus_to_bus = cursor.fetchall()\n",
    "bus_group = pd.DataFrame(cus_to_bus, columns=[x[0] for x in cursor.description])"
   ]
  },
  {
   "cell_type": "code",
   "execution_count": null,
   "id": "08ec8f5b",
   "metadata": {},
   "outputs": [],
   "source": [
    "# Retrieving all business group monthly records from Lloyds banking database and converting them into a Pandas dataframe.\n",
    "cursor.execute(\"Select * from lloyds_banking.bus_group_mon\")\n",
    "bus_to_bus_mon = cursor.fetchall()\n",
    "bus_group_mon = pd.DataFrame(bus_to_bus_mon, columns=[x[0] for x in cursor.description])"
   ]
  },
  {
   "cell_type": "code",
   "execution_count": null,
   "id": "675531af",
   "metadata": {},
   "outputs": [],
   "source": [
    "# Retrieving all customer group monthly records from Lloyds banking database and converting them into a Pandas dataframe.\n",
    "cursor.execute(\"Select * from lloyds_banking.cus_group_mon\")\n",
    "cus_to_bus_mon = cursor.fetchall()\n",
    "cus_group_mon = pd.DataFrame(cus_to_bus_mon, columns=[x[0] for x in cursor.description])"
   ]
  },
  {
   "cell_type": "code",
   "execution_count": null,
   "id": "ea9e58f0",
   "metadata": {},
   "outputs": [],
   "source": [
    "# Printing 'cus_group'\n",
    "cus_group"
   ]
  },
  {
   "cell_type": "code",
   "execution_count": null,
   "id": "e2e0c78c",
   "metadata": {},
   "outputs": [],
   "source": [
    "#Extracting 'to_randomnly_generated_account','Number_of_Transaction' columns from cus_group and storing in cus_group_transaction\n",
    "cus_group_transaction = cus_group.drop(columns=['to_randomnly_generated_account', 'Number_of_Transaction'])"
   ]
  },
  {
   "cell_type": "code",
   "execution_count": null,
   "id": "1e86ae7f",
   "metadata": {},
   "outputs": [],
   "source": [
    "# Printing 'cus_group_transaction'\n",
    "cus_group_transaction"
   ]
  },
  {
   "cell_type": "code",
   "execution_count": null,
   "id": "20ff973c",
   "metadata": {},
   "outputs": [],
   "source": [
    "# Calculating the median of the 'Total_Amount' column in cus_group_transaction\n",
    "cus_group_transaction.Total_Amount.median()"
   ]
  },
  {
   "cell_type": "code",
   "execution_count": null,
   "id": "9483c033",
   "metadata": {},
   "outputs": [],
   "source": [
    "# Calculating the maximum of the 'Total_Amount' column in cus_group_transaction\n",
    "cus_group_transaction.Total_Amount.max()"
   ]
  },
  {
   "cell_type": "code",
   "execution_count": null,
   "id": "322272ad",
   "metadata": {},
   "outputs": [],
   "source": [
    "# Calculating the minimum of the 'Total_Amount' column in cus_group_transaction\n",
    "cus_group_transaction.Total_Amount.min()"
   ]
  },
  {
   "cell_type": "code",
   "execution_count": null,
   "id": "11416360",
   "metadata": {},
   "outputs": [],
   "source": [
    "# Selecting 'Number_of_Transaction' and 'Total_Amount' columns from the cus_group\n",
    "col_names =['Number_of_Transaction', 'Total_Amount']\n",
    "features = cus_group[col_names]\n",
    "# Standarizing the values and storing the results in scaled_features\n",
    "scaler = StandardScaler().fit(features.values)\n",
    "features = scaler.transform(features.values)\n",
    "scaled_features = pd.DataFrame(features, columns = col_names)\n",
    "\n"
   ]
  },
  {
   "cell_type": "code",
   "execution_count": null,
   "id": "e6011e65",
   "metadata": {},
   "outputs": [],
   "source": [
    "# Performing KMeans clustering on the standardized cus_group_transaction for different number of clusters\n",
    "# Calculating the sum of squared errors (SSE) for each cluster\n",
    "SSE = []\n",
    "for cluster in range(1,10):\n",
    "    kmeans = KMeans(n_clusters = cluster, init='k-means++')\n",
    "    kmeans.fit(scaled_features)\n",
    "    SSE.append(kmeans.inertia_)\n",
    "frame = pd.DataFrame({'Cluster':range(1,10), 'SSE':SSE})\n",
    "# Creating a line graph for plotting the relationship between the number of clusters and SSE\n",
    "plt.figure(figsize=(12,6))\n",
    "plt.plot(frame['Cluster'], frame['SSE'], marker='o')\n",
    "plt.xlabel('Number of clusters')\n",
    "plt.ylabel('Inertia')"
   ]
  },
  {
   "cell_type": "code",
   "execution_count": null,
   "id": "e27a2441",
   "metadata": {},
   "outputs": [],
   "source": [
    "# Performing KMeans clustering on the standardized cus_group_transaction using 3 clusters, and storing the result in 'kmeans'\n",
    "n_clusters = 3\n",
    "kmeans = KMeans(n_clusters= 3, random_state = 42)\n",
    "kmeans.fit(scaled_features)"
   ]
  },
  {
   "cell_type": "code",
   "execution_count": null,
   "id": "1d846661",
   "metadata": {},
   "outputs": [],
   "source": [
    "# Predicting the cluster labels for each row in the standardized cus_group_transaction \n",
    "# Adding the result as a new column 'cluster' in a new dataframe called 'frame'\n",
    "pred = kmeans.predict(scaled_features)\n",
    "frame = pd.DataFrame(cus_group)\n",
    "frame['cluster'] = pred"
   ]
  },
  {
   "cell_type": "code",
   "execution_count": null,
   "id": "c1fe32fd",
   "metadata": {},
   "outputs": [],
   "source": [
    "# Displaying first five rows for 'frame'\n",
    "frame.head()"
   ]
  },
  {
   "cell_type": "code",
   "execution_count": null,
   "id": "7ceef6bf",
   "metadata": {},
   "outputs": [],
   "source": [
    "# Displaying the number of occurrences of each cluster label in the 'cluster' column of the 'frame'\n",
    "frame.cluster.value_counts()"
   ]
  },
  {
   "cell_type": "code",
   "execution_count": null,
   "id": "0f566573",
   "metadata": {},
   "outputs": [],
   "source": [
    "# Creating a scatter plot for visualzing the clustering results\n",
    "x_axis = frame['Number_of_Transaction']\n",
    "y_axis = frame['Total_Amount']\n",
    "plt.figure(figsize = (10, 8))\n",
    "sns.scatterplot(x=x_axis, y=y_axis, hue=frame['cluster'])\n",
    "plt.title('K-means Clustering')\n",
    "plt.show()\n"
   ]
  },
  {
   "cell_type": "code",
   "execution_count": null,
   "id": "b26886ac",
   "metadata": {},
   "outputs": [],
   "source": [
    "# Printing 'bus_group'\n",
    "bus_group"
   ]
  },
  {
   "cell_type": "code",
   "execution_count": null,
   "id": "0cb2db58",
   "metadata": {},
   "outputs": [],
   "source": [
    "#Extracting 'to_randomnly_generated_account','Number_of_Transaction' columns from bus_group and storing in bus_group_transaction\n",
    "bus_group_transaction = bus_group.drop(columns=['to_randomnly_generated_account', 'Number_of_Transaction'])"
   ]
  },
  {
   "cell_type": "code",
   "execution_count": null,
   "id": "ffa808c7",
   "metadata": {},
   "outputs": [],
   "source": [
    "# Printing 'bus_group_transaction'\n",
    "bus_group_transaction"
   ]
  },
  {
   "cell_type": "code",
   "execution_count": null,
   "id": "4b2435cf",
   "metadata": {},
   "outputs": [],
   "source": [
    "# Calculating the median of the 'Total_Amount' column in bus_group_transaction\n",
    "bus_group_transaction.Total_Amount.median()"
   ]
  },
  {
   "cell_type": "code",
   "execution_count": null,
   "id": "503671a8",
   "metadata": {},
   "outputs": [],
   "source": [
    "# Calculating the maximum of the 'Total_Amount' column in bus_group_transaction\n",
    "bus_group_transaction.Total_Amount.max()"
   ]
  },
  {
   "cell_type": "code",
   "execution_count": null,
   "id": "02d62c5f",
   "metadata": {},
   "outputs": [],
   "source": [
    "# Calculating the minimum of the 'Total_Amount' column in bus_group_transaction\n",
    "bus_group_transaction.Total_Amount.min()"
   ]
  },
  {
   "cell_type": "code",
   "execution_count": null,
   "id": "bb4792f5",
   "metadata": {},
   "outputs": [],
   "source": [
    "# Selecting 'Number_of_Transaction' and 'Total_Amount' columns from the bus_group\n",
    "col_names = ['Number_of_Transaction', 'Total_Amount']\n",
    "features2 = bus_group[col_names]\n",
    "# Standarizing the values and storing the results in scaled_features2\n",
    "scaler2 = StandardScaler().fit(features2.values)\n",
    "features2 = scaler.transform(features2.values)\n",
    "scaled_features2 = pd.DataFrame(features2, columns = col_names)"
   ]
  },
  {
   "cell_type": "code",
   "execution_count": null,
   "id": "11d70560",
   "metadata": {},
   "outputs": [],
   "source": [
    "# Performing KMeans clustering on the standardized bus_group_transaction for different number of clusters\n",
    "# Calculating the sum of squared errors (SSE) for each cluster\n",
    "SSE = []\n",
    "for cluster in range(1,10):\n",
    "    kmeans2 = KMeans(n_clusters = cluster, init='k-means++')\n",
    "    kmeans2.fit(scaled_features2)\n",
    "    SSE.append(kmeans2.inertia_)\n",
    "frame = pd.DataFrame({'Cluster':range(1,10), 'SSE':SSE})\n",
    "plt.figure(figsize=(12,6))\n",
    "plt.plot(frame['Cluster'], frame['SSE'], marker='o')\n",
    "plt.xlabel('Number of clusters')\n",
    "plt.ylabel('Inertia')"
   ]
  },
  {
   "cell_type": "code",
   "execution_count": null,
   "id": "271c0d50",
   "metadata": {},
   "outputs": [],
   "source": [
    "# Performing KMeans clustering on the standardized bus_group_transaction using 3 clusters, and storing the result in 'kmeans2'\n",
    "kmeans2 = KMeans( n_clusters = 3, init='k-means++')\n",
    "kmeans2.fit(scaled_features2)"
   ]
  },
  {
   "cell_type": "code",
   "execution_count": null,
   "id": "9d3e135f",
   "metadata": {},
   "outputs": [],
   "source": [
    "# Predicting the cluster labels for each row in the standardized cus_group_transaction \n",
    "# Adding the result as a new column 'cluster' in a new dataframe called 'frame2'\n",
    "pred2 = kmeans2.predict(scaled_features2)\n",
    "frame2 = pd.DataFrame(bus_group)\n",
    "frame2['cluster'] = pred2"
   ]
  },
  {
   "cell_type": "code",
   "execution_count": null,
   "id": "157b0161",
   "metadata": {},
   "outputs": [],
   "source": [
    "# Printing 'frame2'\n",
    "frame2"
   ]
  },
  {
   "cell_type": "code",
   "execution_count": null,
   "id": "985ca240",
   "metadata": {},
   "outputs": [],
   "source": [
    "# Displaying first five rows for 'frame2'\n",
    "frame2.head()"
   ]
  },
  {
   "cell_type": "code",
   "execution_count": null,
   "id": "50795b1a",
   "metadata": {},
   "outputs": [],
   "source": [
    "# Displaying the number of occurrences of each cluster label in the 'cluster' column of the 'frame2'\n",
    "frame2.cluster.value_counts()"
   ]
  },
  {
   "cell_type": "code",
   "execution_count": null,
   "id": "a2abccbc",
   "metadata": {},
   "outputs": [],
   "source": [
    "# Creating a scatter plot for visualzing the clustering results\n",
    "x_axis = frame2['Number_of_Transaction']\n",
    "y_axis = frame2['Total_Amount']\n",
    "#plt.figure(figsize = (12, 12))\n",
    "#sns.scatterplot(x=x_axis, y=y_axis, hue=frame2['cluster'])\n",
    "#sampled_data = frame2.sample(n=10000)\n",
    "#sns.scatterplot(x=x_axis, y=y_axis, data=sampled_data, hue=sampled_data['cluster'])\n",
    "plt.figure(figsize = (10, 8))\n",
    "sns.scatterplot(x=x_axis, y=y_axis, hue=frame2['cluster'])\n",
    "plt.title('K-means Clustering')\n",
    "plt.show()"
   ]
  },
  {
   "cell_type": "markdown",
   "id": "7b9b2432",
   "metadata": {},
   "source": [
    "## Overall Customer Segmentation"
   ]
  },
  {
   "cell_type": "code",
   "execution_count": null,
   "id": "cf303971",
   "metadata": {},
   "outputs": [],
   "source": [
    "# Grouping the 'lloyds' dataframe by 'from_totally_fake_account','to_randomly_generated_account'\n",
    "# Aggregating the 'monopoly_money_amount' column by sum and the 'from_totally_fake_account' column by count\n",
    "\n",
    "lloyds_group = lloyds.groupby(['from_totally_fake_account', 'to_randomly_generated_account']).agg({'monopoly_money_amount': 'sum', 'from_totally_fake_account': 'count'})"
   ]
  },
  {
   "cell_type": "code",
   "execution_count": null,
   "id": "114bc295",
   "metadata": {},
   "outputs": [],
   "source": [
    "# Renaming the columns and resetting the index of the grouped dataframe\n",
    "lloyds_group.columns = [ 'Total_Amount', 'Number_of_Transactions']\n",
    "lloyds_group = lloyds_group.reset_index()"
   ]
  },
  {
   "cell_type": "code",
   "execution_count": null,
   "id": "42afdf20",
   "metadata": {},
   "outputs": [],
   "source": [
    "# Printing 'lloyds_group'\n",
    "lloyds_group"
   ]
  },
  {
   "cell_type": "code",
   "execution_count": null,
   "id": "9089018f",
   "metadata": {},
   "outputs": [],
   "source": [
    "# Selecting 'Number_of_Transaction' and 'Total_Amount' columns from the lloyds_group\n",
    "col_names = ['Number_of_Transactions', 'Total_Amount']\n",
    "features = lloyds_group[col_names]\n",
    "# new_features = pd.DataFrame(features, columns = col_names)\n",
    "\n",
    "# Standarizing the values and storing the results in scaled_features\n",
    "scaler = StandardScaler().fit(features.values)\n",
    "features = scaler.transform(features.values)\n",
    "scaled_features = pd.DataFrame(features, columns = col_names)"
   ]
  },
  {
   "cell_type": "code",
   "execution_count": null,
   "id": "564a98db",
   "metadata": {},
   "outputs": [],
   "source": [
    "# Performing KMeans clustering on the selected standardized features for different number of clusters\n",
    "# Calculating the sum of squared errors (SSE) for each cluster\n",
    "SSE = []\n",
    "for cluster in range(1,15):\n",
    "    kmeans = KMeans(n_clusters = cluster, init='k-means++')\n",
    "    kmeans.fit(scaled_features)\n",
    "    SSE.append(kmeans.inertia_)\n",
    "\n",
    "# Converting the results into a dataframe and plotting them\n",
    "frame = pd.DataFrame({'Cluster':range(1,15), 'SSE':SSE})\n",
    "plt.figure(figsize=(12,6))\n",
    "plt.plot(frame['Cluster'], frame['SSE'], marker='o')\n",
    "plt.xlabel('Number of clusters')\n",
    "plt.ylabel('Inertia')"
   ]
  },
  {
   "cell_type": "code",
   "execution_count": null,
   "id": "a788c503",
   "metadata": {},
   "outputs": [],
   "source": [
    "# Performing KMeans clustering using 4 clusters, and storing the result in 'kmeans'\n",
    "kmeans = KMeans( n_clusters = 4, init='k-means++')\n",
    "kmeans.fit(scaled_features)"
   ]
  },
  {
   "cell_type": "code",
   "execution_count": null,
   "id": "12f15450",
   "metadata": {},
   "outputs": [],
   "source": [
    "# Predicting the cluster labels for each row and adding the result as a new column 'cluster' in a new dataframe called 'frame'\n",
    "pred = kmeans.predict(scaled_features)\n",
    "frame = pd.DataFrame(lloyds_group)\n",
    "frame['cluster'] = pred"
   ]
  },
  {
   "cell_type": "code",
   "execution_count": null,
   "id": "3ba0e4f4",
   "metadata": {},
   "outputs": [],
   "source": [
    "# Displaying the number of occurrences of each cluster label in the 'cluster' column of the 'frame'\n",
    "frame.cluster.value_counts()"
   ]
  },
  {
   "cell_type": "code",
   "execution_count": null,
   "id": "dbb4b6d0",
   "metadata": {},
   "outputs": [],
   "source": [
    "# Creating a scatter plot for visualzing the clustering results\n",
    "plt.figure(figsize = (12, 10))\n",
    "sns.scatterplot(data=frame, x='Number_of_Transactions', y='Total_Amount', hue=frame['cluster'])\n",
    "plt.title('Segmentation K-means')\n",
    "plt.xlim([-100, 500])\n",
    "plt.ylim([-100, 20000])\n",
    "\n",
    "plt.show()"
   ]
  },
  {
   "cell_type": "code",
   "execution_count": null,
   "id": "cb4571a7",
   "metadata": {},
   "outputs": [],
   "source": [
    "x_axis = frame['Number_of_Transactions']\n",
    "y_axis = frame['Total_Amount']\n",
    "plt.figure(figsize = (10, 8))\n",
    "sns.scatterplot(x=x_axis, y=y_axis, hue=frame['cluster'])\n",
    "plt.title(' Segmentation K-means')\n",
    "plt.show()"
   ]
  },
  {
   "cell_type": "markdown",
   "id": "c5f15f86",
   "metadata": {},
   "source": [
    "### Visualising total amount spent by customers in a range of values"
   ]
  },
  {
   "cell_type": "code",
   "execution_count": null,
   "id": "bd267724",
   "metadata": {},
   "outputs": [],
   "source": [
    "# Creating bins for the 'Total_Amount' column in 'cus_group_transaction'\n",
    "cus_group_transaction['Amount_bins'] = pd.cut(cus_group_transaction['Total_Amount'], \n",
    "                           bins = [0, 10, 25, 50, 75, 100, 200, 500, 1000, 2000, float('inf')], \n",
    "                           labels=['0-10', '10-25', '25-50', '50-75', '75-100', '100-200', '200-500', '500-1000', '1000-2000', '2000-'])\n",
    "\n",
    "# Plotting histogram with Seaborn\n",
    "ax = sns.histplot(data=cus_group_transaction, x='Amount_bins', discrete=True, stat='count', color='red')\n",
    "ax.set(xlabel='Total Amount Range', ylabel='No. of Accounts', title= \"Histogram for Total Amount of C-C Transactions\")\n",
    "plt.show()"
   ]
  },
  {
   "cell_type": "markdown",
   "id": "1aa86fc5",
   "metadata": {},
   "source": [
    "## The majority of customers typically make transactions within the range of 25 to 50 in terms of total amount spent per transaction"
   ]
  },
  {
   "cell_type": "code",
   "execution_count": null,
   "id": "cc26fe03",
   "metadata": {},
   "outputs": [],
   "source": [
    "# Obtaining the frequency of transactions of each customer\n",
    "frequency = cus_group.groupby('from_totally_fake_account')['Number_of_Transaction'].sum()"
   ]
  },
  {
   "cell_type": "code",
   "execution_count": null,
   "id": "96016fec",
   "metadata": {},
   "outputs": [],
   "source": [
    "# Printing 'frequency'\n",
    "frequency"
   ]
  },
  {
   "cell_type": "code",
   "execution_count": null,
   "id": "29621c7d",
   "metadata": {},
   "outputs": [],
   "source": [
    "# Reseting the index and converting the series to 'frequency_cus'\n",
    "frequency_cus = frequency.reset_index()\n",
    "\n",
    "# Renaming the columns\n",
    "frequency_cus.columns = ['From_Acc', 'Frequency']"
   ]
  },
  {
   "cell_type": "code",
   "execution_count": null,
   "id": "afe386c5",
   "metadata": {},
   "outputs": [],
   "source": [
    "# Frequency of transaction of each unique customer\n",
    "frequency_cus"
   ]
  },
  {
   "cell_type": "code",
   "execution_count": null,
   "id": "dea8006b",
   "metadata": {},
   "outputs": [],
   "source": [
    "# Calculating the median of the 'Frequency' column in 'frequency_cus'\n",
    "frequency_cus.Frequency.median()"
   ]
  },
  {
   "cell_type": "code",
   "execution_count": null,
   "id": "d02e9adb",
   "metadata": {},
   "outputs": [],
   "source": [
    "# Calculating the min of the 'Frequency' column in 'frequency_cus'\n",
    "frequency_cus.Frequency.min()"
   ]
  },
  {
   "cell_type": "code",
   "execution_count": null,
   "id": "ffb41662",
   "metadata": {},
   "outputs": [],
   "source": [
    "# Calculating the max of the 'Frequency' column in 'frequency_cus'\n",
    "frequency_cus.Frequency.max()"
   ]
  },
  {
   "cell_type": "markdown",
   "id": "2a007345",
   "metadata": {},
   "source": [
    "## Visualising frequency of transactions for each unique customer"
   ]
  },
  {
   "cell_type": "code",
   "execution_count": null,
   "id": "567d283c",
   "metadata": {},
   "outputs": [],
   "source": [
    "# Creating a list of bins for frequency range\n",
    "bins = [0, 50, 100, 200, 500, 1000, 5000, frequency_cus['Frequency'].max()]\n",
    "\n",
    "# Creating a new column in the dataframe with frequency range\n",
    "frequency_cus['Freq_Range'] = pd.cut(frequency_cus['Frequency'], bins)\n",
    "\n",
    "# Counting the number of accounts in each frequency range\n",
    "counts = frequency_cus['Freq_Range'].value_counts().sort_index()\n",
    "\n",
    "# Creating a bar plot showing the number of accounts in each frequency range\n",
    "plt.bar(counts.index.astype(str), counts.values)\n",
    "plt.title(\"Histogram of Frequency of transactions for C-C\")\n",
    "plt.xlabel('Frequency Range')\n",
    "plt.ylabel('Number of Accounts')\n",
    "plt.show()"
   ]
  },
  {
   "cell_type": "markdown",
   "id": "e078174e",
   "metadata": {},
   "source": [
    "## 1.Most customers send money to other customers about 200-500 times over a year as per data\n",
    "\n",
    "## 2. Average total amount ~ 70 and Average freq ~ 234, which means that people transfer smaller amount of money in each transaction and have more number of transactions over the year"
   ]
  },
  {
   "cell_type": "markdown",
   "id": "6cab3729",
   "metadata": {},
   "source": [
    "# Getting a dataframe for Number of unique accounts they have sent money to "
   ]
  },
  {
   "cell_type": "code",
   "execution_count": null,
   "id": "7045ef06",
   "metadata": {},
   "outputs": [],
   "source": [
    "# Calculating the frequency of transactions made by each customer and store it in new dataframe 'freq'\n",
    "freq = cus_group.groupby('from_totally_fake_account')['Number_of_Transaction'].count()\n",
    "freq"
   ]
  },
  {
   "cell_type": "code",
   "execution_count": null,
   "id": "7bd2fb6f",
   "metadata": {},
   "outputs": [],
   "source": [
    "# Calculating the mean frequency of transactions for each customers account\n",
    "freq.mean()"
   ]
  },
  {
   "cell_type": "code",
   "execution_count": null,
   "id": "2ab4f995",
   "metadata": {},
   "outputs": [],
   "source": [
    "# Calculating the median frequency of transactions for each customers account\n",
    "freq.median()"
   ]
  },
  {
   "cell_type": "code",
   "execution_count": null,
   "id": "2dd3b277",
   "metadata": {},
   "outputs": [],
   "source": [
    "# Calculating the maximum frequency of transactions for each customers account\n",
    "freq.max()"
   ]
  },
  {
   "cell_type": "code",
   "execution_count": null,
   "id": "70305bd5",
   "metadata": {},
   "outputs": [],
   "source": [
    "# Calculating the minimum frequency of transactions for each customers account\n",
    "freq.min()"
   ]
  },
  {
   "cell_type": "code",
   "execution_count": null,
   "id": "248ca7a7",
   "metadata": {},
   "outputs": [],
   "source": [
    "# Reseting the index and converting the series to 'freq_df'\n",
    "freq_df = freq.reset_index()\n",
    "\n",
    "# Renaming the columns\n",
    "freq_df.columns = ['From_Acc', 'To no. of unique accounts']"
   ]
  },
  {
   "cell_type": "code",
   "execution_count": null,
   "id": "10fdb090",
   "metadata": {},
   "outputs": [],
   "source": [
    "# Printing 'freq_df'\n",
    "freq_df"
   ]
  },
  {
   "cell_type": "markdown",
   "id": "4334b6e2",
   "metadata": {},
   "source": [
    "## Mean and median are very close, so the data is not very skewed"
   ]
  },
  {
   "cell_type": "code",
   "execution_count": null,
   "id": "9390ebae",
   "metadata": {},
   "outputs": [],
   "source": [
    "# Selecting the top 20 customers with the highest frequency of transactions\n",
    "top_20 = freq.sort_values(ascending=False).head(20)\n",
    "top_20"
   ]
  },
  {
   "cell_type": "code",
   "execution_count": null,
   "id": "204ac141",
   "metadata": {},
   "outputs": [],
   "source": [
    "# Assuming the 1st account number is an outlier, let's remove it from the visualisation\n",
    "top_20 =top_20.tail(-1)"
   ]
  },
  {
   "cell_type": "markdown",
   "id": "85c30cb8",
   "metadata": {},
   "source": [
    "## Top 20 accounts with the hightest unique transactions"
   ]
  },
  {
   "cell_type": "code",
   "execution_count": null,
   "id": "ec90e4bd",
   "metadata": {},
   "outputs": [],
   "source": [
    "# Creating a bar plot to show top popular expenses made by the customers\n",
    "ax = sns.barplot( x=top_20.index, y=top_20.values, palette=\"flare\")\n",
    "ax.set(xlabel='Popular Expenses', ylabel='No. of Transactions')\n",
    "plt.show()"
   ]
  },
  {
   "cell_type": "markdown",
   "id": "27ecc206",
   "metadata": {},
   "source": [
    "## Most of the accounts in top 20 range have sent money to around 30 unique accounts"
   ]
  },
  {
   "cell_type": "markdown",
   "id": "3788fdbd",
   "metadata": {},
   "source": [
    "## Grouping cutomers based on the number of unique accounts they have transacted to"
   ]
  },
  {
   "cell_type": "code",
   "execution_count": null,
   "id": "0b5a8773",
   "metadata": {},
   "outputs": [],
   "source": [
    "# Selecting customers with frequency greater than or equal to 30\n",
    "df_cust_freq_greater_than_30 = freq_df[freq_df['To no. of unique accounts'] >= 30]\n",
    "\n",
    "# Selecting customers with frequency greater than or equal to 25 and less than 30\n",
    "df_cust_freq_greater_than_25 = freq_df[(freq_df['To no. of unique accounts'] >= 25) & (freq_df['To no. of unique accounts'] < 30)]\n",
    "\n",
    "# Selecting customers with frequency greater than or equal to 20 and less than 25\n",
    "df_cust_freq_greater_than_20 = freq_df[(freq_df['To no. of unique accounts'] >= 20) & (freq_df['To no. of unique accounts'] < 25)]\n",
    "\n",
    "# Selecting customers with frequency greater than or equal to 15 and less than 20\n",
    "df_cust_freq_greater_than_15 = freq_df[(freq_df['To no. of unique accounts'] >= 15) & (freq_df['To no. of unique accounts'] < 20)]\n",
    "\n",
    "# Selecting customers with frequency greater than or equal to 10 and less than 15\n",
    "df_cust_freq_greater_than_10 = freq_df[(freq_df['To no. of unique accounts'] >= 10) & (freq_df['To no. of unique accounts'] < 15)]\n",
    "\n",
    "# Selecting customers with frequency less than 10\n",
    "df_cust_freq_lesser_than_10 = freq_df[freq_df['To no. of unique accounts']<10]"
   ]
  },
  {
   "cell_type": "code",
   "execution_count": null,
   "id": "659e497d",
   "metadata": {},
   "outputs": [],
   "source": [
    "# Printing 'df_cust_freq_greater_than_30'\n",
    "df_cust_freq_greater_than_30"
   ]
  },
  {
   "cell_type": "code",
   "execution_count": null,
   "id": "8c30254a",
   "metadata": {},
   "outputs": [],
   "source": [
    "# Printing number of customers who have transacted more than 30 times\n",
    "print(\"Number of customers who have transacted more than 30 times: \", len(df_cust_freq_greater_than_30))"
   ]
  },
  {
   "cell_type": "code",
   "execution_count": null,
   "id": "e3b7be63",
   "metadata": {},
   "outputs": [],
   "source": [
    "# Displaying the first 10 rows of the dataframe\n",
    "df_cust_freq_greater_than_25.head(10)"
   ]
  },
  {
   "cell_type": "code",
   "execution_count": null,
   "id": "bf197246",
   "metadata": {},
   "outputs": [],
   "source": [
    "# Printing number of customers who have transacted more than 25 times\n",
    "print(\"Number of customers who have transacted more than 25 times: \", len(df_cust_freq_greater_than_25))"
   ]
  },
  {
   "cell_type": "code",
   "execution_count": null,
   "id": "b8011a8e",
   "metadata": {},
   "outputs": [],
   "source": [
    "# Displaying the first 10 rows of the dataframe\n",
    "df_cust_freq_greater_than_20.head(10)"
   ]
  },
  {
   "cell_type": "code",
   "execution_count": null,
   "id": "0b7b4d29",
   "metadata": {},
   "outputs": [],
   "source": [
    "# Printing number of customers who have transacted more than 20 times\n",
    "print(\"Number of customers who have transacted more than 20 times: \", len(df_cust_freq_greater_than_20))"
   ]
  },
  {
   "cell_type": "code",
   "execution_count": null,
   "id": "01fa4eea",
   "metadata": {},
   "outputs": [],
   "source": [
    "# Displaying the first 10 rows of the dataframe\n",
    "df_cust_freq_greater_than_15.head(10)"
   ]
  },
  {
   "cell_type": "code",
   "execution_count": null,
   "id": "1fb0952e",
   "metadata": {},
   "outputs": [],
   "source": [
    "# Printing number of customers who have transacted more than 15 times\n",
    "print(\"Number of customers who have transacted more than 15 times: \", len(df_cust_freq_greater_than_15))"
   ]
  },
  {
   "cell_type": "code",
   "execution_count": null,
   "id": "46815705",
   "metadata": {},
   "outputs": [],
   "source": [
    "# Displaying the first 10 rows of the dataframe\n",
    "df_cust_freq_greater_than_10.head(10)"
   ]
  },
  {
   "cell_type": "code",
   "execution_count": null,
   "id": "0d089b8d",
   "metadata": {},
   "outputs": [],
   "source": [
    "# Printing number of customers who have transacted more than 10 times\n",
    "print(\"Number of customers who have transacted more than 10 times: \", len(df_cust_freq_greater_than_10))"
   ]
  },
  {
   "cell_type": "code",
   "execution_count": null,
   "id": "2cbddf73",
   "metadata": {},
   "outputs": [],
   "source": [
    "# Displaying the first 10 rows of the dataframe\n",
    "df_cust_freq_lesser_than_10.head(10)"
   ]
  },
  {
   "cell_type": "code",
   "execution_count": null,
   "id": "8d3c9611",
   "metadata": {},
   "outputs": [],
   "source": [
    "# Printing number of customers who have transacted lesser than 10 times\n",
    "print(\"Number of customers who have transacted lesser than 10 times: \", len(df_cust_freq_lesser_than_10))"
   ]
  },
  {
   "cell_type": "markdown",
   "id": "5d9c64f5",
   "metadata": {},
   "source": [
    "## We observe that the maximum number of unique customer to customer transactions account have transacted between 10 to 20 times in this year"
   ]
  },
  {
   "cell_type": "code",
   "execution_count": null,
   "id": "c15ab400",
   "metadata": {},
   "outputs": [],
   "source": [
    "# Creating a list of bins for frequency range\n",
    "bins = [0, 10, 15, 20, 25, 30, float('inf')]\n",
    "labels = ['Less than 10', '10-15', '15-20', '20-25', '25-30', 'More than 30']\n",
    "\n",
    "# Adding a new column to freq_df with the frequency range labels\n",
    "freq_df['Range'] = pd.cut(freq_df['To no. of unique accounts'], bins=bins, labels=labels)\n",
    "\n",
    "# Creating a histogram of the frequency ranges\n",
    "plt.hist(freq_df['Range'])\n",
    "\n",
    "# Setting the x-axis labels\n",
    "plt.xticks(rotation=45)\n",
    "\n",
    "# Creating a bar plot for frequency of spending\n",
    "plt.title('Frequency of Spending')\n",
    "plt.xlabel('Frequency Range')\n",
    "plt.ylabel('Number of Accounts')\n",
    "plt.show()"
   ]
  },
  {
   "cell_type": "markdown",
   "id": "e1217775",
   "metadata": {},
   "source": [
    "# Visualising unique transactions for top 5 customers as a network"
   ]
  },
  {
   "cell_type": "code",
   "execution_count": null,
   "id": "5843e5c4",
   "metadata": {},
   "outputs": [],
   "source": [
    "# Grouping customer transaction by \"From_Acc\" and calculating the frequency of transactions\n",
    "freq = cus_group.groupby(\"from_totally_fake_account\").size().reset_index(name=\"Freq\")\n",
    "\n",
    "# Sorting the data based on frequency and getting the top 5 accounts\n",
    "top_5 = freq.nlargest(5, \"Freq\")[\"from_totally_fake_account\"].values.tolist()\n"
   ]
  },
  {
   "cell_type": "code",
   "execution_count": null,
   "id": "8458adae",
   "metadata": {},
   "outputs": [],
   "source": [
    "# Removing the first account from the list as it is an outlier\n",
    "top_5.pop(0)"
   ]
  },
  {
   "cell_type": "code",
   "execution_count": null,
   "id": "3fe1d80a",
   "metadata": {},
   "outputs": [],
   "source": [
    "# Printing the top 5 accounts\n",
    "top_5"
   ]
  },
  {
   "cell_type": "code",
   "execution_count": null,
   "id": "105e510c",
   "metadata": {},
   "outputs": [],
   "source": [
    "# Filtering the customer transaction data to include only transactions from the top 5 accounts\n",
    "filtered_data = cus_group[cus_group[\"from_totally_fake_account\"].isin(top_5)]"
   ]
  },
  {
   "cell_type": "code",
   "execution_count": null,
   "id": "50a277c7",
   "metadata": {},
   "outputs": [],
   "source": [
    "# Printing the 'filtered_data'\n",
    "filtered_data"
   ]
  },
  {
   "cell_type": "code",
   "execution_count": null,
   "id": "17bc4387",
   "metadata": {},
   "outputs": [],
   "source": [
    "# Creating a directed graph using networkx\n",
    "G = nx.DiGraph()\n",
    "\n",
    "# Adding nodes for each account\n",
    "G.add_nodes_from(filtered_data[\"from_totally_fake_account\"].unique())\n",
    "G.add_nodes_from(filtered_data[\"to_randomnly_generated_account\"].unique())\n",
    "\n",
    "# Adding edges for each transaction\n",
    "for _, row in filtered_data.iterrows():\n",
    "    G.add_edge(row[\"from_totally_fake_account\"], row[\"to_randomnly_generated_account\"], weight=row[\"Number_of_Transaction\"])\n",
    "\n",
    "# Setting up the layout and Creating the graph\n",
    "pos = nx.spring_layout(G)\n",
    "nx.draw_networkx_nodes(G, pos, node_size=500)\n",
    "nx.draw_networkx_edges(G, pos, alpha=0.5)\n",
    "nx.draw_networkx_labels(G, pos, font_size=10, font_family=\"sans-serif\")\n",
    "\n",
    "# Adding edge labels\n",
    "edge_labels = nx.get_edge_attributes(G, \"weight\")\n",
    "nx.draw_networkx_edge_labels(G, pos, edge_labels=edge_labels, font_size=8)\n",
    "\n",
    "# Removing axis and showing the plot\n",
    "plt.axis(\"off\")\n",
    "plt.show()"
   ]
  },
  {
   "cell_type": "markdown",
   "id": "e3250617",
   "metadata": {},
   "source": [
    "# Analysis based on customers grouped according to date of transaction"
   ]
  },
  {
   "cell_type": "code",
   "execution_count": null,
   "id": "9fb9a30f",
   "metadata": {},
   "outputs": [],
   "source": [
    "# Printing 'cus_group_mon'\n",
    "cus_group_mon"
   ]
  },
  {
   "cell_type": "markdown",
   "id": "04f703b5",
   "metadata": {},
   "source": [
    "## Visualising top 10 accounts with Maximum transcations in month of January"
   ]
  },
  {
   "cell_type": "code",
   "execution_count": null,
   "id": "e97db359",
   "metadata": {},
   "outputs": [],
   "source": [
    "# Filtering the data to include only transactions in January\n",
    "df_jan = cus_group_mon[cus_group_mon[\"month_\"] == 1]\n",
    "\n",
    "# Grouping the data by 'from_totally_fake_account' and calculating the sum of 'Number_of_Transaction'\n",
    "df_jan_grouped = df_jan.groupby(\"from_totally_fake_account\")[\"Number_of_Transaction\"].sum()\n",
    "\n",
    "# Sorting the data in descending order based on the sum of 'Number_of_Transaction'\n",
    "df_jan_grouped_sorted = df_jan_grouped.sort_values(ascending=False)\n",
    "\n",
    "# Plotting a bar chart of the top 10 'From Account' with maximum transactions in January\n",
    "df_jan_grouped_sorted.head(10).plot(kind=\"bar\")\n",
    "plt.xlabel(\"From Account\")\n",
    "plt.ylabel(\"Number of Transactions\")\n",
    "plt.title(\"Top 10 From Accounts with Maximum Transactions in January\")\n",
    "plt.show()"
   ]
  },
  {
   "cell_type": "code",
   "execution_count": null,
   "id": "a4e9dee9",
   "metadata": {},
   "outputs": [],
   "source": [
    "# Creating a new DataFrame with the maximum transaction count for each month\n",
    "max_counts = cus_group_mon.groupby('month_')['Number_of_Transaction'].max()\n",
    "\n",
    "# Creating a bar chart of the maximum transaction count for each month using seaborn\n",
    "ax = sns.barplot( x=max_counts.index, y=max_counts.values, palette=\"cubehelix\")\n",
    "ax.set(xlabel='Month', ylabel='Maximum Number of Transactions')\n",
    "plt.show()\n",
    "\n"
   ]
  },
  {
   "cell_type": "markdown",
   "id": "90581d79",
   "metadata": {},
   "source": [
    "# Inference: Maximum number of transactions occur during the beginning of the year"
   ]
  },
  {
   "cell_type": "markdown",
   "id": "ee066f8d",
   "metadata": {},
   "source": [
    "# Grouping the data by total number of transactions of each month "
   ]
  },
  {
   "cell_type": "markdown",
   "id": "e55d27e0",
   "metadata": {},
   "source": [
    "# Visualising the top 10 customers who spend the most number of time in each month"
   ]
  },
  {
   "cell_type": "code",
   "execution_count": null,
   "id": "bdbd2820",
   "metadata": {},
   "outputs": [],
   "source": [
    "# Using For loop to loop through each month from Jan to Oct and filtering the data to include only transactions in that month\n",
    "for month in range(1, 11):\n",
    "    df_mon = cus_group_mon[cus_group_mon[\"month_\"] == month]\n",
    "\n",
    "    # Grouping the data by 'from_totally_fake_account' and calculating the sum of 'Number_of_Transaction'\n",
    "    df_mon_grouped = df_mon.groupby(\"from_totally_fake_account\")[\"Number_of_Transaction\"].sum()\n",
    "\n",
    "    # Sorting the data in descending order based on the sum of 'Number_of_Transaction'\n",
    "    df_mon_grouped_sorted = df_mon_grouped.sort_values(ascending=False)\n",
    "\n",
    "    # Plotting a bar chart of the top 10 'From Account' with maximum transactions in January\n",
    "    df_mon_grouped_sorted.head(10).plot(kind=\"bar\")\n",
    "    plt.xlabel(\"from_totally_fake_account\")\n",
    "    plt.ylabel(\"Number of Transactions\")\n",
    "    plt.title(\"Top 10 From Accounts with Maximum Transactions in January\")\n",
    "    plt.show()"
   ]
  },
  {
   "cell_type": "code",
   "execution_count": null,
   "id": "2ced5016",
   "metadata": {},
   "outputs": [],
   "source": [
    "# Grouping the data by 'from_totally_fake_account' and calculating the sum of 'Number_of_Transaction' column for each account\n",
    "transactions_by_account = cus_group_mon.groupby('from_totally_fake_account').sum()['Number_of_Transaction']\n",
    "\n",
    "# Finding the top 10 accounts with the maximum number of transactions\n",
    "top_10_accounts = transactions_by_account.nlargest(10)\n",
    "\n",
    "# Printing the top 10 accounts excluding the first one\n",
    "print(top_10_accounts.tail(-1))\n"
   ]
  },
  {
   "cell_type": "code",
   "execution_count": null,
   "id": "0dc96843",
   "metadata": {},
   "outputs": [],
   "source": [
    "# Grouping the data by 'from_totally_fake_account' and calculating the sum of 'Number_of_Transaction' column for each account\n",
    "# Sorting the accounts based on the total transaction amount in descending order and getting the top 10 accounts\n",
    "top_accounts = cus_group_mon.groupby('from_totally_fake_account').sum().sort_values(by='Number_of_Transaction', ascending=False).head(10).index.tolist()\n",
    "\n",
    "# Filtering the data to include only transactions from the top 10 accounts\n",
    "top_accounts_df = cus_group_mon[cus_group_mon['from_totally_fake_account'].isin(top_accounts)]\n",
    "\n",
    "# Using For loop to loop through the top 10 accounts and generate individual line plots for each account's total amount of transaction over the year\n",
    "for account in top_accounts:\n",
    "    account_df = top_accounts_df[top_accounts_df['from_totally_fake_account'] == account]\n",
    "\n",
    "    # Generating individual line plots for each account's total amount of transaction over the year   \n",
    "    plt.plot(account_df['month_'], account_df['Total_Amount'])\n",
    "    plt.xlabel('Month')\n",
    "    plt.ylabel('Total Amount')\n",
    "    plt.title(f'Total Amount over One Year for Account {account}')\n",
    "    plt.show()"
   ]
  },
  {
   "cell_type": "code",
   "execution_count": null,
   "id": "e5f5736f",
   "metadata": {},
   "outputs": [],
   "source": [
    "# Using different colors for each  customer account\n",
    "colors = ['r', 'g', 'b', 'c', 'm', 'y', 'k', 'lime', 'purple', 'orange']\n",
    "\n",
    "# Plotting scatter plot of 'Total Amount' vs 'Number of 'Transaction' for top 10 customers\n",
    "for i, account in enumerate(top_accounts):\n",
    "    account_df = top_accounts_df[top_accounts_df['from_totally_fake_account'] == account]\n",
    "    plt.scatter(account_df['Number_of_Transaction'], account_df['Total_Amount'], c=colors[i], label=f'Account {account}')\n",
    "\n",
    "# Adding labels and legend to the plot\n",
    "plt.xlabel('Number of Transactions')\n",
    "plt.ylabel('Total Amount')\n",
    "plt.title('Scatter Plot of Number of Transactions vs Total Amount for Top 10 Accounts with Maximum Transactions')\n",
    "plt.legend()\n",
    "plt.show()"
   ]
  },
  {
   "cell_type": "code",
   "execution_count": null,
   "id": "ad847310",
   "metadata": {},
   "outputs": [],
   "source": [
    "# Plotting a histogram for the transaction frequency with 10 bins\n",
    "plt.hist(cus_group_mon['Number_of_Transaction'], bins=10)\n",
    "plt.title('Transaction Frequency Histogram')\n",
    "plt.xlabel('Number of Transactions')\n",
    "plt.ylabel('Frequency')\n",
    "plt.show()"
   ]
  },
  {
   "cell_type": "markdown",
   "id": "a8610fd0",
   "metadata": {},
   "source": [
    "# Observation : Most people have transacted less than 15 times in a year"
   ]
  },
  {
   "cell_type": "code",
   "execution_count": null,
   "id": "314e51d7",
   "metadata": {},
   "outputs": [],
   "source": [
    "# Reshaping the data into a pivot table with months as rows, accounts as columns, and Number_of_Transaction as values\n",
    "pivot = pd.pivot_table(cus_group_mon, values=['Number_of_Transaction'], index='month_', columns='to_randomnly_generated_account')\n",
    "\n",
    "# Creating the heatmap with Number_of_Transaction as the color scale\n",
    "sns.heatmap(pivot['Number_of_Transaction'], cmap='YlGnBu')\n",
    "plt.title('Transaction Frequency Heatmap')\n",
    "plt.xlabel('Accounts')\n",
    "plt.ylabel('Month')\n",
    "plt.show()\n",
    "\n"
   ]
  },
  {
   "cell_type": "markdown",
   "id": "3f778272",
   "metadata": {},
   "source": [
    "# Now lets analyse Customer to Merchandise transactions"
   ]
  },
  {
   "cell_type": "code",
   "execution_count": null,
   "id": "19b47a0e",
   "metadata": {},
   "outputs": [],
   "source": [
    "# Displaying the number of rows and columns in 'df_merch'\n",
    "df_merch.shape"
   ]
  },
  {
   "cell_type": "code",
   "execution_count": null,
   "id": "b9c026c8",
   "metadata": {},
   "outputs": [],
   "source": [
    "# Displaying first 5 rows from the 'df_merch'\n",
    "df_merch.head()"
   ]
  },
  {
   "cell_type": "code",
   "execution_count": null,
   "id": "2c280c50",
   "metadata": {},
   "outputs": [],
   "source": [
    "# Finding the average transactions made in C-B transactions\n",
    "print('Average C-B transactions: ',df_merch.monopoly_money_amount.mean())\n",
    "\n",
    "# Finding the minimum transactions made in C-B transactions\n",
    "print('Minimum C-B transactions: ',df_merch.monopoly_money_amount.min())\n",
    "\n",
    "# Finding the maximum transactions made in C-B transactions\n",
    "print('Maximum C-B transactions: ',df_merch.monopoly_money_amount.max())"
   ]
  },
  {
   "cell_type": "code",
   "execution_count": null,
   "id": "dd7db8be",
   "metadata": {},
   "outputs": [],
   "source": [
    "# Creating a line plot to understand expenditure patterns monthly over the year\n",
    "sns.lineplot(data=df_merch, x=\"month\", y=\"monopoly_money_amount\")"
   ]
  },
  {
   "cell_type": "code",
   "execution_count": null,
   "id": "9bdd61dd",
   "metadata": {},
   "outputs": [],
   "source": [
    "# Creating a line plot to understand expenditure patterns daily over the month\n",
    "sns.lineplot(data=df_merch, x=\"day\", y=\"monopoly_money_amount\")"
   ]
  },
  {
   "cell_type": "code",
   "execution_count": null,
   "id": "c0732c98",
   "metadata": {},
   "outputs": [],
   "source": [
    "# Creating a bar chart to show how many transactions occurred in each month for the data in the 'df_merch'\n",
    "sns.countplot(x=df_merch[\"month\"])"
   ]
  },
  {
   "cell_type": "code",
   "execution_count": null,
   "id": "1b8d8215",
   "metadata": {},
   "outputs": [],
   "source": [
    "# Creating a bar chart to show how many transactions occurred on each day of the month for the data in the 'df_merch'\n",
    "sns.countplot(x=df_merch[\"day\"])"
   ]
  },
  {
   "cell_type": "markdown",
   "id": "1b331682",
   "metadata": {},
   "source": [
    "### The bar chart shows that there were fewer transactions made by customers towards the end of the month compared to the beginning of the month"
   ]
  },
  {
   "cell_type": "code",
   "execution_count": null,
   "id": "b6aa479f",
   "metadata": {},
   "outputs": [],
   "source": [
    "# Creating a bar chart to show the number of customer transactions for each day of the week in a order\n",
    "sns.countplot(x=df_merch[\"day of the week\"], order=order)\n",
    "plt.title('Customer spending pattern through the week')\n"
   ]
  },
  {
   "cell_type": "markdown",
   "id": "802ba1cd",
   "metadata": {},
   "source": [
    "### Unlike the C-C transactions, we don't see a drastic differences between the days of the week for C-B transactions although the most transactions takes place on friday"
   ]
  },
  {
   "cell_type": "code",
   "execution_count": null,
   "id": "b12a552a",
   "metadata": {},
   "outputs": [],
   "source": [
    "# Selecting top 5000 most frequent 'from_totally_fake_account' based on transaction count\n",
    "df_freq = df_merch['from_totally_fake_account'].value_counts().nlargest(5000)\n",
    "df_freq"
   ]
  },
  {
   "cell_type": "code",
   "execution_count": null,
   "id": "c5c74582",
   "metadata": {},
   "outputs": [],
   "source": [
    "# Finding the best customer from the data 'df_merch' for column 'from_totally_fake_account'\n",
    "df_best_cust = df_merch.loc[data['from_totally_fake_account'] == 64214]\n",
    "df_best_cust"
   ]
  },
  {
   "cell_type": "markdown",
   "id": "81335766",
   "metadata": {},
   "source": [
    "## Grouping the customers based on the amount of money transacted to business (C - B)"
   ]
  },
  {
   "cell_type": "code",
   "execution_count": null,
   "id": "13623025",
   "metadata": {},
   "outputs": [],
   "source": [
    "# Customers with transaction amount greater than or equal to 500 \n",
    "df_merch_transact_greater_than_500 = df_merch[df_merch[\"monopoly_money_amount\"] >= 500]\n",
    "\n",
    "# Customers with transaction amount greater than or equal to 100 and less than 500\n",
    "df_merch_transact_greater_than_100 = df_merch[(df_merch[\"monopoly_money_amount\"] >= 100) & (df_merch[\"monopoly_money_amount\"] < 500)]\n",
    "\n",
    "# Customers with transaction amount greater than or equal to 50 and less than 100\n",
    "df_merch_transact_greater_than_50 = df_merch[(df_merch[\"monopoly_money_amount\"] >= 50) & (df_merch[\"monopoly_money_amount\"] < 100)]\n",
    "\n",
    "# Customers with transaction amount greater than or equal to 10 and less than 50\n",
    "df_merch_transact_greater_than_10 = df_merch[(df_merch[\"monopoly_money_amount\"] >= 10) & (df_merch[\"monopoly_money_amount\"] < 50)]\n",
    "\n",
    "# Customers with transaction amount less than 10\n",
    "df_merch_transact_lesser_than_10 = df_merch[df_merch[\"monopoly_money_amount\"] < 10]"
   ]
  },
  {
   "cell_type": "code",
   "execution_count": null,
   "id": "4a89d8c7",
   "metadata": {},
   "outputs": [],
   "source": [
    "# Displaying first 5 rows for 'df_merch_transact_greater_than_500'\n",
    "df_merch_transact_greater_than_500.head()"
   ]
  },
  {
   "cell_type": "code",
   "execution_count": null,
   "id": "a05d23a7",
   "metadata": {},
   "outputs": [],
   "source": [
    "# Displaying first 5 rows for 'df_merch_transact_greater_than_100'\n",
    "df_merch_transact_greater_than_100.head()"
   ]
  },
  {
   "cell_type": "code",
   "execution_count": null,
   "id": "345e36c5",
   "metadata": {},
   "outputs": [],
   "source": [
    "# Displaying first 5 rows for 'df_merch_transact_greater_than_50'\n",
    "df_merch_transact_greater_than_50.head()"
   ]
  },
  {
   "cell_type": "code",
   "execution_count": null,
   "id": "529fc56f",
   "metadata": {},
   "outputs": [],
   "source": [
    "# Displaying first 5 rows for 'df_merch_transact_greater_than_10'\n",
    "df_merch_transact_greater_than_10.head()"
   ]
  },
  {
   "cell_type": "code",
   "execution_count": null,
   "id": "4c847a72",
   "metadata": {},
   "outputs": [],
   "source": [
    "# Displaying first 5 rows for 'df_merch_transact_lesser_than_10'\n",
    "df_merch_transact_lesser_than_10.head()"
   ]
  },
  {
   "cell_type": "code",
   "execution_count": null,
   "id": "34a079b4",
   "metadata": {},
   "outputs": [],
   "source": [
    "# Displaying the number of rows and columns\n",
    "print(df_merch_transact_lesser_than_10.shape)\n",
    "print(df_merch_transact_greater_than_10.shape)\n",
    "print(df_merch_transact_greater_than_50.shape)\n",
    "print(df_merch_transact_greater_than_100.shape)\n",
    "print(df_merch_transact_greater_than_500.shape)"
   ]
  },
  {
   "cell_type": "code",
   "execution_count": null,
   "id": "f4ed51ca",
   "metadata": {},
   "outputs": [],
   "source": [
    "# Printing 'bus_group'\n",
    "bus_group"
   ]
  },
  {
   "cell_type": "code",
   "execution_count": null,
   "id": "c9303691",
   "metadata": {},
   "outputs": [],
   "source": [
    "#Extracting 'to_randomnly_generated_account','Number_of_Transaction' columns from bus_group and storing in bus_group_transaction\n",
    "bus_group_transaction = bus_group.drop(columns=['to_randomnly_generated_account', 'Number_of_Transaction'])"
   ]
  },
  {
   "cell_type": "code",
   "execution_count": null,
   "id": "a31f71ec",
   "metadata": {},
   "outputs": [],
   "source": [
    "# Printing 'bus_group_transaction'\n",
    "bus_group_transaction"
   ]
  },
  {
   "cell_type": "code",
   "execution_count": null,
   "id": "2fb86875",
   "metadata": {},
   "outputs": [],
   "source": [
    "# Calculating the median of the 'Total_Amount' column in bus_group_transaction\n",
    "bus_group_transaction.Total_Amount.median()"
   ]
  },
  {
   "cell_type": "code",
   "execution_count": null,
   "id": "f5138585",
   "metadata": {},
   "outputs": [],
   "source": [
    "# Calculating the maximum of the 'Total_Amount' column in bus_group_transaction\n",
    "bus_group_transaction.Total_Amount.max()"
   ]
  },
  {
   "cell_type": "code",
   "execution_count": null,
   "id": "0184ead5",
   "metadata": {},
   "outputs": [],
   "source": [
    "# Calculating the minimum of the 'Total_Amount' column in bus_group_transaction\n",
    "bus_group_transaction.Total_Amount.min()"
   ]
  },
  {
   "cell_type": "code",
   "execution_count": null,
   "id": "8e126621",
   "metadata": {},
   "outputs": [],
   "source": [
    "# Creating bins for the 'Total_Amount' column in 'bus_group_transaction'\n",
    "bus_group_transaction['Amount_bins'] = pd.cut(bus_group_transaction['Total_Amount'], \n",
    "                           bins = [0, 10, 25, 50, 75, 100, 200, 500, 1000, 2000, float('inf')], \n",
    "                           labels=['0-10', '10-25', '25-50', '50-75', '75-100', '100-200', '200-500', '500-1000', '1000-2000', '2000-'])\n",
    "\n",
    "# Plotting histogram with seaborn\n",
    "ax = sns.histplot(data=bus_group_transaction, x='Amount_bins', discrete=True, stat='count', color='red')\n",
    "ax.set(xlabel='Total Amount Range', ylabel='No. of Accounts', title=\"Histogram for Total Amount for C-B Transactions\")\n",
    "plt.show()"
   ]
  },
  {
   "cell_type": "code",
   "execution_count": null,
   "id": "16541d39",
   "metadata": {},
   "outputs": [],
   "source": [
    "# Creating a list of bins\n",
    "bins = [0, 10, 25, 50, 75, 100, 200, 500, 1000, 2000, float('inf')]\n",
    "\n",
    "# Using pd.cut() to group the 'Total_Amount' column into the bins\n",
    "amount_bins = pd.cut(bus_group_transaction['Total_Amount'], bins=bins, labels=['Less than 10', '10-25', '25-50', '50-75', '75-100', '100-200', '200-500', '500-1000', '1000-2000', 'Greater than 2000'])\n",
    "\n",
    "# Counting the number of accounts in each bin using value_counts()\n",
    "count = amount_bins.value_counts()\n",
    "\n",
    "# Creating a bar plot of the counts\n",
    "count.plot(kind='bar')\n",
    "\n",
    "# Adding title and labels\n",
    "plt.title('Histogram of Total Amount for C-B Transactions')\n",
    "plt.xlabel('Total Amount')\n",
    "plt.ylabel('Number of Accounts')\n",
    "\n",
    "# Showing the plot\n",
    "plt.show()\n"
   ]
  },
  {
   "cell_type": "code",
   "execution_count": null,
   "id": "a08526b3",
   "metadata": {},
   "outputs": [],
   "source": [
    "# Calculating the total number of transactions per business account and storing it in new dataframe 'Bfrequency'\n",
    "Bfrequency = bus_group.groupby('from_totally_fake_account')['Number_of_Transaction'].sum()\n"
   ]
  },
  {
   "cell_type": "code",
   "execution_count": null,
   "id": "f58ee765",
   "metadata": {},
   "outputs": [],
   "source": [
    "# Printing 'Bfrequency'\n",
    "Bfrequency"
   ]
  },
  {
   "cell_type": "code",
   "execution_count": null,
   "id": "e0778d68",
   "metadata": {},
   "outputs": [],
   "source": [
    "# Resetting the index and converting the series to 'frequency_bus'\n",
    "frequency_bus = Bfrequency.reset_index()\n",
    "\n",
    "# Renaming the columns\n",
    "frequency_bus.columns = ['From_Acc', 'Frequency']"
   ]
  },
  {
   "cell_type": "code",
   "execution_count": null,
   "id": "787e1b6c",
   "metadata": {},
   "outputs": [],
   "source": [
    "# Printing 'frequency_bus'\n",
    "frequency_bus"
   ]
  },
  {
   "cell_type": "code",
   "execution_count": null,
   "id": "33c8f695",
   "metadata": {},
   "outputs": [],
   "source": [
    "# Calculating the mean frequency of transactions for each business account\n",
    "frequency_bus.Frequency.median()"
   ]
  },
  {
   "cell_type": "code",
   "execution_count": null,
   "id": "4539aa4f",
   "metadata": {},
   "outputs": [],
   "source": [
    "# Calculating the minimum frequency of transactions for each business account\n",
    "frequency_bus.Frequency.min()"
   ]
  },
  {
   "cell_type": "code",
   "execution_count": null,
   "id": "c70606af",
   "metadata": {},
   "outputs": [],
   "source": [
    "# Calculating the maximum frequency of transactions for each business account\n",
    "frequency_bus.Frequency.max()"
   ]
  },
  {
   "cell_type": "code",
   "execution_count": null,
   "id": "85fea394",
   "metadata": {},
   "outputs": [],
   "source": [
    "# Creating a list of bins for frequency range\n",
    "bins = [0, 50, 100, 200, 500, 1000, 5000, frequency_bus['Frequency'].max()]\n",
    "\n",
    "# Bin the Frequency column\n",
    "frequency_bus['Freq_Range'] = pd.cut(frequency_bus['Frequency'], bins)\n",
    "\n",
    "# Counting the number of accounts in each frequency range\n",
    "counts = frequency_bus['Freq_Range'].value_counts().sort_index()\n",
    "\n",
    "# Creating a bar chart for frequency of spending\n",
    "plt.bar(counts.index.astype(str), counts.values)\n",
    "plt.title(\"Histogram of frequency of transactions for C-B\")\n",
    "plt.xlabel('Frequency Range')\n",
    "plt.ylabel('Number of Accounts')\n",
    "plt.show()"
   ]
  },
  {
   "cell_type": "markdown",
   "id": "d13e2599",
   "metadata": {},
   "source": [
    "## Comparing the C-C and C-B transactions"
   ]
  },
  {
   "cell_type": "code",
   "execution_count": null,
   "id": "1bdf6fd7",
   "metadata": {},
   "outputs": [],
   "source": [
    "# Counting the number of rows in two dataframes and storing the count in a list as 'rows'\n",
    "rows = [len(df_customer.index), len(df_merch.index)]\n",
    "\n",
    "# Printing 'rows'\n",
    "rows"
   ]
  },
  {
   "cell_type": "code",
   "execution_count": null,
   "id": "07f5fec6",
   "metadata": {},
   "outputs": [],
   "source": [
    "# Defining types of transactions to copmare\n",
    "types_of_transactions = [\"C-C\", \"C-B\"]"
   ]
  },
  {
   "cell_type": "code",
   "execution_count": null,
   "id": "4ada1470",
   "metadata": {},
   "outputs": [],
   "source": [
    "# Creating a bar plot to compare the total number of transaction of C-c and C-B \n",
    "fig = plt.figure(figsize=(20, 9))\n",
    "ax = fig.add_axes([0,0,1,1])\n",
    "ax.bar(types_of_transactions,rows, width=0.1, color=[\"blue\", \"maroon\"])\n",
    "plt.xlabel(\"Types of transaction\")\n",
    "plt.ylabel(\"No. of transactions\")\n",
    "plt.title(\"Comparison of total number of transactions C-C and C-B \")\n",
    "plt.show()"
   ]
  },
  {
   "cell_type": "code",
   "execution_count": null,
   "id": "98933269",
   "metadata": {},
   "outputs": [],
   "source": [
    "# Creating an empty dataframe with index as merchant categories and column as count\n",
    "df_merch_types = pd.DataFrame(index = [\"Cafe\", \"Pub\", \"Food\", \"Supermarket\", \"Fitness\", \"Electronics\", \"Fashion\", \"Kids\", \"Books\", \"Miscellaneous\"], columns = [\"Count\"])"
   ]
  },
  {
   "cell_type": "code",
   "execution_count": null,
   "id": "2d81b8b1",
   "metadata": {},
   "outputs": [],
   "source": [
    "# Initializing all values in the dataframe to 0\n",
    "df_merch_types[\"Count\"] = 0"
   ]
  },
  {
   "cell_type": "code",
   "execution_count": null,
   "id": "e34e9518",
   "metadata": {},
   "outputs": [],
   "source": [
    "# Printing the dataframe with all values initialized to 0\n",
    "df_merch_types"
   ]
  },
  {
   "cell_type": "code",
   "execution_count": null,
   "id": "b0d79518",
   "metadata": {},
   "outputs": [],
   "source": [
    "# Defining a function to categorize merchants based on their names\n",
    "def count_category(row):\n",
    "    if re.search(r'RESTAURANT|HOTEL|SANDWICH|KEBAB|TAKEAWAY|LUNCH|COOKSHOP|BUTCHER|STEAK|SEAFOOD|ROASTERIE', row):\n",
    "        return 'Food'\n",
    "    elif re.search(r'PUB|BAR|WINE|COCKTAIL|WHISKEY|G&T|LIQUOR|BUTCHER|STEAK|SEAFOOD|ROASTERIE', row):\n",
    "        return 'Pub'\n",
    "    elif re.search(r'COFFEE|CAFE|TEA', row):\n",
    "        return 'Cafe'\n",
    "    elif re.search(r'SUPERMARKET|DEPARTMENT|GREENGROCER', row):\n",
    "        return 'Supermarket'\n",
    "    elif re.search(r'SPORT|GYM|WEIGHTING|TO_BEAN|RUNNING', row):\n",
    "        return 'Fitness'\n",
    "    elif re.search(r'ELECTRONIC|TECH', row):\n",
    "        return 'Electronics'\n",
    "    elif re.search(r'CLOTH|FASHION', row):\n",
    "        return 'Fashion'\n",
    "    elif re.search(r'SCHOOL|CHILDREN|KIDS_ACTIVITY_CENTRE|GAME', row):\n",
    "        return 'Kids'\n",
    "    elif re.search(r'BOOK', row):\n",
    "        return 'Books'\n",
    "    else:\n",
    "        return 'Miscellaneous'\n",
    "\n",
    "# Applying the function to 'to_randomly_generated_account' column of df_merch and counting the categories\n",
    "df_merch_types[\"Count\"] = df_merch['to_randomly_generated_account'].apply(lambda x: count_category(x)).value_counts()"
   ]
  },
  {
   "cell_type": "code",
   "execution_count": null,
   "id": "f6653416",
   "metadata": {},
   "outputs": [],
   "source": [
    "# Sorting the dataframe based on the count of merchant categories in descending order\n",
    "df_merch_types = df_merch_types.sort_values(by=[\"Count\"], ascending=False)"
   ]
  },
  {
   "cell_type": "code",
   "execution_count": null,
   "id": "0c485d13",
   "metadata": {},
   "outputs": [],
   "source": [
    "# Calculating the total number of transactions categorized by merchant types\n",
    "df_merch_types[\"Count\"].sum()"
   ]
  },
  {
   "cell_type": "markdown",
   "id": "dd1ab049",
   "metadata": {},
   "source": [
    "### Inference : The count of merchant types is same as the number of rows in C-B transactions proving that there was no data loss when grouping different businesses based on their types"
   ]
  },
  {
   "cell_type": "code",
   "execution_count": null,
   "id": "434e69b4",
   "metadata": {},
   "outputs": [],
   "source": [
    "# Creating a line plot to plot the C-B transactions based on their types\n",
    "sns.lineplot(data=df_merch_types, x=df_merch_types.index, y=\"Count\")"
   ]
  },
  {
   "cell_type": "code",
   "execution_count": null,
   "id": "62a2673e",
   "metadata": {},
   "outputs": [],
   "source": [
    "# Creating a bar plot to plot the C-B transactions based on their types\n",
    "ax = df_merch_types.plot.bar(rot=0, figsize=(20, 8.27), color=colors)\n",
    "\n",
    "ax.set_xlabel('Popular Expenses based on categories')\n",
    "ax.set_ylabel('No. of transactions')\n",
    "ax.set_title('C-B transactions')\n",
    "\n",
    "# Showing the plot\n",
    "plt.show()\n"
   ]
  },
  {
   "cell_type": "code",
   "execution_count": null,
   "id": "bccc2a11",
   "metadata": {},
   "outputs": [],
   "source": [
    "# Setting the size of the figure using seaborn's set function\n",
    "sns.set(rc={'figure.figsize':(20,8.27)})\n",
    "\n",
    "# Creating a barplot using seaborn and storing the axes object in variable ax\n",
    "ax = sns.barplot(x=top_10_exp.index, y=top_10_exp.values, palette=\"Accent_r\")\n",
    "ax.set(xlabel='Popular Expenses', ylabel='No. of Transactions')\n",
    "plt.show()"
   ]
  },
  {
   "cell_type": "markdown",
   "id": "721ad28b",
   "metadata": {},
   "source": [
    "## Inference: The above visualisations shows the difference that, although the most transacted C-B was pub when considering a particular business, the most transacted type of business was cafe when all the businesses were grouped based on their types"
   ]
  }
 ],
 "metadata": {
  "kernelspec": {
   "display_name": "Python 3 (ipykernel)",
   "language": "python",
   "name": "python3"
  },
  "language_info": {
   "codemirror_mode": {
    "name": "ipython",
    "version": 3
   },
   "file_extension": ".py",
   "mimetype": "text/x-python",
   "name": "python",
   "nbconvert_exporter": "python",
   "pygments_lexer": "ipython3",
   "version": "3.9.12"
  }
 },
 "nbformat": 4,
 "nbformat_minor": 5
}
